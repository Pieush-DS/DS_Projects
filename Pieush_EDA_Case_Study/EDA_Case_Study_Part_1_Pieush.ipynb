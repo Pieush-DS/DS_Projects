{
 "cells": [
  {
   "cell_type": "code",
   "execution_count": 4,
   "metadata": {},
   "outputs": [],
   "source": [
    "# Filtering out the warnings\n",
    "import warnings\n",
    "warnings.filterwarnings('ignore')\n"
   ]
  },
  {
   "cell_type": "code",
   "execution_count": 5,
   "metadata": {},
   "outputs": [],
   "source": [
    "# Importing the required libraries\n",
    "import numpy as np\n",
    "import pandas as pd\n",
    "import seaborn as sns\n",
    "from scipy import stats\n",
    "import matplotlib.pyplot as plt\n"
   ]
  },
  {
   "cell_type": "code",
   "execution_count": 6,
   "metadata": {},
   "outputs": [],
   "source": [
    "# To set the Row, Column and Width of the Dataframe to show on Hupyter Notebook\n",
    "pd.set_option('display.max_rows',500)\n",
    "pd.set_option('display.max_columns',500)\n",
    "pd.set_option('display.width',1000)\n"
   ]
  },
  {
   "cell_type": "markdown",
   "metadata": {},
   "source": [
    "# <font color = blue> EDA Case Study </font>\n",
    "\n",
    "We have two different dataset which having all the informations of the client at the time of application that whether a client has payment difficulties or not and another dataset is related to the previous loan data which contains the data whether the previous application had been approval, cancelled, refused or unused offer.  \n",
    "In this assignment, we will try to find some interesting insights if a client has difficulty paying their installments which may be used for taking action related to loan, using Python."
   ]
  },
  {
   "cell_type": "markdown",
   "metadata": {},
   "source": [
    "##  Task 1: Reading the data"
   ]
  },
  {
   "cell_type": "markdown",
   "metadata": {},
   "source": [
    "- ### Subtask 1.1: Read the Application Data.\n",
    "\n",
    "Read the EDA Application data file provided and store it in a dataframe `EDA_App`.\n",
    "It is about whether a client has payment difficulties.\n",
    "\n",
    "Read the EDA Previous Application data file provided and store it in a dataframe `EDA_Prev_App`.\n",
    "It contains the data whether the previous application had been approved, cancelled, refused or unused offer.\n"
   ]
  },
  {
   "cell_type": "code",
   "execution_count": 7,
   "metadata": {},
   "outputs": [],
   "source": [
    "# Read the csv file using 'read_csv'.\n",
    "EDA_App = pd.read_csv(\"F:/UpGrade/M_13_Case Study/Credit EDA Case Study-20210323T115611Z-001/Credit EDA Case Study/application_data.csv\")"
   ]
  },
  {
   "cell_type": "code",
   "execution_count": 8,
   "metadata": {},
   "outputs": [
    {
     "data": {
      "text/html": [
       "<div>\n",
       "<style scoped>\n",
       "    .dataframe tbody tr th:only-of-type {\n",
       "        vertical-align: middle;\n",
       "    }\n",
       "\n",
       "    .dataframe tbody tr th {\n",
       "        vertical-align: top;\n",
       "    }\n",
       "\n",
       "    .dataframe thead th {\n",
       "        text-align: right;\n",
       "    }\n",
       "</style>\n",
       "<table border=\"1\" class=\"dataframe\">\n",
       "  <thead>\n",
       "    <tr style=\"text-align: right;\">\n",
       "      <th></th>\n",
       "      <th>SK_ID_CURR</th>\n",
       "      <th>TARGET</th>\n",
       "      <th>NAME_CONTRACT_TYPE</th>\n",
       "      <th>CODE_GENDER</th>\n",
       "      <th>FLAG_OWN_CAR</th>\n",
       "      <th>FLAG_OWN_REALTY</th>\n",
       "      <th>CNT_CHILDREN</th>\n",
       "      <th>AMT_INCOME_TOTAL</th>\n",
       "      <th>AMT_CREDIT</th>\n",
       "      <th>AMT_ANNUITY</th>\n",
       "      <th>AMT_GOODS_PRICE</th>\n",
       "      <th>NAME_TYPE_SUITE</th>\n",
       "      <th>NAME_INCOME_TYPE</th>\n",
       "      <th>NAME_EDUCATION_TYPE</th>\n",
       "      <th>NAME_FAMILY_STATUS</th>\n",
       "      <th>NAME_HOUSING_TYPE</th>\n",
       "      <th>REGION_POPULATION_RELATIVE</th>\n",
       "      <th>DAYS_BIRTH</th>\n",
       "      <th>DAYS_EMPLOYED</th>\n",
       "      <th>DAYS_REGISTRATION</th>\n",
       "      <th>DAYS_ID_PUBLISH</th>\n",
       "      <th>OWN_CAR_AGE</th>\n",
       "      <th>FLAG_MOBIL</th>\n",
       "      <th>FLAG_EMP_PHONE</th>\n",
       "      <th>FLAG_WORK_PHONE</th>\n",
       "      <th>FLAG_CONT_MOBILE</th>\n",
       "      <th>FLAG_PHONE</th>\n",
       "      <th>FLAG_EMAIL</th>\n",
       "      <th>OCCUPATION_TYPE</th>\n",
       "      <th>CNT_FAM_MEMBERS</th>\n",
       "      <th>REGION_RATING_CLIENT</th>\n",
       "      <th>REGION_RATING_CLIENT_W_CITY</th>\n",
       "      <th>WEEKDAY_APPR_PROCESS_START</th>\n",
       "      <th>HOUR_APPR_PROCESS_START</th>\n",
       "      <th>REG_REGION_NOT_LIVE_REGION</th>\n",
       "      <th>REG_REGION_NOT_WORK_REGION</th>\n",
       "      <th>LIVE_REGION_NOT_WORK_REGION</th>\n",
       "      <th>REG_CITY_NOT_LIVE_CITY</th>\n",
       "      <th>REG_CITY_NOT_WORK_CITY</th>\n",
       "      <th>LIVE_CITY_NOT_WORK_CITY</th>\n",
       "      <th>ORGANIZATION_TYPE</th>\n",
       "      <th>EXT_SOURCE_1</th>\n",
       "      <th>EXT_SOURCE_2</th>\n",
       "      <th>EXT_SOURCE_3</th>\n",
       "      <th>APARTMENTS_AVG</th>\n",
       "      <th>BASEMENTAREA_AVG</th>\n",
       "      <th>YEARS_BEGINEXPLUATATION_AVG</th>\n",
       "      <th>YEARS_BUILD_AVG</th>\n",
       "      <th>COMMONAREA_AVG</th>\n",
       "      <th>ELEVATORS_AVG</th>\n",
       "      <th>ENTRANCES_AVG</th>\n",
       "      <th>FLOORSMAX_AVG</th>\n",
       "      <th>FLOORSMIN_AVG</th>\n",
       "      <th>LANDAREA_AVG</th>\n",
       "      <th>LIVINGAPARTMENTS_AVG</th>\n",
       "      <th>LIVINGAREA_AVG</th>\n",
       "      <th>NONLIVINGAPARTMENTS_AVG</th>\n",
       "      <th>NONLIVINGAREA_AVG</th>\n",
       "      <th>APARTMENTS_MODE</th>\n",
       "      <th>BASEMENTAREA_MODE</th>\n",
       "      <th>YEARS_BEGINEXPLUATATION_MODE</th>\n",
       "      <th>YEARS_BUILD_MODE</th>\n",
       "      <th>COMMONAREA_MODE</th>\n",
       "      <th>ELEVATORS_MODE</th>\n",
       "      <th>ENTRANCES_MODE</th>\n",
       "      <th>FLOORSMAX_MODE</th>\n",
       "      <th>FLOORSMIN_MODE</th>\n",
       "      <th>LANDAREA_MODE</th>\n",
       "      <th>LIVINGAPARTMENTS_MODE</th>\n",
       "      <th>LIVINGAREA_MODE</th>\n",
       "      <th>NONLIVINGAPARTMENTS_MODE</th>\n",
       "      <th>NONLIVINGAREA_MODE</th>\n",
       "      <th>APARTMENTS_MEDI</th>\n",
       "      <th>BASEMENTAREA_MEDI</th>\n",
       "      <th>YEARS_BEGINEXPLUATATION_MEDI</th>\n",
       "      <th>YEARS_BUILD_MEDI</th>\n",
       "      <th>COMMONAREA_MEDI</th>\n",
       "      <th>ELEVATORS_MEDI</th>\n",
       "      <th>ENTRANCES_MEDI</th>\n",
       "      <th>FLOORSMAX_MEDI</th>\n",
       "      <th>FLOORSMIN_MEDI</th>\n",
       "      <th>LANDAREA_MEDI</th>\n",
       "      <th>LIVINGAPARTMENTS_MEDI</th>\n",
       "      <th>LIVINGAREA_MEDI</th>\n",
       "      <th>NONLIVINGAPARTMENTS_MEDI</th>\n",
       "      <th>NONLIVINGAREA_MEDI</th>\n",
       "      <th>FONDKAPREMONT_MODE</th>\n",
       "      <th>HOUSETYPE_MODE</th>\n",
       "      <th>TOTALAREA_MODE</th>\n",
       "      <th>WALLSMATERIAL_MODE</th>\n",
       "      <th>EMERGENCYSTATE_MODE</th>\n",
       "      <th>OBS_30_CNT_SOCIAL_CIRCLE</th>\n",
       "      <th>DEF_30_CNT_SOCIAL_CIRCLE</th>\n",
       "      <th>OBS_60_CNT_SOCIAL_CIRCLE</th>\n",
       "      <th>DEF_60_CNT_SOCIAL_CIRCLE</th>\n",
       "      <th>DAYS_LAST_PHONE_CHANGE</th>\n",
       "      <th>FLAG_DOCUMENT_2</th>\n",
       "      <th>FLAG_DOCUMENT_3</th>\n",
       "      <th>FLAG_DOCUMENT_4</th>\n",
       "      <th>FLAG_DOCUMENT_5</th>\n",
       "      <th>FLAG_DOCUMENT_6</th>\n",
       "      <th>FLAG_DOCUMENT_7</th>\n",
       "      <th>FLAG_DOCUMENT_8</th>\n",
       "      <th>FLAG_DOCUMENT_9</th>\n",
       "      <th>FLAG_DOCUMENT_10</th>\n",
       "      <th>FLAG_DOCUMENT_11</th>\n",
       "      <th>FLAG_DOCUMENT_12</th>\n",
       "      <th>FLAG_DOCUMENT_13</th>\n",
       "      <th>FLAG_DOCUMENT_14</th>\n",
       "      <th>FLAG_DOCUMENT_15</th>\n",
       "      <th>FLAG_DOCUMENT_16</th>\n",
       "      <th>FLAG_DOCUMENT_17</th>\n",
       "      <th>FLAG_DOCUMENT_18</th>\n",
       "      <th>FLAG_DOCUMENT_19</th>\n",
       "      <th>FLAG_DOCUMENT_20</th>\n",
       "      <th>FLAG_DOCUMENT_21</th>\n",
       "      <th>AMT_REQ_CREDIT_BUREAU_HOUR</th>\n",
       "      <th>AMT_REQ_CREDIT_BUREAU_DAY</th>\n",
       "      <th>AMT_REQ_CREDIT_BUREAU_WEEK</th>\n",
       "      <th>AMT_REQ_CREDIT_BUREAU_MON</th>\n",
       "      <th>AMT_REQ_CREDIT_BUREAU_QRT</th>\n",
       "      <th>AMT_REQ_CREDIT_BUREAU_YEAR</th>\n",
       "    </tr>\n",
       "  </thead>\n",
       "  <tbody>\n",
       "    <tr>\n",
       "      <th>0</th>\n",
       "      <td>100002</td>\n",
       "      <td>1</td>\n",
       "      <td>Cash loans</td>\n",
       "      <td>M</td>\n",
       "      <td>N</td>\n",
       "      <td>Y</td>\n",
       "      <td>0</td>\n",
       "      <td>202500.0</td>\n",
       "      <td>406597.5</td>\n",
       "      <td>24700.5</td>\n",
       "      <td>351000.0</td>\n",
       "      <td>Unaccompanied</td>\n",
       "      <td>Working</td>\n",
       "      <td>Secondary / secondary special</td>\n",
       "      <td>Single / not married</td>\n",
       "      <td>House / apartment</td>\n",
       "      <td>0.018801</td>\n",
       "      <td>-9461</td>\n",
       "      <td>-637</td>\n",
       "      <td>-3648.0</td>\n",
       "      <td>-2120</td>\n",
       "      <td>NaN</td>\n",
       "      <td>1</td>\n",
       "      <td>1</td>\n",
       "      <td>0</td>\n",
       "      <td>1</td>\n",
       "      <td>1</td>\n",
       "      <td>0</td>\n",
       "      <td>Laborers</td>\n",
       "      <td>1.0</td>\n",
       "      <td>2</td>\n",
       "      <td>2</td>\n",
       "      <td>WEDNESDAY</td>\n",
       "      <td>10</td>\n",
       "      <td>0</td>\n",
       "      <td>0</td>\n",
       "      <td>0</td>\n",
       "      <td>0</td>\n",
       "      <td>0</td>\n",
       "      <td>0</td>\n",
       "      <td>Business Entity Type 3</td>\n",
       "      <td>0.083037</td>\n",
       "      <td>0.262949</td>\n",
       "      <td>0.139376</td>\n",
       "      <td>0.0247</td>\n",
       "      <td>0.0369</td>\n",
       "      <td>0.9722</td>\n",
       "      <td>0.6192</td>\n",
       "      <td>0.0143</td>\n",
       "      <td>0.00</td>\n",
       "      <td>0.0690</td>\n",
       "      <td>0.0833</td>\n",
       "      <td>0.1250</td>\n",
       "      <td>0.0369</td>\n",
       "      <td>0.0202</td>\n",
       "      <td>0.0190</td>\n",
       "      <td>0.0000</td>\n",
       "      <td>0.0000</td>\n",
       "      <td>0.0252</td>\n",
       "      <td>0.0383</td>\n",
       "      <td>0.9722</td>\n",
       "      <td>0.6341</td>\n",
       "      <td>0.0144</td>\n",
       "      <td>0.0000</td>\n",
       "      <td>0.0690</td>\n",
       "      <td>0.0833</td>\n",
       "      <td>0.1250</td>\n",
       "      <td>0.0377</td>\n",
       "      <td>0.022</td>\n",
       "      <td>0.0198</td>\n",
       "      <td>0.0</td>\n",
       "      <td>0.0</td>\n",
       "      <td>0.0250</td>\n",
       "      <td>0.0369</td>\n",
       "      <td>0.9722</td>\n",
       "      <td>0.6243</td>\n",
       "      <td>0.0144</td>\n",
       "      <td>0.00</td>\n",
       "      <td>0.0690</td>\n",
       "      <td>0.0833</td>\n",
       "      <td>0.1250</td>\n",
       "      <td>0.0375</td>\n",
       "      <td>0.0205</td>\n",
       "      <td>0.0193</td>\n",
       "      <td>0.0000</td>\n",
       "      <td>0.00</td>\n",
       "      <td>reg oper account</td>\n",
       "      <td>block of flats</td>\n",
       "      <td>0.0149</td>\n",
       "      <td>Stone, brick</td>\n",
       "      <td>No</td>\n",
       "      <td>2.0</td>\n",
       "      <td>2.0</td>\n",
       "      <td>2.0</td>\n",
       "      <td>2.0</td>\n",
       "      <td>-1134.0</td>\n",
       "      <td>0</td>\n",
       "      <td>1</td>\n",
       "      <td>0</td>\n",
       "      <td>0</td>\n",
       "      <td>0</td>\n",
       "      <td>0</td>\n",
       "      <td>0</td>\n",
       "      <td>0</td>\n",
       "      <td>0</td>\n",
       "      <td>0</td>\n",
       "      <td>0</td>\n",
       "      <td>0</td>\n",
       "      <td>0</td>\n",
       "      <td>0</td>\n",
       "      <td>0</td>\n",
       "      <td>0</td>\n",
       "      <td>0</td>\n",
       "      <td>0</td>\n",
       "      <td>0</td>\n",
       "      <td>0</td>\n",
       "      <td>0.0</td>\n",
       "      <td>0.0</td>\n",
       "      <td>0.0</td>\n",
       "      <td>0.0</td>\n",
       "      <td>0.0</td>\n",
       "      <td>1.0</td>\n",
       "    </tr>\n",
       "    <tr>\n",
       "      <th>1</th>\n",
       "      <td>100003</td>\n",
       "      <td>0</td>\n",
       "      <td>Cash loans</td>\n",
       "      <td>F</td>\n",
       "      <td>N</td>\n",
       "      <td>N</td>\n",
       "      <td>0</td>\n",
       "      <td>270000.0</td>\n",
       "      <td>1293502.5</td>\n",
       "      <td>35698.5</td>\n",
       "      <td>1129500.0</td>\n",
       "      <td>Family</td>\n",
       "      <td>State servant</td>\n",
       "      <td>Higher education</td>\n",
       "      <td>Married</td>\n",
       "      <td>House / apartment</td>\n",
       "      <td>0.003541</td>\n",
       "      <td>-16765</td>\n",
       "      <td>-1188</td>\n",
       "      <td>-1186.0</td>\n",
       "      <td>-291</td>\n",
       "      <td>NaN</td>\n",
       "      <td>1</td>\n",
       "      <td>1</td>\n",
       "      <td>0</td>\n",
       "      <td>1</td>\n",
       "      <td>1</td>\n",
       "      <td>0</td>\n",
       "      <td>Core staff</td>\n",
       "      <td>2.0</td>\n",
       "      <td>1</td>\n",
       "      <td>1</td>\n",
       "      <td>MONDAY</td>\n",
       "      <td>11</td>\n",
       "      <td>0</td>\n",
       "      <td>0</td>\n",
       "      <td>0</td>\n",
       "      <td>0</td>\n",
       "      <td>0</td>\n",
       "      <td>0</td>\n",
       "      <td>School</td>\n",
       "      <td>0.311267</td>\n",
       "      <td>0.622246</td>\n",
       "      <td>NaN</td>\n",
       "      <td>0.0959</td>\n",
       "      <td>0.0529</td>\n",
       "      <td>0.9851</td>\n",
       "      <td>0.7960</td>\n",
       "      <td>0.0605</td>\n",
       "      <td>0.08</td>\n",
       "      <td>0.0345</td>\n",
       "      <td>0.2917</td>\n",
       "      <td>0.3333</td>\n",
       "      <td>0.0130</td>\n",
       "      <td>0.0773</td>\n",
       "      <td>0.0549</td>\n",
       "      <td>0.0039</td>\n",
       "      <td>0.0098</td>\n",
       "      <td>0.0924</td>\n",
       "      <td>0.0538</td>\n",
       "      <td>0.9851</td>\n",
       "      <td>0.8040</td>\n",
       "      <td>0.0497</td>\n",
       "      <td>0.0806</td>\n",
       "      <td>0.0345</td>\n",
       "      <td>0.2917</td>\n",
       "      <td>0.3333</td>\n",
       "      <td>0.0128</td>\n",
       "      <td>0.079</td>\n",
       "      <td>0.0554</td>\n",
       "      <td>0.0</td>\n",
       "      <td>0.0</td>\n",
       "      <td>0.0968</td>\n",
       "      <td>0.0529</td>\n",
       "      <td>0.9851</td>\n",
       "      <td>0.7987</td>\n",
       "      <td>0.0608</td>\n",
       "      <td>0.08</td>\n",
       "      <td>0.0345</td>\n",
       "      <td>0.2917</td>\n",
       "      <td>0.3333</td>\n",
       "      <td>0.0132</td>\n",
       "      <td>0.0787</td>\n",
       "      <td>0.0558</td>\n",
       "      <td>0.0039</td>\n",
       "      <td>0.01</td>\n",
       "      <td>reg oper account</td>\n",
       "      <td>block of flats</td>\n",
       "      <td>0.0714</td>\n",
       "      <td>Block</td>\n",
       "      <td>No</td>\n",
       "      <td>1.0</td>\n",
       "      <td>0.0</td>\n",
       "      <td>1.0</td>\n",
       "      <td>0.0</td>\n",
       "      <td>-828.0</td>\n",
       "      <td>0</td>\n",
       "      <td>1</td>\n",
       "      <td>0</td>\n",
       "      <td>0</td>\n",
       "      <td>0</td>\n",
       "      <td>0</td>\n",
       "      <td>0</td>\n",
       "      <td>0</td>\n",
       "      <td>0</td>\n",
       "      <td>0</td>\n",
       "      <td>0</td>\n",
       "      <td>0</td>\n",
       "      <td>0</td>\n",
       "      <td>0</td>\n",
       "      <td>0</td>\n",
       "      <td>0</td>\n",
       "      <td>0</td>\n",
       "      <td>0</td>\n",
       "      <td>0</td>\n",
       "      <td>0</td>\n",
       "      <td>0.0</td>\n",
       "      <td>0.0</td>\n",
       "      <td>0.0</td>\n",
       "      <td>0.0</td>\n",
       "      <td>0.0</td>\n",
       "      <td>0.0</td>\n",
       "    </tr>\n",
       "    <tr>\n",
       "      <th>2</th>\n",
       "      <td>100004</td>\n",
       "      <td>0</td>\n",
       "      <td>Revolving loans</td>\n",
       "      <td>M</td>\n",
       "      <td>Y</td>\n",
       "      <td>Y</td>\n",
       "      <td>0</td>\n",
       "      <td>67500.0</td>\n",
       "      <td>135000.0</td>\n",
       "      <td>6750.0</td>\n",
       "      <td>135000.0</td>\n",
       "      <td>Unaccompanied</td>\n",
       "      <td>Working</td>\n",
       "      <td>Secondary / secondary special</td>\n",
       "      <td>Single / not married</td>\n",
       "      <td>House / apartment</td>\n",
       "      <td>0.010032</td>\n",
       "      <td>-19046</td>\n",
       "      <td>-225</td>\n",
       "      <td>-4260.0</td>\n",
       "      <td>-2531</td>\n",
       "      <td>26.0</td>\n",
       "      <td>1</td>\n",
       "      <td>1</td>\n",
       "      <td>1</td>\n",
       "      <td>1</td>\n",
       "      <td>1</td>\n",
       "      <td>0</td>\n",
       "      <td>Laborers</td>\n",
       "      <td>1.0</td>\n",
       "      <td>2</td>\n",
       "      <td>2</td>\n",
       "      <td>MONDAY</td>\n",
       "      <td>9</td>\n",
       "      <td>0</td>\n",
       "      <td>0</td>\n",
       "      <td>0</td>\n",
       "      <td>0</td>\n",
       "      <td>0</td>\n",
       "      <td>0</td>\n",
       "      <td>Government</td>\n",
       "      <td>NaN</td>\n",
       "      <td>0.555912</td>\n",
       "      <td>0.729567</td>\n",
       "      <td>NaN</td>\n",
       "      <td>NaN</td>\n",
       "      <td>NaN</td>\n",
       "      <td>NaN</td>\n",
       "      <td>NaN</td>\n",
       "      <td>NaN</td>\n",
       "      <td>NaN</td>\n",
       "      <td>NaN</td>\n",
       "      <td>NaN</td>\n",
       "      <td>NaN</td>\n",
       "      <td>NaN</td>\n",
       "      <td>NaN</td>\n",
       "      <td>NaN</td>\n",
       "      <td>NaN</td>\n",
       "      <td>NaN</td>\n",
       "      <td>NaN</td>\n",
       "      <td>NaN</td>\n",
       "      <td>NaN</td>\n",
       "      <td>NaN</td>\n",
       "      <td>NaN</td>\n",
       "      <td>NaN</td>\n",
       "      <td>NaN</td>\n",
       "      <td>NaN</td>\n",
       "      <td>NaN</td>\n",
       "      <td>NaN</td>\n",
       "      <td>NaN</td>\n",
       "      <td>NaN</td>\n",
       "      <td>NaN</td>\n",
       "      <td>NaN</td>\n",
       "      <td>NaN</td>\n",
       "      <td>NaN</td>\n",
       "      <td>NaN</td>\n",
       "      <td>NaN</td>\n",
       "      <td>NaN</td>\n",
       "      <td>NaN</td>\n",
       "      <td>NaN</td>\n",
       "      <td>NaN</td>\n",
       "      <td>NaN</td>\n",
       "      <td>NaN</td>\n",
       "      <td>NaN</td>\n",
       "      <td>NaN</td>\n",
       "      <td>NaN</td>\n",
       "      <td>NaN</td>\n",
       "      <td>NaN</td>\n",
       "      <td>NaN</td>\n",
       "      <td>NaN</td>\n",
       "      <td>NaN</td>\n",
       "      <td>0.0</td>\n",
       "      <td>0.0</td>\n",
       "      <td>0.0</td>\n",
       "      <td>0.0</td>\n",
       "      <td>-815.0</td>\n",
       "      <td>0</td>\n",
       "      <td>0</td>\n",
       "      <td>0</td>\n",
       "      <td>0</td>\n",
       "      <td>0</td>\n",
       "      <td>0</td>\n",
       "      <td>0</td>\n",
       "      <td>0</td>\n",
       "      <td>0</td>\n",
       "      <td>0</td>\n",
       "      <td>0</td>\n",
       "      <td>0</td>\n",
       "      <td>0</td>\n",
       "      <td>0</td>\n",
       "      <td>0</td>\n",
       "      <td>0</td>\n",
       "      <td>0</td>\n",
       "      <td>0</td>\n",
       "      <td>0</td>\n",
       "      <td>0</td>\n",
       "      <td>0.0</td>\n",
       "      <td>0.0</td>\n",
       "      <td>0.0</td>\n",
       "      <td>0.0</td>\n",
       "      <td>0.0</td>\n",
       "      <td>0.0</td>\n",
       "    </tr>\n",
       "    <tr>\n",
       "      <th>3</th>\n",
       "      <td>100006</td>\n",
       "      <td>0</td>\n",
       "      <td>Cash loans</td>\n",
       "      <td>F</td>\n",
       "      <td>N</td>\n",
       "      <td>Y</td>\n",
       "      <td>0</td>\n",
       "      <td>135000.0</td>\n",
       "      <td>312682.5</td>\n",
       "      <td>29686.5</td>\n",
       "      <td>297000.0</td>\n",
       "      <td>Unaccompanied</td>\n",
       "      <td>Working</td>\n",
       "      <td>Secondary / secondary special</td>\n",
       "      <td>Civil marriage</td>\n",
       "      <td>House / apartment</td>\n",
       "      <td>0.008019</td>\n",
       "      <td>-19005</td>\n",
       "      <td>-3039</td>\n",
       "      <td>-9833.0</td>\n",
       "      <td>-2437</td>\n",
       "      <td>NaN</td>\n",
       "      <td>1</td>\n",
       "      <td>1</td>\n",
       "      <td>0</td>\n",
       "      <td>1</td>\n",
       "      <td>0</td>\n",
       "      <td>0</td>\n",
       "      <td>Laborers</td>\n",
       "      <td>2.0</td>\n",
       "      <td>2</td>\n",
       "      <td>2</td>\n",
       "      <td>WEDNESDAY</td>\n",
       "      <td>17</td>\n",
       "      <td>0</td>\n",
       "      <td>0</td>\n",
       "      <td>0</td>\n",
       "      <td>0</td>\n",
       "      <td>0</td>\n",
       "      <td>0</td>\n",
       "      <td>Business Entity Type 3</td>\n",
       "      <td>NaN</td>\n",
       "      <td>0.650442</td>\n",
       "      <td>NaN</td>\n",
       "      <td>NaN</td>\n",
       "      <td>NaN</td>\n",
       "      <td>NaN</td>\n",
       "      <td>NaN</td>\n",
       "      <td>NaN</td>\n",
       "      <td>NaN</td>\n",
       "      <td>NaN</td>\n",
       "      <td>NaN</td>\n",
       "      <td>NaN</td>\n",
       "      <td>NaN</td>\n",
       "      <td>NaN</td>\n",
       "      <td>NaN</td>\n",
       "      <td>NaN</td>\n",
       "      <td>NaN</td>\n",
       "      <td>NaN</td>\n",
       "      <td>NaN</td>\n",
       "      <td>NaN</td>\n",
       "      <td>NaN</td>\n",
       "      <td>NaN</td>\n",
       "      <td>NaN</td>\n",
       "      <td>NaN</td>\n",
       "      <td>NaN</td>\n",
       "      <td>NaN</td>\n",
       "      <td>NaN</td>\n",
       "      <td>NaN</td>\n",
       "      <td>NaN</td>\n",
       "      <td>NaN</td>\n",
       "      <td>NaN</td>\n",
       "      <td>NaN</td>\n",
       "      <td>NaN</td>\n",
       "      <td>NaN</td>\n",
       "      <td>NaN</td>\n",
       "      <td>NaN</td>\n",
       "      <td>NaN</td>\n",
       "      <td>NaN</td>\n",
       "      <td>NaN</td>\n",
       "      <td>NaN</td>\n",
       "      <td>NaN</td>\n",
       "      <td>NaN</td>\n",
       "      <td>NaN</td>\n",
       "      <td>NaN</td>\n",
       "      <td>NaN</td>\n",
       "      <td>NaN</td>\n",
       "      <td>NaN</td>\n",
       "      <td>NaN</td>\n",
       "      <td>NaN</td>\n",
       "      <td>NaN</td>\n",
       "      <td>2.0</td>\n",
       "      <td>0.0</td>\n",
       "      <td>2.0</td>\n",
       "      <td>0.0</td>\n",
       "      <td>-617.0</td>\n",
       "      <td>0</td>\n",
       "      <td>1</td>\n",
       "      <td>0</td>\n",
       "      <td>0</td>\n",
       "      <td>0</td>\n",
       "      <td>0</td>\n",
       "      <td>0</td>\n",
       "      <td>0</td>\n",
       "      <td>0</td>\n",
       "      <td>0</td>\n",
       "      <td>0</td>\n",
       "      <td>0</td>\n",
       "      <td>0</td>\n",
       "      <td>0</td>\n",
       "      <td>0</td>\n",
       "      <td>0</td>\n",
       "      <td>0</td>\n",
       "      <td>0</td>\n",
       "      <td>0</td>\n",
       "      <td>0</td>\n",
       "      <td>NaN</td>\n",
       "      <td>NaN</td>\n",
       "      <td>NaN</td>\n",
       "      <td>NaN</td>\n",
       "      <td>NaN</td>\n",
       "      <td>NaN</td>\n",
       "    </tr>\n",
       "    <tr>\n",
       "      <th>4</th>\n",
       "      <td>100007</td>\n",
       "      <td>0</td>\n",
       "      <td>Cash loans</td>\n",
       "      <td>M</td>\n",
       "      <td>N</td>\n",
       "      <td>Y</td>\n",
       "      <td>0</td>\n",
       "      <td>121500.0</td>\n",
       "      <td>513000.0</td>\n",
       "      <td>21865.5</td>\n",
       "      <td>513000.0</td>\n",
       "      <td>Unaccompanied</td>\n",
       "      <td>Working</td>\n",
       "      <td>Secondary / secondary special</td>\n",
       "      <td>Single / not married</td>\n",
       "      <td>House / apartment</td>\n",
       "      <td>0.028663</td>\n",
       "      <td>-19932</td>\n",
       "      <td>-3038</td>\n",
       "      <td>-4311.0</td>\n",
       "      <td>-3458</td>\n",
       "      <td>NaN</td>\n",
       "      <td>1</td>\n",
       "      <td>1</td>\n",
       "      <td>0</td>\n",
       "      <td>1</td>\n",
       "      <td>0</td>\n",
       "      <td>0</td>\n",
       "      <td>Core staff</td>\n",
       "      <td>1.0</td>\n",
       "      <td>2</td>\n",
       "      <td>2</td>\n",
       "      <td>THURSDAY</td>\n",
       "      <td>11</td>\n",
       "      <td>0</td>\n",
       "      <td>0</td>\n",
       "      <td>0</td>\n",
       "      <td>0</td>\n",
       "      <td>1</td>\n",
       "      <td>1</td>\n",
       "      <td>Religion</td>\n",
       "      <td>NaN</td>\n",
       "      <td>0.322738</td>\n",
       "      <td>NaN</td>\n",
       "      <td>NaN</td>\n",
       "      <td>NaN</td>\n",
       "      <td>NaN</td>\n",
       "      <td>NaN</td>\n",
       "      <td>NaN</td>\n",
       "      <td>NaN</td>\n",
       "      <td>NaN</td>\n",
       "      <td>NaN</td>\n",
       "      <td>NaN</td>\n",
       "      <td>NaN</td>\n",
       "      <td>NaN</td>\n",
       "      <td>NaN</td>\n",
       "      <td>NaN</td>\n",
       "      <td>NaN</td>\n",
       "      <td>NaN</td>\n",
       "      <td>NaN</td>\n",
       "      <td>NaN</td>\n",
       "      <td>NaN</td>\n",
       "      <td>NaN</td>\n",
       "      <td>NaN</td>\n",
       "      <td>NaN</td>\n",
       "      <td>NaN</td>\n",
       "      <td>NaN</td>\n",
       "      <td>NaN</td>\n",
       "      <td>NaN</td>\n",
       "      <td>NaN</td>\n",
       "      <td>NaN</td>\n",
       "      <td>NaN</td>\n",
       "      <td>NaN</td>\n",
       "      <td>NaN</td>\n",
       "      <td>NaN</td>\n",
       "      <td>NaN</td>\n",
       "      <td>NaN</td>\n",
       "      <td>NaN</td>\n",
       "      <td>NaN</td>\n",
       "      <td>NaN</td>\n",
       "      <td>NaN</td>\n",
       "      <td>NaN</td>\n",
       "      <td>NaN</td>\n",
       "      <td>NaN</td>\n",
       "      <td>NaN</td>\n",
       "      <td>NaN</td>\n",
       "      <td>NaN</td>\n",
       "      <td>NaN</td>\n",
       "      <td>NaN</td>\n",
       "      <td>NaN</td>\n",
       "      <td>NaN</td>\n",
       "      <td>0.0</td>\n",
       "      <td>0.0</td>\n",
       "      <td>0.0</td>\n",
       "      <td>0.0</td>\n",
       "      <td>-1106.0</td>\n",
       "      <td>0</td>\n",
       "      <td>0</td>\n",
       "      <td>0</td>\n",
       "      <td>0</td>\n",
       "      <td>0</td>\n",
       "      <td>0</td>\n",
       "      <td>1</td>\n",
       "      <td>0</td>\n",
       "      <td>0</td>\n",
       "      <td>0</td>\n",
       "      <td>0</td>\n",
       "      <td>0</td>\n",
       "      <td>0</td>\n",
       "      <td>0</td>\n",
       "      <td>0</td>\n",
       "      <td>0</td>\n",
       "      <td>0</td>\n",
       "      <td>0</td>\n",
       "      <td>0</td>\n",
       "      <td>0</td>\n",
       "      <td>0.0</td>\n",
       "      <td>0.0</td>\n",
       "      <td>0.0</td>\n",
       "      <td>0.0</td>\n",
       "      <td>0.0</td>\n",
       "      <td>0.0</td>\n",
       "    </tr>\n",
       "  </tbody>\n",
       "</table>\n",
       "</div>"
      ],
      "text/plain": [
       "   SK_ID_CURR  TARGET NAME_CONTRACT_TYPE CODE_GENDER FLAG_OWN_CAR FLAG_OWN_REALTY  CNT_CHILDREN  AMT_INCOME_TOTAL  AMT_CREDIT  AMT_ANNUITY  AMT_GOODS_PRICE NAME_TYPE_SUITE NAME_INCOME_TYPE            NAME_EDUCATION_TYPE    NAME_FAMILY_STATUS  NAME_HOUSING_TYPE  REGION_POPULATION_RELATIVE  DAYS_BIRTH  DAYS_EMPLOYED  DAYS_REGISTRATION  DAYS_ID_PUBLISH  OWN_CAR_AGE  FLAG_MOBIL  FLAG_EMP_PHONE  FLAG_WORK_PHONE  FLAG_CONT_MOBILE  FLAG_PHONE  FLAG_EMAIL OCCUPATION_TYPE  CNT_FAM_MEMBERS  REGION_RATING_CLIENT  REGION_RATING_CLIENT_W_CITY WEEKDAY_APPR_PROCESS_START  HOUR_APPR_PROCESS_START  REG_REGION_NOT_LIVE_REGION  REG_REGION_NOT_WORK_REGION  LIVE_REGION_NOT_WORK_REGION  REG_CITY_NOT_LIVE_CITY  REG_CITY_NOT_WORK_CITY  LIVE_CITY_NOT_WORK_CITY       ORGANIZATION_TYPE  EXT_SOURCE_1  EXT_SOURCE_2  EXT_SOURCE_3  APARTMENTS_AVG  BASEMENTAREA_AVG  YEARS_BEGINEXPLUATATION_AVG  YEARS_BUILD_AVG  COMMONAREA_AVG  ELEVATORS_AVG  ENTRANCES_AVG  FLOORSMAX_AVG  FLOORSMIN_AVG  LANDAREA_AVG  \\\n",
       "0      100002       1         Cash loans           M            N               Y             0          202500.0    406597.5      24700.5         351000.0   Unaccompanied          Working  Secondary / secondary special  Single / not married  House / apartment                    0.018801       -9461           -637            -3648.0            -2120          NaN           1               1                0                 1           1           0        Laborers              1.0                     2                            2                  WEDNESDAY                       10                           0                           0                            0                       0                       0                        0  Business Entity Type 3      0.083037      0.262949      0.139376          0.0247            0.0369                       0.9722           0.6192          0.0143           0.00         0.0690         0.0833         0.1250        0.0369   \n",
       "1      100003       0         Cash loans           F            N               N             0          270000.0   1293502.5      35698.5        1129500.0          Family    State servant               Higher education               Married  House / apartment                    0.003541      -16765          -1188            -1186.0             -291          NaN           1               1                0                 1           1           0      Core staff              2.0                     1                            1                     MONDAY                       11                           0                           0                            0                       0                       0                        0                  School      0.311267      0.622246           NaN          0.0959            0.0529                       0.9851           0.7960          0.0605           0.08         0.0345         0.2917         0.3333        0.0130   \n",
       "2      100004       0    Revolving loans           M            Y               Y             0           67500.0    135000.0       6750.0         135000.0   Unaccompanied          Working  Secondary / secondary special  Single / not married  House / apartment                    0.010032      -19046           -225            -4260.0            -2531         26.0           1               1                1                 1           1           0        Laborers              1.0                     2                            2                     MONDAY                        9                           0                           0                            0                       0                       0                        0              Government           NaN      0.555912      0.729567             NaN               NaN                          NaN              NaN             NaN            NaN            NaN            NaN            NaN           NaN   \n",
       "3      100006       0         Cash loans           F            N               Y             0          135000.0    312682.5      29686.5         297000.0   Unaccompanied          Working  Secondary / secondary special        Civil marriage  House / apartment                    0.008019      -19005          -3039            -9833.0            -2437          NaN           1               1                0                 1           0           0        Laborers              2.0                     2                            2                  WEDNESDAY                       17                           0                           0                            0                       0                       0                        0  Business Entity Type 3           NaN      0.650442           NaN             NaN               NaN                          NaN              NaN             NaN            NaN            NaN            NaN            NaN           NaN   \n",
       "4      100007       0         Cash loans           M            N               Y             0          121500.0    513000.0      21865.5         513000.0   Unaccompanied          Working  Secondary / secondary special  Single / not married  House / apartment                    0.028663      -19932          -3038            -4311.0            -3458          NaN           1               1                0                 1           0           0      Core staff              1.0                     2                            2                   THURSDAY                       11                           0                           0                            0                       0                       1                        1                Religion           NaN      0.322738           NaN             NaN               NaN                          NaN              NaN             NaN            NaN            NaN            NaN            NaN           NaN   \n",
       "\n",
       "   LIVINGAPARTMENTS_AVG  LIVINGAREA_AVG  NONLIVINGAPARTMENTS_AVG  NONLIVINGAREA_AVG  APARTMENTS_MODE  BASEMENTAREA_MODE  YEARS_BEGINEXPLUATATION_MODE  YEARS_BUILD_MODE  COMMONAREA_MODE  ELEVATORS_MODE  ENTRANCES_MODE  FLOORSMAX_MODE  FLOORSMIN_MODE  LANDAREA_MODE  LIVINGAPARTMENTS_MODE  LIVINGAREA_MODE  NONLIVINGAPARTMENTS_MODE  NONLIVINGAREA_MODE  APARTMENTS_MEDI  BASEMENTAREA_MEDI  YEARS_BEGINEXPLUATATION_MEDI  YEARS_BUILD_MEDI  COMMONAREA_MEDI  ELEVATORS_MEDI  ENTRANCES_MEDI  FLOORSMAX_MEDI  FLOORSMIN_MEDI  LANDAREA_MEDI  LIVINGAPARTMENTS_MEDI  LIVINGAREA_MEDI  NONLIVINGAPARTMENTS_MEDI  NONLIVINGAREA_MEDI FONDKAPREMONT_MODE  HOUSETYPE_MODE  TOTALAREA_MODE WALLSMATERIAL_MODE EMERGENCYSTATE_MODE  OBS_30_CNT_SOCIAL_CIRCLE  DEF_30_CNT_SOCIAL_CIRCLE  OBS_60_CNT_SOCIAL_CIRCLE  DEF_60_CNT_SOCIAL_CIRCLE  DAYS_LAST_PHONE_CHANGE  FLAG_DOCUMENT_2  FLAG_DOCUMENT_3  FLAG_DOCUMENT_4  FLAG_DOCUMENT_5  FLAG_DOCUMENT_6  FLAG_DOCUMENT_7  FLAG_DOCUMENT_8  FLAG_DOCUMENT_9  FLAG_DOCUMENT_10  \\\n",
       "0                0.0202          0.0190                   0.0000             0.0000           0.0252             0.0383                        0.9722            0.6341           0.0144          0.0000          0.0690          0.0833          0.1250         0.0377                  0.022           0.0198                       0.0                 0.0           0.0250             0.0369                        0.9722            0.6243           0.0144            0.00          0.0690          0.0833          0.1250         0.0375                 0.0205           0.0193                    0.0000                0.00   reg oper account  block of flats          0.0149       Stone, brick                  No                       2.0                       2.0                       2.0                       2.0                 -1134.0                0                1                0                0                0                0                0                0                 0   \n",
       "1                0.0773          0.0549                   0.0039             0.0098           0.0924             0.0538                        0.9851            0.8040           0.0497          0.0806          0.0345          0.2917          0.3333         0.0128                  0.079           0.0554                       0.0                 0.0           0.0968             0.0529                        0.9851            0.7987           0.0608            0.08          0.0345          0.2917          0.3333         0.0132                 0.0787           0.0558                    0.0039                0.01   reg oper account  block of flats          0.0714              Block                  No                       1.0                       0.0                       1.0                       0.0                  -828.0                0                1                0                0                0                0                0                0                 0   \n",
       "2                   NaN             NaN                      NaN                NaN              NaN                NaN                           NaN               NaN              NaN             NaN             NaN             NaN             NaN            NaN                    NaN              NaN                       NaN                 NaN              NaN                NaN                           NaN               NaN              NaN             NaN             NaN             NaN             NaN            NaN                    NaN              NaN                       NaN                 NaN                NaN             NaN             NaN                NaN                 NaN                       0.0                       0.0                       0.0                       0.0                  -815.0                0                0                0                0                0                0                0                0                 0   \n",
       "3                   NaN             NaN                      NaN                NaN              NaN                NaN                           NaN               NaN              NaN             NaN             NaN             NaN             NaN            NaN                    NaN              NaN                       NaN                 NaN              NaN                NaN                           NaN               NaN              NaN             NaN             NaN             NaN             NaN            NaN                    NaN              NaN                       NaN                 NaN                NaN             NaN             NaN                NaN                 NaN                       2.0                       0.0                       2.0                       0.0                  -617.0                0                1                0                0                0                0                0                0                 0   \n",
       "4                   NaN             NaN                      NaN                NaN              NaN                NaN                           NaN               NaN              NaN             NaN             NaN             NaN             NaN            NaN                    NaN              NaN                       NaN                 NaN              NaN                NaN                           NaN               NaN              NaN             NaN             NaN             NaN             NaN            NaN                    NaN              NaN                       NaN                 NaN                NaN             NaN             NaN                NaN                 NaN                       0.0                       0.0                       0.0                       0.0                 -1106.0                0                0                0                0                0                0                1                0                 0   \n",
       "\n",
       "   FLAG_DOCUMENT_11  FLAG_DOCUMENT_12  FLAG_DOCUMENT_13  FLAG_DOCUMENT_14  FLAG_DOCUMENT_15  FLAG_DOCUMENT_16  FLAG_DOCUMENT_17  FLAG_DOCUMENT_18  FLAG_DOCUMENT_19  FLAG_DOCUMENT_20  FLAG_DOCUMENT_21  AMT_REQ_CREDIT_BUREAU_HOUR  AMT_REQ_CREDIT_BUREAU_DAY  AMT_REQ_CREDIT_BUREAU_WEEK  AMT_REQ_CREDIT_BUREAU_MON  AMT_REQ_CREDIT_BUREAU_QRT  AMT_REQ_CREDIT_BUREAU_YEAR  \n",
       "0                 0                 0                 0                 0                 0                 0                 0                 0                 0                 0                 0                         0.0                        0.0                         0.0                        0.0                        0.0                         1.0  \n",
       "1                 0                 0                 0                 0                 0                 0                 0                 0                 0                 0                 0                         0.0                        0.0                         0.0                        0.0                        0.0                         0.0  \n",
       "2                 0                 0                 0                 0                 0                 0                 0                 0                 0                 0                 0                         0.0                        0.0                         0.0                        0.0                        0.0                         0.0  \n",
       "3                 0                 0                 0                 0                 0                 0                 0                 0                 0                 0                 0                         NaN                        NaN                         NaN                        NaN                        NaN                         NaN  \n",
       "4                 0                 0                 0                 0                 0                 0                 0                 0                 0                 0                 0                         0.0                        0.0                         0.0                        0.0                        0.0                         0.0  "
      ]
     },
     "execution_count": 8,
     "metadata": {},
     "output_type": "execute_result"
    }
   ],
   "source": [
    "EDA_App.head() #Showing all the EDA Application data with headers"
   ]
  },
  {
   "cell_type": "markdown",
   "metadata": {},
   "source": [
    "- ###  Subtask 1.2: Inspect the Dataframe\n",
    "\n",
    "Inspect the dataframe for dimensions, null-values, and summary of different numeric columns."
   ]
  },
  {
   "cell_type": "code",
   "execution_count": 9,
   "metadata": {},
   "outputs": [
    {
     "data": {
      "text/plain": [
       "(307511, 122)"
      ]
     },
     "execution_count": 9,
     "metadata": {},
     "output_type": "execute_result"
    }
   ],
   "source": [
    "# Check the number of rows and columns in the dataframe\n",
    "EDA_App.shape"
   ]
  },
  {
   "cell_type": "code",
   "execution_count": 10,
   "metadata": {},
   "outputs": [
    {
     "name": "stdout",
     "output_type": "stream",
     "text": [
      "<class 'pandas.core.frame.DataFrame'>\n",
      "RangeIndex: 307511 entries, 0 to 307510\n",
      "Data columns (total 122 columns):\n",
      " #   Column                        Dtype  \n",
      "---  ------                        -----  \n",
      " 0   SK_ID_CURR                    int64  \n",
      " 1   TARGET                        int64  \n",
      " 2   NAME_CONTRACT_TYPE            object \n",
      " 3   CODE_GENDER                   object \n",
      " 4   FLAG_OWN_CAR                  object \n",
      " 5   FLAG_OWN_REALTY               object \n",
      " 6   CNT_CHILDREN                  int64  \n",
      " 7   AMT_INCOME_TOTAL              float64\n",
      " 8   AMT_CREDIT                    float64\n",
      " 9   AMT_ANNUITY                   float64\n",
      " 10  AMT_GOODS_PRICE               float64\n",
      " 11  NAME_TYPE_SUITE               object \n",
      " 12  NAME_INCOME_TYPE              object \n",
      " 13  NAME_EDUCATION_TYPE           object \n",
      " 14  NAME_FAMILY_STATUS            object \n",
      " 15  NAME_HOUSING_TYPE             object \n",
      " 16  REGION_POPULATION_RELATIVE    float64\n",
      " 17  DAYS_BIRTH                    int64  \n",
      " 18  DAYS_EMPLOYED                 int64  \n",
      " 19  DAYS_REGISTRATION             float64\n",
      " 20  DAYS_ID_PUBLISH               int64  \n",
      " 21  OWN_CAR_AGE                   float64\n",
      " 22  FLAG_MOBIL                    int64  \n",
      " 23  FLAG_EMP_PHONE                int64  \n",
      " 24  FLAG_WORK_PHONE               int64  \n",
      " 25  FLAG_CONT_MOBILE              int64  \n",
      " 26  FLAG_PHONE                    int64  \n",
      " 27  FLAG_EMAIL                    int64  \n",
      " 28  OCCUPATION_TYPE               object \n",
      " 29  CNT_FAM_MEMBERS               float64\n",
      " 30  REGION_RATING_CLIENT          int64  \n",
      " 31  REGION_RATING_CLIENT_W_CITY   int64  \n",
      " 32  WEEKDAY_APPR_PROCESS_START    object \n",
      " 33  HOUR_APPR_PROCESS_START       int64  \n",
      " 34  REG_REGION_NOT_LIVE_REGION    int64  \n",
      " 35  REG_REGION_NOT_WORK_REGION    int64  \n",
      " 36  LIVE_REGION_NOT_WORK_REGION   int64  \n",
      " 37  REG_CITY_NOT_LIVE_CITY        int64  \n",
      " 38  REG_CITY_NOT_WORK_CITY        int64  \n",
      " 39  LIVE_CITY_NOT_WORK_CITY       int64  \n",
      " 40  ORGANIZATION_TYPE             object \n",
      " 41  EXT_SOURCE_1                  float64\n",
      " 42  EXT_SOURCE_2                  float64\n",
      " 43  EXT_SOURCE_3                  float64\n",
      " 44  APARTMENTS_AVG                float64\n",
      " 45  BASEMENTAREA_AVG              float64\n",
      " 46  YEARS_BEGINEXPLUATATION_AVG   float64\n",
      " 47  YEARS_BUILD_AVG               float64\n",
      " 48  COMMONAREA_AVG                float64\n",
      " 49  ELEVATORS_AVG                 float64\n",
      " 50  ENTRANCES_AVG                 float64\n",
      " 51  FLOORSMAX_AVG                 float64\n",
      " 52  FLOORSMIN_AVG                 float64\n",
      " 53  LANDAREA_AVG                  float64\n",
      " 54  LIVINGAPARTMENTS_AVG          float64\n",
      " 55  LIVINGAREA_AVG                float64\n",
      " 56  NONLIVINGAPARTMENTS_AVG       float64\n",
      " 57  NONLIVINGAREA_AVG             float64\n",
      " 58  APARTMENTS_MODE               float64\n",
      " 59  BASEMENTAREA_MODE             float64\n",
      " 60  YEARS_BEGINEXPLUATATION_MODE  float64\n",
      " 61  YEARS_BUILD_MODE              float64\n",
      " 62  COMMONAREA_MODE               float64\n",
      " 63  ELEVATORS_MODE                float64\n",
      " 64  ENTRANCES_MODE                float64\n",
      " 65  FLOORSMAX_MODE                float64\n",
      " 66  FLOORSMIN_MODE                float64\n",
      " 67  LANDAREA_MODE                 float64\n",
      " 68  LIVINGAPARTMENTS_MODE         float64\n",
      " 69  LIVINGAREA_MODE               float64\n",
      " 70  NONLIVINGAPARTMENTS_MODE      float64\n",
      " 71  NONLIVINGAREA_MODE            float64\n",
      " 72  APARTMENTS_MEDI               float64\n",
      " 73  BASEMENTAREA_MEDI             float64\n",
      " 74  YEARS_BEGINEXPLUATATION_MEDI  float64\n",
      " 75  YEARS_BUILD_MEDI              float64\n",
      " 76  COMMONAREA_MEDI               float64\n",
      " 77  ELEVATORS_MEDI                float64\n",
      " 78  ENTRANCES_MEDI                float64\n",
      " 79  FLOORSMAX_MEDI                float64\n",
      " 80  FLOORSMIN_MEDI                float64\n",
      " 81  LANDAREA_MEDI                 float64\n",
      " 82  LIVINGAPARTMENTS_MEDI         float64\n",
      " 83  LIVINGAREA_MEDI               float64\n",
      " 84  NONLIVINGAPARTMENTS_MEDI      float64\n",
      " 85  NONLIVINGAREA_MEDI            float64\n",
      " 86  FONDKAPREMONT_MODE            object \n",
      " 87  HOUSETYPE_MODE                object \n",
      " 88  TOTALAREA_MODE                float64\n",
      " 89  WALLSMATERIAL_MODE            object \n",
      " 90  EMERGENCYSTATE_MODE           object \n",
      " 91  OBS_30_CNT_SOCIAL_CIRCLE      float64\n",
      " 92  DEF_30_CNT_SOCIAL_CIRCLE      float64\n",
      " 93  OBS_60_CNT_SOCIAL_CIRCLE      float64\n",
      " 94  DEF_60_CNT_SOCIAL_CIRCLE      float64\n",
      " 95  DAYS_LAST_PHONE_CHANGE        float64\n",
      " 96  FLAG_DOCUMENT_2               int64  \n",
      " 97  FLAG_DOCUMENT_3               int64  \n",
      " 98  FLAG_DOCUMENT_4               int64  \n",
      " 99  FLAG_DOCUMENT_5               int64  \n",
      " 100 FLAG_DOCUMENT_6               int64  \n",
      " 101 FLAG_DOCUMENT_7               int64  \n",
      " 102 FLAG_DOCUMENT_8               int64  \n",
      " 103 FLAG_DOCUMENT_9               int64  \n",
      " 104 FLAG_DOCUMENT_10              int64  \n",
      " 105 FLAG_DOCUMENT_11              int64  \n",
      " 106 FLAG_DOCUMENT_12              int64  \n",
      " 107 FLAG_DOCUMENT_13              int64  \n",
      " 108 FLAG_DOCUMENT_14              int64  \n",
      " 109 FLAG_DOCUMENT_15              int64  \n",
      " 110 FLAG_DOCUMENT_16              int64  \n",
      " 111 FLAG_DOCUMENT_17              int64  \n",
      " 112 FLAG_DOCUMENT_18              int64  \n",
      " 113 FLAG_DOCUMENT_19              int64  \n",
      " 114 FLAG_DOCUMENT_20              int64  \n",
      " 115 FLAG_DOCUMENT_21              int64  \n",
      " 116 AMT_REQ_CREDIT_BUREAU_HOUR    float64\n",
      " 117 AMT_REQ_CREDIT_BUREAU_DAY     float64\n",
      " 118 AMT_REQ_CREDIT_BUREAU_WEEK    float64\n",
      " 119 AMT_REQ_CREDIT_BUREAU_MON     float64\n",
      " 120 AMT_REQ_CREDIT_BUREAU_QRT     float64\n",
      " 121 AMT_REQ_CREDIT_BUREAU_YEAR    float64\n",
      "dtypes: float64(65), int64(41), object(16)\n",
      "memory usage: 286.2+ MB\n"
     ]
    }
   ],
   "source": [
    "# Check the column-wise info of one dataframe Application\n",
    "EDA_App.info(verbose=True)"
   ]
  },
  {
   "cell_type": "code",
   "execution_count": 11,
   "metadata": {},
   "outputs": [
    {
     "data": {
      "text/plain": [
       "SK_ID_CURR                           0\n",
       "TARGET                               0\n",
       "NAME_CONTRACT_TYPE                   0\n",
       "CODE_GENDER                          0\n",
       "FLAG_OWN_CAR                         0\n",
       "FLAG_OWN_REALTY                      0\n",
       "CNT_CHILDREN                         0\n",
       "AMT_INCOME_TOTAL                     0\n",
       "AMT_CREDIT                           0\n",
       "AMT_ANNUITY                         12\n",
       "AMT_GOODS_PRICE                    278\n",
       "NAME_TYPE_SUITE                   1292\n",
       "NAME_INCOME_TYPE                     0\n",
       "NAME_EDUCATION_TYPE                  0\n",
       "NAME_FAMILY_STATUS                   0\n",
       "NAME_HOUSING_TYPE                    0\n",
       "REGION_POPULATION_RELATIVE           0\n",
       "DAYS_BIRTH                           0\n",
       "DAYS_EMPLOYED                        0\n",
       "DAYS_REGISTRATION                    0\n",
       "DAYS_ID_PUBLISH                      0\n",
       "OWN_CAR_AGE                     202929\n",
       "FLAG_MOBIL                           0\n",
       "FLAG_EMP_PHONE                       0\n",
       "FLAG_WORK_PHONE                      0\n",
       "FLAG_CONT_MOBILE                     0\n",
       "FLAG_PHONE                           0\n",
       "FLAG_EMAIL                           0\n",
       "OCCUPATION_TYPE                  96391\n",
       "CNT_FAM_MEMBERS                      2\n",
       "REGION_RATING_CLIENT                 0\n",
       "REGION_RATING_CLIENT_W_CITY          0\n",
       "WEEKDAY_APPR_PROCESS_START           0\n",
       "HOUR_APPR_PROCESS_START              0\n",
       "REG_REGION_NOT_LIVE_REGION           0\n",
       "REG_REGION_NOT_WORK_REGION           0\n",
       "LIVE_REGION_NOT_WORK_REGION          0\n",
       "REG_CITY_NOT_LIVE_CITY               0\n",
       "REG_CITY_NOT_WORK_CITY               0\n",
       "LIVE_CITY_NOT_WORK_CITY              0\n",
       "ORGANIZATION_TYPE                    0\n",
       "EXT_SOURCE_1                    173378\n",
       "EXT_SOURCE_2                       660\n",
       "EXT_SOURCE_3                     60965\n",
       "APARTMENTS_AVG                  156061\n",
       "BASEMENTAREA_AVG                179943\n",
       "YEARS_BEGINEXPLUATATION_AVG     150007\n",
       "YEARS_BUILD_AVG                 204488\n",
       "COMMONAREA_AVG                  214865\n",
       "ELEVATORS_AVG                   163891\n",
       "ENTRANCES_AVG                   154828\n",
       "FLOORSMAX_AVG                   153020\n",
       "FLOORSMIN_AVG                   208642\n",
       "LANDAREA_AVG                    182590\n",
       "LIVINGAPARTMENTS_AVG            210199\n",
       "LIVINGAREA_AVG                  154350\n",
       "NONLIVINGAPARTMENTS_AVG         213514\n",
       "NONLIVINGAREA_AVG               169682\n",
       "APARTMENTS_MODE                 156061\n",
       "BASEMENTAREA_MODE               179943\n",
       "YEARS_BEGINEXPLUATATION_MODE    150007\n",
       "YEARS_BUILD_MODE                204488\n",
       "COMMONAREA_MODE                 214865\n",
       "ELEVATORS_MODE                  163891\n",
       "ENTRANCES_MODE                  154828\n",
       "FLOORSMAX_MODE                  153020\n",
       "FLOORSMIN_MODE                  208642\n",
       "LANDAREA_MODE                   182590\n",
       "LIVINGAPARTMENTS_MODE           210199\n",
       "LIVINGAREA_MODE                 154350\n",
       "NONLIVINGAPARTMENTS_MODE        213514\n",
       "NONLIVINGAREA_MODE              169682\n",
       "APARTMENTS_MEDI                 156061\n",
       "BASEMENTAREA_MEDI               179943\n",
       "YEARS_BEGINEXPLUATATION_MEDI    150007\n",
       "YEARS_BUILD_MEDI                204488\n",
       "COMMONAREA_MEDI                 214865\n",
       "ELEVATORS_MEDI                  163891\n",
       "ENTRANCES_MEDI                  154828\n",
       "FLOORSMAX_MEDI                  153020\n",
       "FLOORSMIN_MEDI                  208642\n",
       "LANDAREA_MEDI                   182590\n",
       "LIVINGAPARTMENTS_MEDI           210199\n",
       "LIVINGAREA_MEDI                 154350\n",
       "NONLIVINGAPARTMENTS_MEDI        213514\n",
       "NONLIVINGAREA_MEDI              169682\n",
       "FONDKAPREMONT_MODE              210295\n",
       "HOUSETYPE_MODE                  154297\n",
       "TOTALAREA_MODE                  148431\n",
       "WALLSMATERIAL_MODE              156341\n",
       "EMERGENCYSTATE_MODE             145755\n",
       "OBS_30_CNT_SOCIAL_CIRCLE          1021\n",
       "DEF_30_CNT_SOCIAL_CIRCLE          1021\n",
       "OBS_60_CNT_SOCIAL_CIRCLE          1021\n",
       "DEF_60_CNT_SOCIAL_CIRCLE          1021\n",
       "DAYS_LAST_PHONE_CHANGE               1\n",
       "FLAG_DOCUMENT_2                      0\n",
       "FLAG_DOCUMENT_3                      0\n",
       "FLAG_DOCUMENT_4                      0\n",
       "FLAG_DOCUMENT_5                      0\n",
       "FLAG_DOCUMENT_6                      0\n",
       "FLAG_DOCUMENT_7                      0\n",
       "FLAG_DOCUMENT_8                      0\n",
       "FLAG_DOCUMENT_9                      0\n",
       "FLAG_DOCUMENT_10                     0\n",
       "FLAG_DOCUMENT_11                     0\n",
       "FLAG_DOCUMENT_12                     0\n",
       "FLAG_DOCUMENT_13                     0\n",
       "FLAG_DOCUMENT_14                     0\n",
       "FLAG_DOCUMENT_15                     0\n",
       "FLAG_DOCUMENT_16                     0\n",
       "FLAG_DOCUMENT_17                     0\n",
       "FLAG_DOCUMENT_18                     0\n",
       "FLAG_DOCUMENT_19                     0\n",
       "FLAG_DOCUMENT_20                     0\n",
       "FLAG_DOCUMENT_21                     0\n",
       "AMT_REQ_CREDIT_BUREAU_HOUR       41519\n",
       "AMT_REQ_CREDIT_BUREAU_DAY        41519\n",
       "AMT_REQ_CREDIT_BUREAU_WEEK       41519\n",
       "AMT_REQ_CREDIT_BUREAU_MON        41519\n",
       "AMT_REQ_CREDIT_BUREAU_QRT        41519\n",
       "AMT_REQ_CREDIT_BUREAU_YEAR       41519\n",
       "dtype: int64"
      ]
     },
     "execution_count": 11,
     "metadata": {},
     "output_type": "execute_result"
    }
   ],
   "source": [
    "# To check Null values of columns\n",
    "EDA_App_Null = EDA_App.isnull().sum()\n",
    "EDA_App_Null"
   ]
  },
  {
   "cell_type": "code",
   "execution_count": 12,
   "metadata": {},
   "outputs": [
    {
     "data": {
      "text/plain": [
       "SK_ID_CURR                       0.000\n",
       "TARGET                           0.000\n",
       "NAME_CONTRACT_TYPE               0.000\n",
       "CODE_GENDER                      0.000\n",
       "FLAG_OWN_CAR                     0.000\n",
       "FLAG_OWN_REALTY                  0.000\n",
       "CNT_CHILDREN                     0.000\n",
       "AMT_INCOME_TOTAL                 0.000\n",
       "AMT_CREDIT                       0.000\n",
       "AMT_ANNUITY                      0.004\n",
       "AMT_GOODS_PRICE                  0.090\n",
       "NAME_TYPE_SUITE                  0.420\n",
       "NAME_INCOME_TYPE                 0.000\n",
       "NAME_EDUCATION_TYPE              0.000\n",
       "NAME_FAMILY_STATUS               0.000\n",
       "NAME_HOUSING_TYPE                0.000\n",
       "REGION_POPULATION_RELATIVE       0.000\n",
       "DAYS_BIRTH                       0.000\n",
       "DAYS_EMPLOYED                    0.000\n",
       "DAYS_REGISTRATION                0.000\n",
       "DAYS_ID_PUBLISH                  0.000\n",
       "OWN_CAR_AGE                     65.991\n",
       "FLAG_MOBIL                       0.000\n",
       "FLAG_EMP_PHONE                   0.000\n",
       "FLAG_WORK_PHONE                  0.000\n",
       "FLAG_CONT_MOBILE                 0.000\n",
       "FLAG_PHONE                       0.000\n",
       "FLAG_EMAIL                       0.000\n",
       "OCCUPATION_TYPE                 31.346\n",
       "CNT_FAM_MEMBERS                  0.001\n",
       "REGION_RATING_CLIENT             0.000\n",
       "REGION_RATING_CLIENT_W_CITY      0.000\n",
       "WEEKDAY_APPR_PROCESS_START       0.000\n",
       "HOUR_APPR_PROCESS_START          0.000\n",
       "REG_REGION_NOT_LIVE_REGION       0.000\n",
       "REG_REGION_NOT_WORK_REGION       0.000\n",
       "LIVE_REGION_NOT_WORK_REGION      0.000\n",
       "REG_CITY_NOT_LIVE_CITY           0.000\n",
       "REG_CITY_NOT_WORK_CITY           0.000\n",
       "LIVE_CITY_NOT_WORK_CITY          0.000\n",
       "ORGANIZATION_TYPE                0.000\n",
       "EXT_SOURCE_1                    56.381\n",
       "EXT_SOURCE_2                     0.215\n",
       "EXT_SOURCE_3                    19.825\n",
       "APARTMENTS_AVG                  50.750\n",
       "BASEMENTAREA_AVG                58.516\n",
       "YEARS_BEGINEXPLUATATION_AVG     48.781\n",
       "YEARS_BUILD_AVG                 66.498\n",
       "COMMONAREA_AVG                  69.872\n",
       "ELEVATORS_AVG                   53.296\n",
       "ENTRANCES_AVG                   50.349\n",
       "FLOORSMAX_AVG                   49.761\n",
       "FLOORSMIN_AVG                   67.849\n",
       "LANDAREA_AVG                    59.377\n",
       "LIVINGAPARTMENTS_AVG            68.355\n",
       "LIVINGAREA_AVG                  50.193\n",
       "NONLIVINGAPARTMENTS_AVG         69.433\n",
       "NONLIVINGAREA_AVG               55.179\n",
       "APARTMENTS_MODE                 50.750\n",
       "BASEMENTAREA_MODE               58.516\n",
       "YEARS_BEGINEXPLUATATION_MODE    48.781\n",
       "YEARS_BUILD_MODE                66.498\n",
       "COMMONAREA_MODE                 69.872\n",
       "ELEVATORS_MODE                  53.296\n",
       "ENTRANCES_MODE                  50.349\n",
       "FLOORSMAX_MODE                  49.761\n",
       "FLOORSMIN_MODE                  67.849\n",
       "LANDAREA_MODE                   59.377\n",
       "LIVINGAPARTMENTS_MODE           68.355\n",
       "LIVINGAREA_MODE                 50.193\n",
       "NONLIVINGAPARTMENTS_MODE        69.433\n",
       "NONLIVINGAREA_MODE              55.179\n",
       "APARTMENTS_MEDI                 50.750\n",
       "BASEMENTAREA_MEDI               58.516\n",
       "YEARS_BEGINEXPLUATATION_MEDI    48.781\n",
       "YEARS_BUILD_MEDI                66.498\n",
       "COMMONAREA_MEDI                 69.872\n",
       "ELEVATORS_MEDI                  53.296\n",
       "ENTRANCES_MEDI                  50.349\n",
       "FLOORSMAX_MEDI                  49.761\n",
       "FLOORSMIN_MEDI                  67.849\n",
       "LANDAREA_MEDI                   59.377\n",
       "LIVINGAPARTMENTS_MEDI           68.355\n",
       "LIVINGAREA_MEDI                 50.193\n",
       "NONLIVINGAPARTMENTS_MEDI        69.433\n",
       "NONLIVINGAREA_MEDI              55.179\n",
       "FONDKAPREMONT_MODE              68.386\n",
       "HOUSETYPE_MODE                  50.176\n",
       "TOTALAREA_MODE                  48.269\n",
       "WALLSMATERIAL_MODE              50.841\n",
       "EMERGENCYSTATE_MODE             47.398\n",
       "OBS_30_CNT_SOCIAL_CIRCLE         0.332\n",
       "DEF_30_CNT_SOCIAL_CIRCLE         0.332\n",
       "OBS_60_CNT_SOCIAL_CIRCLE         0.332\n",
       "DEF_60_CNT_SOCIAL_CIRCLE         0.332\n",
       "DAYS_LAST_PHONE_CHANGE           0.000\n",
       "FLAG_DOCUMENT_2                  0.000\n",
       "FLAG_DOCUMENT_3                  0.000\n",
       "FLAG_DOCUMENT_4                  0.000\n",
       "FLAG_DOCUMENT_5                  0.000\n",
       "FLAG_DOCUMENT_6                  0.000\n",
       "FLAG_DOCUMENT_7                  0.000\n",
       "FLAG_DOCUMENT_8                  0.000\n",
       "FLAG_DOCUMENT_9                  0.000\n",
       "FLAG_DOCUMENT_10                 0.000\n",
       "FLAG_DOCUMENT_11                 0.000\n",
       "FLAG_DOCUMENT_12                 0.000\n",
       "FLAG_DOCUMENT_13                 0.000\n",
       "FLAG_DOCUMENT_14                 0.000\n",
       "FLAG_DOCUMENT_15                 0.000\n",
       "FLAG_DOCUMENT_16                 0.000\n",
       "FLAG_DOCUMENT_17                 0.000\n",
       "FLAG_DOCUMENT_18                 0.000\n",
       "FLAG_DOCUMENT_19                 0.000\n",
       "FLAG_DOCUMENT_20                 0.000\n",
       "FLAG_DOCUMENT_21                 0.000\n",
       "AMT_REQ_CREDIT_BUREAU_HOUR      13.502\n",
       "AMT_REQ_CREDIT_BUREAU_DAY       13.502\n",
       "AMT_REQ_CREDIT_BUREAU_WEEK      13.502\n",
       "AMT_REQ_CREDIT_BUREAU_MON       13.502\n",
       "AMT_REQ_CREDIT_BUREAU_QRT       13.502\n",
       "AMT_REQ_CREDIT_BUREAU_YEAR      13.502\n",
       "dtype: float64"
      ]
     },
     "execution_count": 12,
     "metadata": {},
     "output_type": "execute_result"
    }
   ],
   "source": [
    "# To reprsent the % or ratio of data imbalance in a dataframe 'Application_data'. \n",
    "EDA_App_Null_Per = round(100*(EDA_App.isnull().sum()/len(EDA_App.index)),3)\n",
    "EDA_App_Null_Per"
   ]
  },
  {
   "cell_type": "code",
   "execution_count": 13,
   "metadata": {},
   "outputs": [
    {
     "data": {
      "text/plain": [
       "62"
      ]
     },
     "execution_count": 13,
     "metadata": {},
     "output_type": "execute_result"
    }
   ],
   "source": [
    "# To check number of columns which has Null values greater than 30%\n",
    "len(EDA_App_Null_Per[EDA_App_Null_Per.values>=(0.3)])"
   ]
  },
  {
   "cell_type": "code",
   "execution_count": 14,
   "metadata": {},
   "outputs": [
    {
     "data": {
      "text/plain": [
       "['NAME_TYPE_SUITE',\n",
       " 'OWN_CAR_AGE',\n",
       " 'OCCUPATION_TYPE',\n",
       " 'EXT_SOURCE_1',\n",
       " 'EXT_SOURCE_3',\n",
       " 'APARTMENTS_AVG',\n",
       " 'BASEMENTAREA_AVG',\n",
       " 'YEARS_BEGINEXPLUATATION_AVG',\n",
       " 'YEARS_BUILD_AVG',\n",
       " 'COMMONAREA_AVG',\n",
       " 'ELEVATORS_AVG',\n",
       " 'ENTRANCES_AVG',\n",
       " 'FLOORSMAX_AVG',\n",
       " 'FLOORSMIN_AVG',\n",
       " 'LANDAREA_AVG',\n",
       " 'LIVINGAPARTMENTS_AVG',\n",
       " 'LIVINGAREA_AVG',\n",
       " 'NONLIVINGAPARTMENTS_AVG',\n",
       " 'NONLIVINGAREA_AVG',\n",
       " 'APARTMENTS_MODE',\n",
       " 'BASEMENTAREA_MODE',\n",
       " 'YEARS_BEGINEXPLUATATION_MODE',\n",
       " 'YEARS_BUILD_MODE',\n",
       " 'COMMONAREA_MODE',\n",
       " 'ELEVATORS_MODE',\n",
       " 'ENTRANCES_MODE',\n",
       " 'FLOORSMAX_MODE',\n",
       " 'FLOORSMIN_MODE',\n",
       " 'LANDAREA_MODE',\n",
       " 'LIVINGAPARTMENTS_MODE',\n",
       " 'LIVINGAREA_MODE',\n",
       " 'NONLIVINGAPARTMENTS_MODE',\n",
       " 'NONLIVINGAREA_MODE',\n",
       " 'APARTMENTS_MEDI',\n",
       " 'BASEMENTAREA_MEDI',\n",
       " 'YEARS_BEGINEXPLUATATION_MEDI',\n",
       " 'YEARS_BUILD_MEDI',\n",
       " 'COMMONAREA_MEDI',\n",
       " 'ELEVATORS_MEDI',\n",
       " 'ENTRANCES_MEDI',\n",
       " 'FLOORSMAX_MEDI',\n",
       " 'FLOORSMIN_MEDI',\n",
       " 'LANDAREA_MEDI',\n",
       " 'LIVINGAPARTMENTS_MEDI',\n",
       " 'LIVINGAREA_MEDI',\n",
       " 'NONLIVINGAPARTMENTS_MEDI',\n",
       " 'NONLIVINGAREA_MEDI',\n",
       " 'FONDKAPREMONT_MODE',\n",
       " 'HOUSETYPE_MODE',\n",
       " 'TOTALAREA_MODE',\n",
       " 'WALLSMATERIAL_MODE',\n",
       " 'EMERGENCYSTATE_MODE',\n",
       " 'OBS_30_CNT_SOCIAL_CIRCLE',\n",
       " 'DEF_30_CNT_SOCIAL_CIRCLE',\n",
       " 'OBS_60_CNT_SOCIAL_CIRCLE',\n",
       " 'DEF_60_CNT_SOCIAL_CIRCLE',\n",
       " 'AMT_REQ_CREDIT_BUREAU_HOUR',\n",
       " 'AMT_REQ_CREDIT_BUREAU_DAY',\n",
       " 'AMT_REQ_CREDIT_BUREAU_WEEK',\n",
       " 'AMT_REQ_CREDIT_BUREAU_MON',\n",
       " 'AMT_REQ_CREDIT_BUREAU_QRT',\n",
       " 'AMT_REQ_CREDIT_BUREAU_YEAR']"
      ]
     },
     "execution_count": 14,
     "metadata": {},
     "output_type": "execute_result"
    }
   ],
   "source": [
    "# List all the columns which values is greater than and equal t0 30%\n",
    "EDA_Null_Per_30 = list(EDA_App_Null_Per[EDA_App_Null_Per.values>=0.3].index)\n",
    "EDA_Null_Per_30"
   ]
  },
  {
   "cell_type": "code",
   "execution_count": 15,
   "metadata": {},
   "outputs": [],
   "source": [
    "# Drop all the values which values is greater than equal to 30%.\n",
    "EDA_App_Not_Null = EDA_App.drop(labels = EDA_Null_Per_30, axis=1, inplace=True)"
   ]
  },
  {
   "cell_type": "code",
   "execution_count": 16,
   "metadata": {},
   "outputs": [
    {
     "data": {
      "text/plain": [
       "(307511, 60)"
      ]
     },
     "execution_count": 16,
     "metadata": {},
     "output_type": "execute_result"
    }
   ],
   "source": [
    "# To check rows and columns of a dataframe\n",
    "EDA_App.shape"
   ]
  },
  {
   "cell_type": "code",
   "execution_count": 17,
   "metadata": {},
   "outputs": [
    {
     "data": {
      "text/plain": [
       "SK_ID_CURR                       0\n",
       "TARGET                           0\n",
       "NAME_CONTRACT_TYPE               0\n",
       "CODE_GENDER                      0\n",
       "FLAG_OWN_CAR                     0\n",
       "FLAG_OWN_REALTY                  0\n",
       "CNT_CHILDREN                     0\n",
       "AMT_INCOME_TOTAL                 0\n",
       "AMT_CREDIT                       0\n",
       "AMT_ANNUITY                     12\n",
       "AMT_GOODS_PRICE                278\n",
       "NAME_INCOME_TYPE                 0\n",
       "NAME_EDUCATION_TYPE              0\n",
       "NAME_FAMILY_STATUS               0\n",
       "NAME_HOUSING_TYPE                0\n",
       "REGION_POPULATION_RELATIVE       0\n",
       "DAYS_BIRTH                       0\n",
       "DAYS_EMPLOYED                    0\n",
       "DAYS_REGISTRATION                0\n",
       "DAYS_ID_PUBLISH                  0\n",
       "FLAG_MOBIL                       0\n",
       "FLAG_EMP_PHONE                   0\n",
       "FLAG_WORK_PHONE                  0\n",
       "FLAG_CONT_MOBILE                 0\n",
       "FLAG_PHONE                       0\n",
       "FLAG_EMAIL                       0\n",
       "CNT_FAM_MEMBERS                  2\n",
       "REGION_RATING_CLIENT             0\n",
       "REGION_RATING_CLIENT_W_CITY      0\n",
       "WEEKDAY_APPR_PROCESS_START       0\n",
       "HOUR_APPR_PROCESS_START          0\n",
       "REG_REGION_NOT_LIVE_REGION       0\n",
       "REG_REGION_NOT_WORK_REGION       0\n",
       "LIVE_REGION_NOT_WORK_REGION      0\n",
       "REG_CITY_NOT_LIVE_CITY           0\n",
       "REG_CITY_NOT_WORK_CITY           0\n",
       "LIVE_CITY_NOT_WORK_CITY          0\n",
       "ORGANIZATION_TYPE                0\n",
       "EXT_SOURCE_2                   660\n",
       "DAYS_LAST_PHONE_CHANGE           1\n",
       "FLAG_DOCUMENT_2                  0\n",
       "FLAG_DOCUMENT_3                  0\n",
       "FLAG_DOCUMENT_4                  0\n",
       "FLAG_DOCUMENT_5                  0\n",
       "FLAG_DOCUMENT_6                  0\n",
       "FLAG_DOCUMENT_7                  0\n",
       "FLAG_DOCUMENT_8                  0\n",
       "FLAG_DOCUMENT_9                  0\n",
       "FLAG_DOCUMENT_10                 0\n",
       "FLAG_DOCUMENT_11                 0\n",
       "FLAG_DOCUMENT_12                 0\n",
       "FLAG_DOCUMENT_13                 0\n",
       "FLAG_DOCUMENT_14                 0\n",
       "FLAG_DOCUMENT_15                 0\n",
       "FLAG_DOCUMENT_16                 0\n",
       "FLAG_DOCUMENT_17                 0\n",
       "FLAG_DOCUMENT_18                 0\n",
       "FLAG_DOCUMENT_19                 0\n",
       "FLAG_DOCUMENT_20                 0\n",
       "FLAG_DOCUMENT_21                 0\n",
       "dtype: int64"
      ]
     },
     "execution_count": 17,
     "metadata": {},
     "output_type": "execute_result"
    }
   ],
   "source": [
    "# Recheck the Null values of a dataframe with the remaining columns\n",
    "EDA_App.isnull().sum()"
   ]
  },
  {
   "cell_type": "code",
   "execution_count": 857,
   "metadata": {},
   "outputs": [
    {
     "name": "stdout",
     "output_type": "stream",
     "text": [
      "<class 'pandas.core.frame.DataFrame'>\n",
      "RangeIndex: 307511 entries, 0 to 307510\n",
      "Data columns (total 60 columns):\n",
      " #   Column                       Non-Null Count   Dtype  \n",
      "---  ------                       --------------   -----  \n",
      " 0   SK_ID_CURR                   307511 non-null  int64  \n",
      " 1   TARGET                       307511 non-null  int64  \n",
      " 2   NAME_CONTRACT_TYPE           307511 non-null  object \n",
      " 3   CODE_GENDER                  307511 non-null  object \n",
      " 4   FLAG_OWN_CAR                 307511 non-null  object \n",
      " 5   FLAG_OWN_REALTY              307511 non-null  object \n",
      " 6   CNT_CHILDREN                 307511 non-null  int64  \n",
      " 7   AMT_INCOME_TOTAL             307511 non-null  float64\n",
      " 8   AMT_CREDIT                   307511 non-null  float64\n",
      " 9   AMT_ANNUITY                  307499 non-null  float64\n",
      " 10  AMT_GOODS_PRICE              307233 non-null  float64\n",
      " 11  NAME_INCOME_TYPE             307511 non-null  object \n",
      " 12  NAME_EDUCATION_TYPE          307511 non-null  object \n",
      " 13  NAME_FAMILY_STATUS           307511 non-null  object \n",
      " 14  NAME_HOUSING_TYPE            307511 non-null  object \n",
      " 15  REGION_POPULATION_RELATIVE   307511 non-null  float64\n",
      " 16  DAYS_BIRTH                   307511 non-null  int64  \n",
      " 17  DAYS_EMPLOYED                307511 non-null  int64  \n",
      " 18  DAYS_REGISTRATION            307511 non-null  float64\n",
      " 19  DAYS_ID_PUBLISH              307511 non-null  int64  \n",
      " 20  FLAG_MOBIL                   307511 non-null  int64  \n",
      " 21  FLAG_EMP_PHONE               307511 non-null  int64  \n",
      " 22  FLAG_WORK_PHONE              307511 non-null  int64  \n",
      " 23  FLAG_CONT_MOBILE             307511 non-null  int64  \n",
      " 24  FLAG_PHONE                   307511 non-null  int64  \n",
      " 25  FLAG_EMAIL                   307511 non-null  int64  \n",
      " 26  CNT_FAM_MEMBERS              307509 non-null  float64\n",
      " 27  REGION_RATING_CLIENT         307511 non-null  int64  \n",
      " 28  REGION_RATING_CLIENT_W_CITY  307511 non-null  int64  \n",
      " 29  WEEKDAY_APPR_PROCESS_START   307511 non-null  object \n",
      " 30  HOUR_APPR_PROCESS_START      307511 non-null  int64  \n",
      " 31  REG_REGION_NOT_LIVE_REGION   307511 non-null  int64  \n",
      " 32  REG_REGION_NOT_WORK_REGION   307511 non-null  int64  \n",
      " 33  LIVE_REGION_NOT_WORK_REGION  307511 non-null  int64  \n",
      " 34  REG_CITY_NOT_LIVE_CITY       307511 non-null  int64  \n",
      " 35  REG_CITY_NOT_WORK_CITY       307511 non-null  int64  \n",
      " 36  LIVE_CITY_NOT_WORK_CITY      307511 non-null  int64  \n",
      " 37  ORGANIZATION_TYPE            307511 non-null  object \n",
      " 38  EXT_SOURCE_2                 306851 non-null  float64\n",
      " 39  DAYS_LAST_PHONE_CHANGE       307510 non-null  float64\n",
      " 40  FLAG_DOCUMENT_2              307511 non-null  int64  \n",
      " 41  FLAG_DOCUMENT_3              307511 non-null  int64  \n",
      " 42  FLAG_DOCUMENT_4              307511 non-null  int64  \n",
      " 43  FLAG_DOCUMENT_5              307511 non-null  int64  \n",
      " 44  FLAG_DOCUMENT_6              307511 non-null  int64  \n",
      " 45  FLAG_DOCUMENT_7              307511 non-null  int64  \n",
      " 46  FLAG_DOCUMENT_8              307511 non-null  int64  \n",
      " 47  FLAG_DOCUMENT_9              307511 non-null  int64  \n",
      " 48  FLAG_DOCUMENT_10             307511 non-null  int64  \n",
      " 49  FLAG_DOCUMENT_11             307511 non-null  int64  \n",
      " 50  FLAG_DOCUMENT_12             307511 non-null  int64  \n",
      " 51  FLAG_DOCUMENT_13             307511 non-null  int64  \n",
      " 52  FLAG_DOCUMENT_14             307511 non-null  int64  \n",
      " 53  FLAG_DOCUMENT_15             307511 non-null  int64  \n",
      " 54  FLAG_DOCUMENT_16             307511 non-null  int64  \n",
      " 55  FLAG_DOCUMENT_17             307511 non-null  int64  \n",
      " 56  FLAG_DOCUMENT_18             307511 non-null  int64  \n",
      " 57  FLAG_DOCUMENT_19             307511 non-null  int64  \n",
      " 58  FLAG_DOCUMENT_20             307511 non-null  int64  \n",
      " 59  FLAG_DOCUMENT_21             307511 non-null  int64  \n",
      "dtypes: float64(9), int64(41), object(10)\n",
      "memory usage: 140.8+ MB\n"
     ]
    }
   ],
   "source": [
    "# Get information of columns of the dataframe\n",
    "EDA_App.info()"
   ]
  },
  {
   "cell_type": "code",
   "execution_count": 18,
   "metadata": {},
   "outputs": [
    {
     "data": {
      "text/plain": [
       "SK_ID_CURR                     0.0000\n",
       "TARGET                         0.0000\n",
       "NAME_CONTRACT_TYPE             0.0000\n",
       "CODE_GENDER                    0.0000\n",
       "FLAG_OWN_CAR                   0.0000\n",
       "FLAG_OWN_REALTY                0.0000\n",
       "CNT_CHILDREN                   0.0000\n",
       "AMT_INCOME_TOTAL               0.0000\n",
       "AMT_CREDIT                     0.0000\n",
       "AMT_ANNUITY                    0.0039\n",
       "AMT_GOODS_PRICE                0.0904\n",
       "NAME_INCOME_TYPE               0.0000\n",
       "NAME_EDUCATION_TYPE            0.0000\n",
       "NAME_FAMILY_STATUS             0.0000\n",
       "NAME_HOUSING_TYPE              0.0000\n",
       "REGION_POPULATION_RELATIVE     0.0000\n",
       "DAYS_BIRTH                     0.0000\n",
       "DAYS_EMPLOYED                  0.0000\n",
       "DAYS_REGISTRATION              0.0000\n",
       "DAYS_ID_PUBLISH                0.0000\n",
       "FLAG_MOBIL                     0.0000\n",
       "FLAG_EMP_PHONE                 0.0000\n",
       "FLAG_WORK_PHONE                0.0000\n",
       "FLAG_CONT_MOBILE               0.0000\n",
       "FLAG_PHONE                     0.0000\n",
       "FLAG_EMAIL                     0.0000\n",
       "CNT_FAM_MEMBERS                0.0007\n",
       "REGION_RATING_CLIENT           0.0000\n",
       "REGION_RATING_CLIENT_W_CITY    0.0000\n",
       "WEEKDAY_APPR_PROCESS_START     0.0000\n",
       "HOUR_APPR_PROCESS_START        0.0000\n",
       "REG_REGION_NOT_LIVE_REGION     0.0000\n",
       "REG_REGION_NOT_WORK_REGION     0.0000\n",
       "LIVE_REGION_NOT_WORK_REGION    0.0000\n",
       "REG_CITY_NOT_LIVE_CITY         0.0000\n",
       "REG_CITY_NOT_WORK_CITY         0.0000\n",
       "LIVE_CITY_NOT_WORK_CITY        0.0000\n",
       "ORGANIZATION_TYPE              0.0000\n",
       "EXT_SOURCE_2                   0.2146\n",
       "DAYS_LAST_PHONE_CHANGE         0.0003\n",
       "FLAG_DOCUMENT_2                0.0000\n",
       "FLAG_DOCUMENT_3                0.0000\n",
       "FLAG_DOCUMENT_4                0.0000\n",
       "FLAG_DOCUMENT_5                0.0000\n",
       "FLAG_DOCUMENT_6                0.0000\n",
       "FLAG_DOCUMENT_7                0.0000\n",
       "FLAG_DOCUMENT_8                0.0000\n",
       "FLAG_DOCUMENT_9                0.0000\n",
       "FLAG_DOCUMENT_10               0.0000\n",
       "FLAG_DOCUMENT_11               0.0000\n",
       "FLAG_DOCUMENT_12               0.0000\n",
       "FLAG_DOCUMENT_13               0.0000\n",
       "FLAG_DOCUMENT_14               0.0000\n",
       "FLAG_DOCUMENT_15               0.0000\n",
       "FLAG_DOCUMENT_16               0.0000\n",
       "FLAG_DOCUMENT_17               0.0000\n",
       "FLAG_DOCUMENT_18               0.0000\n",
       "FLAG_DOCUMENT_19               0.0000\n",
       "FLAG_DOCUMENT_20               0.0000\n",
       "FLAG_DOCUMENT_21               0.0000\n",
       "dtype: float64"
      ]
     },
     "execution_count": 18,
     "metadata": {},
     "output_type": "execute_result"
    }
   ],
   "source": [
    "# To check % of variations of the updated dataframe columns\n",
    "round(100*(EDA_App.isnull().sum()/len(EDA_App.index)),4)"
   ]
  },
  {
   "cell_type": "code",
   "execution_count": 19,
   "metadata": {},
   "outputs": [
    {
     "data": {
      "text/plain": [
       "12"
      ]
     },
     "execution_count": 19,
     "metadata": {},
     "output_type": "execute_result"
    }
   ],
   "source": [
    "# To check null values of a column\n",
    "EDA_App.AMT_ANNUITY.isnull().sum()"
   ]
  },
  {
   "cell_type": "code",
   "execution_count": 20,
   "metadata": {},
   "outputs": [
    {
     "data": {
      "text/plain": [
       "278"
      ]
     },
     "execution_count": 20,
     "metadata": {},
     "output_type": "execute_result"
    }
   ],
   "source": [
    "# To check null values of a column\n",
    "EDA_App.AMT_GOODS_PRICE.isnull().sum()"
   ]
  },
  {
   "cell_type": "code",
   "execution_count": 21,
   "metadata": {},
   "outputs": [
    {
     "data": {
      "text/plain": [
       "2"
      ]
     },
     "execution_count": 21,
     "metadata": {},
     "output_type": "execute_result"
    }
   ],
   "source": [
    "# To check null values of a column\n",
    "EDA_App.CNT_FAM_MEMBERS.isnull().sum()"
   ]
  },
  {
   "cell_type": "code",
   "execution_count": 22,
   "metadata": {},
   "outputs": [
    {
     "data": {
      "text/plain": [
       "660"
      ]
     },
     "execution_count": 22,
     "metadata": {},
     "output_type": "execute_result"
    }
   ],
   "source": [
    "# To check null values of a column\n",
    "EDA_App.EXT_SOURCE_2.isnull().sum()"
   ]
  },
  {
   "cell_type": "code",
   "execution_count": 23,
   "metadata": {},
   "outputs": [
    {
     "data": {
      "text/plain": [
       "1"
      ]
     },
     "execution_count": 23,
     "metadata": {},
     "output_type": "execute_result"
    }
   ],
   "source": [
    "# To check null values of a column\n",
    "EDA_App.DAYS_LAST_PHONE_CHANGE.isnull().sum()"
   ]
  },
  {
   "cell_type": "code",
   "execution_count": 24,
   "metadata": {},
   "outputs": [
    {
     "data": {
      "text/html": [
       "<div>\n",
       "<style scoped>\n",
       "    .dataframe tbody tr th:only-of-type {\n",
       "        vertical-align: middle;\n",
       "    }\n",
       "\n",
       "    .dataframe tbody tr th {\n",
       "        vertical-align: top;\n",
       "    }\n",
       "\n",
       "    .dataframe thead th {\n",
       "        text-align: right;\n",
       "    }\n",
       "</style>\n",
       "<table border=\"1\" class=\"dataframe\">\n",
       "  <thead>\n",
       "    <tr style=\"text-align: right;\">\n",
       "      <th></th>\n",
       "      <th>SK_ID_CURR</th>\n",
       "      <th>TARGET</th>\n",
       "      <th>NAME_CONTRACT_TYPE</th>\n",
       "      <th>CODE_GENDER</th>\n",
       "      <th>FLAG_OWN_CAR</th>\n",
       "      <th>FLAG_OWN_REALTY</th>\n",
       "      <th>CNT_CHILDREN</th>\n",
       "      <th>AMT_INCOME_TOTAL</th>\n",
       "      <th>AMT_CREDIT</th>\n",
       "      <th>AMT_ANNUITY</th>\n",
       "      <th>AMT_GOODS_PRICE</th>\n",
       "      <th>NAME_INCOME_TYPE</th>\n",
       "      <th>NAME_EDUCATION_TYPE</th>\n",
       "      <th>NAME_FAMILY_STATUS</th>\n",
       "      <th>NAME_HOUSING_TYPE</th>\n",
       "      <th>REGION_POPULATION_RELATIVE</th>\n",
       "      <th>DAYS_BIRTH</th>\n",
       "      <th>DAYS_EMPLOYED</th>\n",
       "      <th>DAYS_REGISTRATION</th>\n",
       "      <th>DAYS_ID_PUBLISH</th>\n",
       "      <th>FLAG_MOBIL</th>\n",
       "      <th>FLAG_EMP_PHONE</th>\n",
       "      <th>FLAG_WORK_PHONE</th>\n",
       "      <th>FLAG_CONT_MOBILE</th>\n",
       "      <th>FLAG_PHONE</th>\n",
       "      <th>FLAG_EMAIL</th>\n",
       "      <th>CNT_FAM_MEMBERS</th>\n",
       "      <th>REGION_RATING_CLIENT</th>\n",
       "      <th>REGION_RATING_CLIENT_W_CITY</th>\n",
       "      <th>WEEKDAY_APPR_PROCESS_START</th>\n",
       "      <th>HOUR_APPR_PROCESS_START</th>\n",
       "      <th>REG_REGION_NOT_LIVE_REGION</th>\n",
       "      <th>REG_REGION_NOT_WORK_REGION</th>\n",
       "      <th>LIVE_REGION_NOT_WORK_REGION</th>\n",
       "      <th>REG_CITY_NOT_LIVE_CITY</th>\n",
       "      <th>REG_CITY_NOT_WORK_CITY</th>\n",
       "      <th>LIVE_CITY_NOT_WORK_CITY</th>\n",
       "      <th>ORGANIZATION_TYPE</th>\n",
       "      <th>EXT_SOURCE_2</th>\n",
       "      <th>DAYS_LAST_PHONE_CHANGE</th>\n",
       "      <th>FLAG_DOCUMENT_2</th>\n",
       "      <th>FLAG_DOCUMENT_3</th>\n",
       "      <th>FLAG_DOCUMENT_4</th>\n",
       "      <th>FLAG_DOCUMENT_5</th>\n",
       "      <th>FLAG_DOCUMENT_6</th>\n",
       "      <th>FLAG_DOCUMENT_7</th>\n",
       "      <th>FLAG_DOCUMENT_8</th>\n",
       "      <th>FLAG_DOCUMENT_9</th>\n",
       "      <th>FLAG_DOCUMENT_10</th>\n",
       "      <th>FLAG_DOCUMENT_11</th>\n",
       "      <th>FLAG_DOCUMENT_12</th>\n",
       "      <th>FLAG_DOCUMENT_13</th>\n",
       "      <th>FLAG_DOCUMENT_14</th>\n",
       "      <th>FLAG_DOCUMENT_15</th>\n",
       "      <th>FLAG_DOCUMENT_16</th>\n",
       "      <th>FLAG_DOCUMENT_17</th>\n",
       "      <th>FLAG_DOCUMENT_18</th>\n",
       "      <th>FLAG_DOCUMENT_19</th>\n",
       "      <th>FLAG_DOCUMENT_20</th>\n",
       "      <th>FLAG_DOCUMENT_21</th>\n",
       "    </tr>\n",
       "  </thead>\n",
       "  <tbody>\n",
       "    <tr>\n",
       "      <th>47531</th>\n",
       "      <td>155054</td>\n",
       "      <td>0</td>\n",
       "      <td>Cash loans</td>\n",
       "      <td>M</td>\n",
       "      <td>N</td>\n",
       "      <td>N</td>\n",
       "      <td>0</td>\n",
       "      <td>180000.0</td>\n",
       "      <td>450000.0</td>\n",
       "      <td>NaN</td>\n",
       "      <td>450000.0</td>\n",
       "      <td>Commercial associate</td>\n",
       "      <td>Incomplete higher</td>\n",
       "      <td>Single / not married</td>\n",
       "      <td>House / apartment</td>\n",
       "      <td>0.026392</td>\n",
       "      <td>-10668</td>\n",
       "      <td>-2523</td>\n",
       "      <td>-4946.0</td>\n",
       "      <td>-3238</td>\n",
       "      <td>1</td>\n",
       "      <td>1</td>\n",
       "      <td>1</td>\n",
       "      <td>1</td>\n",
       "      <td>1</td>\n",
       "      <td>0</td>\n",
       "      <td>1.0</td>\n",
       "      <td>2</td>\n",
       "      <td>2</td>\n",
       "      <td>WEDNESDAY</td>\n",
       "      <td>13</td>\n",
       "      <td>0</td>\n",
       "      <td>0</td>\n",
       "      <td>0</td>\n",
       "      <td>0</td>\n",
       "      <td>0</td>\n",
       "      <td>0</td>\n",
       "      <td>Business Entity Type 3</td>\n",
       "      <td>0.626896</td>\n",
       "      <td>-2.0</td>\n",
       "      <td>0</td>\n",
       "      <td>0</td>\n",
       "      <td>0</td>\n",
       "      <td>1</td>\n",
       "      <td>0</td>\n",
       "      <td>0</td>\n",
       "      <td>0</td>\n",
       "      <td>0</td>\n",
       "      <td>0</td>\n",
       "      <td>0</td>\n",
       "      <td>0</td>\n",
       "      <td>0</td>\n",
       "      <td>0</td>\n",
       "      <td>0</td>\n",
       "      <td>0</td>\n",
       "      <td>0</td>\n",
       "      <td>0</td>\n",
       "      <td>0</td>\n",
       "      <td>0</td>\n",
       "      <td>0</td>\n",
       "    </tr>\n",
       "    <tr>\n",
       "      <th>50035</th>\n",
       "      <td>157917</td>\n",
       "      <td>0</td>\n",
       "      <td>Cash loans</td>\n",
       "      <td>F</td>\n",
       "      <td>N</td>\n",
       "      <td>N</td>\n",
       "      <td>0</td>\n",
       "      <td>94500.0</td>\n",
       "      <td>450000.0</td>\n",
       "      <td>NaN</td>\n",
       "      <td>450000.0</td>\n",
       "      <td>Working</td>\n",
       "      <td>Lower secondary</td>\n",
       "      <td>Civil marriage</td>\n",
       "      <td>House / apartment</td>\n",
       "      <td>0.035792</td>\n",
       "      <td>-9027</td>\n",
       "      <td>-1270</td>\n",
       "      <td>-3640.0</td>\n",
       "      <td>-741</td>\n",
       "      <td>1</td>\n",
       "      <td>1</td>\n",
       "      <td>1</td>\n",
       "      <td>1</td>\n",
       "      <td>0</td>\n",
       "      <td>0</td>\n",
       "      <td>2.0</td>\n",
       "      <td>2</td>\n",
       "      <td>2</td>\n",
       "      <td>MONDAY</td>\n",
       "      <td>20</td>\n",
       "      <td>0</td>\n",
       "      <td>0</td>\n",
       "      <td>0</td>\n",
       "      <td>0</td>\n",
       "      <td>0</td>\n",
       "      <td>0</td>\n",
       "      <td>Business Entity Type 1</td>\n",
       "      <td>0.727274</td>\n",
       "      <td>-706.0</td>\n",
       "      <td>0</td>\n",
       "      <td>1</td>\n",
       "      <td>0</td>\n",
       "      <td>0</td>\n",
       "      <td>0</td>\n",
       "      <td>0</td>\n",
       "      <td>0</td>\n",
       "      <td>0</td>\n",
       "      <td>0</td>\n",
       "      <td>0</td>\n",
       "      <td>0</td>\n",
       "      <td>0</td>\n",
       "      <td>0</td>\n",
       "      <td>0</td>\n",
       "      <td>0</td>\n",
       "      <td>0</td>\n",
       "      <td>0</td>\n",
       "      <td>0</td>\n",
       "      <td>0</td>\n",
       "      <td>0</td>\n",
       "    </tr>\n",
       "    <tr>\n",
       "      <th>51594</th>\n",
       "      <td>159744</td>\n",
       "      <td>0</td>\n",
       "      <td>Cash loans</td>\n",
       "      <td>F</td>\n",
       "      <td>N</td>\n",
       "      <td>N</td>\n",
       "      <td>0</td>\n",
       "      <td>202500.0</td>\n",
       "      <td>539100.0</td>\n",
       "      <td>NaN</td>\n",
       "      <td>450000.0</td>\n",
       "      <td>Working</td>\n",
       "      <td>Secondary / secondary special</td>\n",
       "      <td>Married</td>\n",
       "      <td>House / apartment</td>\n",
       "      <td>0.046220</td>\n",
       "      <td>-17376</td>\n",
       "      <td>-3950</td>\n",
       "      <td>-11524.0</td>\n",
       "      <td>-831</td>\n",
       "      <td>1</td>\n",
       "      <td>1</td>\n",
       "      <td>0</td>\n",
       "      <td>1</td>\n",
       "      <td>0</td>\n",
       "      <td>0</td>\n",
       "      <td>2.0</td>\n",
       "      <td>1</td>\n",
       "      <td>1</td>\n",
       "      <td>WEDNESDAY</td>\n",
       "      <td>15</td>\n",
       "      <td>0</td>\n",
       "      <td>0</td>\n",
       "      <td>0</td>\n",
       "      <td>1</td>\n",
       "      <td>1</td>\n",
       "      <td>1</td>\n",
       "      <td>Self-employed</td>\n",
       "      <td>0.738370</td>\n",
       "      <td>-199.0</td>\n",
       "      <td>0</td>\n",
       "      <td>1</td>\n",
       "      <td>0</td>\n",
       "      <td>0</td>\n",
       "      <td>0</td>\n",
       "      <td>0</td>\n",
       "      <td>0</td>\n",
       "      <td>0</td>\n",
       "      <td>0</td>\n",
       "      <td>0</td>\n",
       "      <td>0</td>\n",
       "      <td>0</td>\n",
       "      <td>0</td>\n",
       "      <td>0</td>\n",
       "      <td>0</td>\n",
       "      <td>0</td>\n",
       "      <td>0</td>\n",
       "      <td>0</td>\n",
       "      <td>0</td>\n",
       "      <td>0</td>\n",
       "    </tr>\n",
       "    <tr>\n",
       "      <th>55025</th>\n",
       "      <td>163757</td>\n",
       "      <td>0</td>\n",
       "      <td>Cash loans</td>\n",
       "      <td>F</td>\n",
       "      <td>N</td>\n",
       "      <td>N</td>\n",
       "      <td>0</td>\n",
       "      <td>162000.0</td>\n",
       "      <td>296280.0</td>\n",
       "      <td>NaN</td>\n",
       "      <td>225000.0</td>\n",
       "      <td>State servant</td>\n",
       "      <td>Higher education</td>\n",
       "      <td>Married</td>\n",
       "      <td>House / apartment</td>\n",
       "      <td>0.035792</td>\n",
       "      <td>-11329</td>\n",
       "      <td>-2040</td>\n",
       "      <td>-3195.0</td>\n",
       "      <td>-3069</td>\n",
       "      <td>1</td>\n",
       "      <td>1</td>\n",
       "      <td>0</td>\n",
       "      <td>1</td>\n",
       "      <td>0</td>\n",
       "      <td>0</td>\n",
       "      <td>2.0</td>\n",
       "      <td>2</td>\n",
       "      <td>2</td>\n",
       "      <td>FRIDAY</td>\n",
       "      <td>13</td>\n",
       "      <td>0</td>\n",
       "      <td>0</td>\n",
       "      <td>0</td>\n",
       "      <td>1</td>\n",
       "      <td>1</td>\n",
       "      <td>1</td>\n",
       "      <td>Government</td>\n",
       "      <td>0.566316</td>\n",
       "      <td>-2841.0</td>\n",
       "      <td>0</td>\n",
       "      <td>1</td>\n",
       "      <td>0</td>\n",
       "      <td>0</td>\n",
       "      <td>0</td>\n",
       "      <td>0</td>\n",
       "      <td>0</td>\n",
       "      <td>0</td>\n",
       "      <td>0</td>\n",
       "      <td>0</td>\n",
       "      <td>0</td>\n",
       "      <td>0</td>\n",
       "      <td>0</td>\n",
       "      <td>0</td>\n",
       "      <td>0</td>\n",
       "      <td>0</td>\n",
       "      <td>0</td>\n",
       "      <td>0</td>\n",
       "      <td>0</td>\n",
       "      <td>0</td>\n",
       "    </tr>\n",
       "    <tr>\n",
       "      <th>59934</th>\n",
       "      <td>169487</td>\n",
       "      <td>0</td>\n",
       "      <td>Cash loans</td>\n",
       "      <td>M</td>\n",
       "      <td>Y</td>\n",
       "      <td>N</td>\n",
       "      <td>0</td>\n",
       "      <td>202500.0</td>\n",
       "      <td>360000.0</td>\n",
       "      <td>NaN</td>\n",
       "      <td>360000.0</td>\n",
       "      <td>Working</td>\n",
       "      <td>Secondary / secondary special</td>\n",
       "      <td>Single / not married</td>\n",
       "      <td>House / apartment</td>\n",
       "      <td>0.046220</td>\n",
       "      <td>-19762</td>\n",
       "      <td>-2498</td>\n",
       "      <td>-11285.0</td>\n",
       "      <td>-3305</td>\n",
       "      <td>1</td>\n",
       "      <td>1</td>\n",
       "      <td>1</td>\n",
       "      <td>1</td>\n",
       "      <td>1</td>\n",
       "      <td>0</td>\n",
       "      <td>1.0</td>\n",
       "      <td>1</td>\n",
       "      <td>1</td>\n",
       "      <td>FRIDAY</td>\n",
       "      <td>15</td>\n",
       "      <td>0</td>\n",
       "      <td>1</td>\n",
       "      <td>1</td>\n",
       "      <td>0</td>\n",
       "      <td>1</td>\n",
       "      <td>1</td>\n",
       "      <td>Other</td>\n",
       "      <td>0.583947</td>\n",
       "      <td>-743.0</td>\n",
       "      <td>0</td>\n",
       "      <td>0</td>\n",
       "      <td>0</td>\n",
       "      <td>0</td>\n",
       "      <td>0</td>\n",
       "      <td>0</td>\n",
       "      <td>1</td>\n",
       "      <td>0</td>\n",
       "      <td>0</td>\n",
       "      <td>0</td>\n",
       "      <td>0</td>\n",
       "      <td>0</td>\n",
       "      <td>0</td>\n",
       "      <td>0</td>\n",
       "      <td>0</td>\n",
       "      <td>0</td>\n",
       "      <td>0</td>\n",
       "      <td>0</td>\n",
       "      <td>0</td>\n",
       "      <td>0</td>\n",
       "    </tr>\n",
       "    <tr>\n",
       "      <th>75873</th>\n",
       "      <td>187985</td>\n",
       "      <td>0</td>\n",
       "      <td>Cash loans</td>\n",
       "      <td>M</td>\n",
       "      <td>Y</td>\n",
       "      <td>N</td>\n",
       "      <td>0</td>\n",
       "      <td>144000.0</td>\n",
       "      <td>219249.0</td>\n",
       "      <td>NaN</td>\n",
       "      <td>166500.0</td>\n",
       "      <td>Working</td>\n",
       "      <td>Higher education</td>\n",
       "      <td>Single / not married</td>\n",
       "      <td>Rented apartment</td>\n",
       "      <td>0.022800</td>\n",
       "      <td>-20831</td>\n",
       "      <td>-2450</td>\n",
       "      <td>-771.0</td>\n",
       "      <td>-4203</td>\n",
       "      <td>1</td>\n",
       "      <td>1</td>\n",
       "      <td>0</td>\n",
       "      <td>1</td>\n",
       "      <td>0</td>\n",
       "      <td>0</td>\n",
       "      <td>1.0</td>\n",
       "      <td>2</td>\n",
       "      <td>2</td>\n",
       "      <td>FRIDAY</td>\n",
       "      <td>15</td>\n",
       "      <td>0</td>\n",
       "      <td>0</td>\n",
       "      <td>0</td>\n",
       "      <td>0</td>\n",
       "      <td>0</td>\n",
       "      <td>0</td>\n",
       "      <td>Business Entity Type 3</td>\n",
       "      <td>0.667564</td>\n",
       "      <td>-1986.0</td>\n",
       "      <td>0</td>\n",
       "      <td>1</td>\n",
       "      <td>0</td>\n",
       "      <td>0</td>\n",
       "      <td>0</td>\n",
       "      <td>0</td>\n",
       "      <td>0</td>\n",
       "      <td>0</td>\n",
       "      <td>0</td>\n",
       "      <td>0</td>\n",
       "      <td>0</td>\n",
       "      <td>0</td>\n",
       "      <td>0</td>\n",
       "      <td>0</td>\n",
       "      <td>0</td>\n",
       "      <td>0</td>\n",
       "      <td>0</td>\n",
       "      <td>0</td>\n",
       "      <td>0</td>\n",
       "      <td>0</td>\n",
       "    </tr>\n",
       "    <tr>\n",
       "      <th>89343</th>\n",
       "      <td>203726</td>\n",
       "      <td>0</td>\n",
       "      <td>Cash loans</td>\n",
       "      <td>F</td>\n",
       "      <td>Y</td>\n",
       "      <td>N</td>\n",
       "      <td>0</td>\n",
       "      <td>90000.0</td>\n",
       "      <td>157500.0</td>\n",
       "      <td>NaN</td>\n",
       "      <td>157500.0</td>\n",
       "      <td>State servant</td>\n",
       "      <td>Secondary / secondary special</td>\n",
       "      <td>Married</td>\n",
       "      <td>House / apartment</td>\n",
       "      <td>0.015221</td>\n",
       "      <td>-12134</td>\n",
       "      <td>-3721</td>\n",
       "      <td>-858.0</td>\n",
       "      <td>-591</td>\n",
       "      <td>1</td>\n",
       "      <td>1</td>\n",
       "      <td>0</td>\n",
       "      <td>1</td>\n",
       "      <td>1</td>\n",
       "      <td>0</td>\n",
       "      <td>2.0</td>\n",
       "      <td>2</td>\n",
       "      <td>2</td>\n",
       "      <td>WEDNESDAY</td>\n",
       "      <td>11</td>\n",
       "      <td>0</td>\n",
       "      <td>0</td>\n",
       "      <td>0</td>\n",
       "      <td>0</td>\n",
       "      <td>0</td>\n",
       "      <td>0</td>\n",
       "      <td>Medicine</td>\n",
       "      <td>0.154811</td>\n",
       "      <td>-348.0</td>\n",
       "      <td>0</td>\n",
       "      <td>1</td>\n",
       "      <td>0</td>\n",
       "      <td>0</td>\n",
       "      <td>0</td>\n",
       "      <td>0</td>\n",
       "      <td>0</td>\n",
       "      <td>0</td>\n",
       "      <td>0</td>\n",
       "      <td>0</td>\n",
       "      <td>0</td>\n",
       "      <td>0</td>\n",
       "      <td>0</td>\n",
       "      <td>0</td>\n",
       "      <td>0</td>\n",
       "      <td>0</td>\n",
       "      <td>0</td>\n",
       "      <td>0</td>\n",
       "      <td>0</td>\n",
       "      <td>0</td>\n",
       "    </tr>\n",
       "    <tr>\n",
       "      <th>123872</th>\n",
       "      <td>243648</td>\n",
       "      <td>0</td>\n",
       "      <td>Cash loans</td>\n",
       "      <td>F</td>\n",
       "      <td>N</td>\n",
       "      <td>Y</td>\n",
       "      <td>0</td>\n",
       "      <td>202500.0</td>\n",
       "      <td>929088.0</td>\n",
       "      <td>NaN</td>\n",
       "      <td>720000.0</td>\n",
       "      <td>Working</td>\n",
       "      <td>Secondary / secondary special</td>\n",
       "      <td>Civil marriage</td>\n",
       "      <td>House / apartment</td>\n",
       "      <td>0.019689</td>\n",
       "      <td>-13902</td>\n",
       "      <td>-3540</td>\n",
       "      <td>-168.0</td>\n",
       "      <td>-4250</td>\n",
       "      <td>1</td>\n",
       "      <td>1</td>\n",
       "      <td>0</td>\n",
       "      <td>1</td>\n",
       "      <td>0</td>\n",
       "      <td>1</td>\n",
       "      <td>2.0</td>\n",
       "      <td>2</td>\n",
       "      <td>2</td>\n",
       "      <td>SATURDAY</td>\n",
       "      <td>12</td>\n",
       "      <td>0</td>\n",
       "      <td>0</td>\n",
       "      <td>0</td>\n",
       "      <td>0</td>\n",
       "      <td>0</td>\n",
       "      <td>0</td>\n",
       "      <td>Self-employed</td>\n",
       "      <td>0.510934</td>\n",
       "      <td>-1331.0</td>\n",
       "      <td>0</td>\n",
       "      <td>1</td>\n",
       "      <td>0</td>\n",
       "      <td>0</td>\n",
       "      <td>0</td>\n",
       "      <td>0</td>\n",
       "      <td>0</td>\n",
       "      <td>0</td>\n",
       "      <td>0</td>\n",
       "      <td>0</td>\n",
       "      <td>0</td>\n",
       "      <td>0</td>\n",
       "      <td>0</td>\n",
       "      <td>0</td>\n",
       "      <td>0</td>\n",
       "      <td>0</td>\n",
       "      <td>0</td>\n",
       "      <td>0</td>\n",
       "      <td>0</td>\n",
       "      <td>0</td>\n",
       "    </tr>\n",
       "    <tr>\n",
       "      <th>207186</th>\n",
       "      <td>340147</td>\n",
       "      <td>0</td>\n",
       "      <td>Cash loans</td>\n",
       "      <td>M</td>\n",
       "      <td>N</td>\n",
       "      <td>N</td>\n",
       "      <td>0</td>\n",
       "      <td>171000.0</td>\n",
       "      <td>486000.0</td>\n",
       "      <td>NaN</td>\n",
       "      <td>486000.0</td>\n",
       "      <td>Commercial associate</td>\n",
       "      <td>Higher education</td>\n",
       "      <td>Married</td>\n",
       "      <td>House / apartment</td>\n",
       "      <td>0.018634</td>\n",
       "      <td>-10151</td>\n",
       "      <td>-472</td>\n",
       "      <td>-10127.0</td>\n",
       "      <td>-2787</td>\n",
       "      <td>1</td>\n",
       "      <td>1</td>\n",
       "      <td>0</td>\n",
       "      <td>1</td>\n",
       "      <td>1</td>\n",
       "      <td>0</td>\n",
       "      <td>2.0</td>\n",
       "      <td>2</td>\n",
       "      <td>2</td>\n",
       "      <td>WEDNESDAY</td>\n",
       "      <td>13</td>\n",
       "      <td>1</td>\n",
       "      <td>1</td>\n",
       "      <td>1</td>\n",
       "      <td>1</td>\n",
       "      <td>1</td>\n",
       "      <td>1</td>\n",
       "      <td>Security</td>\n",
       "      <td>0.706306</td>\n",
       "      <td>-295.0</td>\n",
       "      <td>0</td>\n",
       "      <td>0</td>\n",
       "      <td>0</td>\n",
       "      <td>1</td>\n",
       "      <td>0</td>\n",
       "      <td>0</td>\n",
       "      <td>0</td>\n",
       "      <td>0</td>\n",
       "      <td>0</td>\n",
       "      <td>0</td>\n",
       "      <td>0</td>\n",
       "      <td>0</td>\n",
       "      <td>0</td>\n",
       "      <td>0</td>\n",
       "      <td>0</td>\n",
       "      <td>0</td>\n",
       "      <td>0</td>\n",
       "      <td>0</td>\n",
       "      <td>0</td>\n",
       "      <td>0</td>\n",
       "    </tr>\n",
       "    <tr>\n",
       "      <th>227939</th>\n",
       "      <td>364022</td>\n",
       "      <td>0</td>\n",
       "      <td>Cash loans</td>\n",
       "      <td>F</td>\n",
       "      <td>N</td>\n",
       "      <td>Y</td>\n",
       "      <td>0</td>\n",
       "      <td>315000.0</td>\n",
       "      <td>628069.5</td>\n",
       "      <td>NaN</td>\n",
       "      <td>499500.0</td>\n",
       "      <td>Commercial associate</td>\n",
       "      <td>Higher education</td>\n",
       "      <td>Married</td>\n",
       "      <td>Municipal apartment</td>\n",
       "      <td>0.046220</td>\n",
       "      <td>-16344</td>\n",
       "      <td>-1478</td>\n",
       "      <td>-482.0</td>\n",
       "      <td>-4192</td>\n",
       "      <td>1</td>\n",
       "      <td>1</td>\n",
       "      <td>0</td>\n",
       "      <td>1</td>\n",
       "      <td>0</td>\n",
       "      <td>0</td>\n",
       "      <td>2.0</td>\n",
       "      <td>1</td>\n",
       "      <td>1</td>\n",
       "      <td>WEDNESDAY</td>\n",
       "      <td>11</td>\n",
       "      <td>0</td>\n",
       "      <td>1</td>\n",
       "      <td>1</td>\n",
       "      <td>0</td>\n",
       "      <td>0</td>\n",
       "      <td>0</td>\n",
       "      <td>Business Entity Type 3</td>\n",
       "      <td>0.618698</td>\n",
       "      <td>-1255.0</td>\n",
       "      <td>0</td>\n",
       "      <td>1</td>\n",
       "      <td>0</td>\n",
       "      <td>0</td>\n",
       "      <td>0</td>\n",
       "      <td>0</td>\n",
       "      <td>0</td>\n",
       "      <td>0</td>\n",
       "      <td>0</td>\n",
       "      <td>0</td>\n",
       "      <td>0</td>\n",
       "      <td>0</td>\n",
       "      <td>0</td>\n",
       "      <td>0</td>\n",
       "      <td>0</td>\n",
       "      <td>0</td>\n",
       "      <td>0</td>\n",
       "      <td>0</td>\n",
       "      <td>0</td>\n",
       "      <td>0</td>\n",
       "    </tr>\n",
       "    <tr>\n",
       "      <th>239329</th>\n",
       "      <td>377174</td>\n",
       "      <td>0</td>\n",
       "      <td>Cash loans</td>\n",
       "      <td>F</td>\n",
       "      <td>N</td>\n",
       "      <td>Y</td>\n",
       "      <td>0</td>\n",
       "      <td>157500.0</td>\n",
       "      <td>792000.0</td>\n",
       "      <td>NaN</td>\n",
       "      <td>792000.0</td>\n",
       "      <td>State servant</td>\n",
       "      <td>Secondary / secondary special</td>\n",
       "      <td>Married</td>\n",
       "      <td>House / apartment</td>\n",
       "      <td>0.026392</td>\n",
       "      <td>-17661</td>\n",
       "      <td>-2885</td>\n",
       "      <td>-8594.0</td>\n",
       "      <td>-1221</td>\n",
       "      <td>1</td>\n",
       "      <td>1</td>\n",
       "      <td>0</td>\n",
       "      <td>1</td>\n",
       "      <td>1</td>\n",
       "      <td>0</td>\n",
       "      <td>2.0</td>\n",
       "      <td>2</td>\n",
       "      <td>2</td>\n",
       "      <td>SATURDAY</td>\n",
       "      <td>14</td>\n",
       "      <td>0</td>\n",
       "      <td>0</td>\n",
       "      <td>0</td>\n",
       "      <td>0</td>\n",
       "      <td>0</td>\n",
       "      <td>0</td>\n",
       "      <td>Other</td>\n",
       "      <td>0.656305</td>\n",
       "      <td>-322.0</td>\n",
       "      <td>0</td>\n",
       "      <td>1</td>\n",
       "      <td>0</td>\n",
       "      <td>0</td>\n",
       "      <td>0</td>\n",
       "      <td>0</td>\n",
       "      <td>0</td>\n",
       "      <td>0</td>\n",
       "      <td>0</td>\n",
       "      <td>0</td>\n",
       "      <td>0</td>\n",
       "      <td>0</td>\n",
       "      <td>0</td>\n",
       "      <td>0</td>\n",
       "      <td>0</td>\n",
       "      <td>0</td>\n",
       "      <td>0</td>\n",
       "      <td>0</td>\n",
       "      <td>0</td>\n",
       "      <td>0</td>\n",
       "    </tr>\n",
       "    <tr>\n",
       "      <th>241835</th>\n",
       "      <td>379997</td>\n",
       "      <td>0</td>\n",
       "      <td>Cash loans</td>\n",
       "      <td>F</td>\n",
       "      <td>N</td>\n",
       "      <td>N</td>\n",
       "      <td>0</td>\n",
       "      <td>315000.0</td>\n",
       "      <td>1483231.5</td>\n",
       "      <td>NaN</td>\n",
       "      <td>1354500.0</td>\n",
       "      <td>Working</td>\n",
       "      <td>Higher education</td>\n",
       "      <td>Married</td>\n",
       "      <td>House / apartment</td>\n",
       "      <td>0.072508</td>\n",
       "      <td>-15072</td>\n",
       "      <td>-152</td>\n",
       "      <td>-7576.0</td>\n",
       "      <td>-4389</td>\n",
       "      <td>1</td>\n",
       "      <td>1</td>\n",
       "      <td>1</td>\n",
       "      <td>1</td>\n",
       "      <td>1</td>\n",
       "      <td>0</td>\n",
       "      <td>2.0</td>\n",
       "      <td>1</td>\n",
       "      <td>1</td>\n",
       "      <td>WEDNESDAY</td>\n",
       "      <td>15</td>\n",
       "      <td>0</td>\n",
       "      <td>1</td>\n",
       "      <td>1</td>\n",
       "      <td>0</td>\n",
       "      <td>1</td>\n",
       "      <td>1</td>\n",
       "      <td>Self-employed</td>\n",
       "      <td>0.267269</td>\n",
       "      <td>-504.0</td>\n",
       "      <td>0</td>\n",
       "      <td>0</td>\n",
       "      <td>0</td>\n",
       "      <td>0</td>\n",
       "      <td>0</td>\n",
       "      <td>0</td>\n",
       "      <td>1</td>\n",
       "      <td>0</td>\n",
       "      <td>0</td>\n",
       "      <td>0</td>\n",
       "      <td>0</td>\n",
       "      <td>0</td>\n",
       "      <td>0</td>\n",
       "      <td>0</td>\n",
       "      <td>0</td>\n",
       "      <td>0</td>\n",
       "      <td>0</td>\n",
       "      <td>0</td>\n",
       "      <td>0</td>\n",
       "      <td>0</td>\n",
       "    </tr>\n",
       "  </tbody>\n",
       "</table>\n",
       "</div>"
      ],
      "text/plain": [
       "        SK_ID_CURR  TARGET NAME_CONTRACT_TYPE CODE_GENDER FLAG_OWN_CAR FLAG_OWN_REALTY  CNT_CHILDREN  AMT_INCOME_TOTAL  AMT_CREDIT  AMT_ANNUITY  AMT_GOODS_PRICE      NAME_INCOME_TYPE            NAME_EDUCATION_TYPE    NAME_FAMILY_STATUS    NAME_HOUSING_TYPE  REGION_POPULATION_RELATIVE  DAYS_BIRTH  DAYS_EMPLOYED  DAYS_REGISTRATION  DAYS_ID_PUBLISH  FLAG_MOBIL  FLAG_EMP_PHONE  FLAG_WORK_PHONE  FLAG_CONT_MOBILE  FLAG_PHONE  FLAG_EMAIL  CNT_FAM_MEMBERS  REGION_RATING_CLIENT  REGION_RATING_CLIENT_W_CITY WEEKDAY_APPR_PROCESS_START  HOUR_APPR_PROCESS_START  REG_REGION_NOT_LIVE_REGION  REG_REGION_NOT_WORK_REGION  LIVE_REGION_NOT_WORK_REGION  REG_CITY_NOT_LIVE_CITY  REG_CITY_NOT_WORK_CITY  LIVE_CITY_NOT_WORK_CITY       ORGANIZATION_TYPE  EXT_SOURCE_2  DAYS_LAST_PHONE_CHANGE  FLAG_DOCUMENT_2  FLAG_DOCUMENT_3  FLAG_DOCUMENT_4  FLAG_DOCUMENT_5  FLAG_DOCUMENT_6  FLAG_DOCUMENT_7  FLAG_DOCUMENT_8  FLAG_DOCUMENT_9  FLAG_DOCUMENT_10  FLAG_DOCUMENT_11  FLAG_DOCUMENT_12  FLAG_DOCUMENT_13  \\\n",
       "47531       155054       0         Cash loans           M            N               N             0          180000.0    450000.0          NaN         450000.0  Commercial associate              Incomplete higher  Single / not married    House / apartment                    0.026392      -10668          -2523            -4946.0            -3238           1               1                1                 1           1           0              1.0                     2                            2                  WEDNESDAY                       13                           0                           0                            0                       0                       0                        0  Business Entity Type 3      0.626896                    -2.0                0                0                0                1                0                0                0                0                 0                 0                 0                 0   \n",
       "50035       157917       0         Cash loans           F            N               N             0           94500.0    450000.0          NaN         450000.0               Working                Lower secondary        Civil marriage    House / apartment                    0.035792       -9027          -1270            -3640.0             -741           1               1                1                 1           0           0              2.0                     2                            2                     MONDAY                       20                           0                           0                            0                       0                       0                        0  Business Entity Type 1      0.727274                  -706.0                0                1                0                0                0                0                0                0                 0                 0                 0                 0   \n",
       "51594       159744       0         Cash loans           F            N               N             0          202500.0    539100.0          NaN         450000.0               Working  Secondary / secondary special               Married    House / apartment                    0.046220      -17376          -3950           -11524.0             -831           1               1                0                 1           0           0              2.0                     1                            1                  WEDNESDAY                       15                           0                           0                            0                       1                       1                        1           Self-employed      0.738370                  -199.0                0                1                0                0                0                0                0                0                 0                 0                 0                 0   \n",
       "55025       163757       0         Cash loans           F            N               N             0          162000.0    296280.0          NaN         225000.0         State servant               Higher education               Married    House / apartment                    0.035792      -11329          -2040            -3195.0            -3069           1               1                0                 1           0           0              2.0                     2                            2                     FRIDAY                       13                           0                           0                            0                       1                       1                        1              Government      0.566316                 -2841.0                0                1                0                0                0                0                0                0                 0                 0                 0                 0   \n",
       "59934       169487       0         Cash loans           M            Y               N             0          202500.0    360000.0          NaN         360000.0               Working  Secondary / secondary special  Single / not married    House / apartment                    0.046220      -19762          -2498           -11285.0            -3305           1               1                1                 1           1           0              1.0                     1                            1                     FRIDAY                       15                           0                           1                            1                       0                       1                        1                   Other      0.583947                  -743.0                0                0                0                0                0                0                1                0                 0                 0                 0                 0   \n",
       "75873       187985       0         Cash loans           M            Y               N             0          144000.0    219249.0          NaN         166500.0               Working               Higher education  Single / not married     Rented apartment                    0.022800      -20831          -2450             -771.0            -4203           1               1                0                 1           0           0              1.0                     2                            2                     FRIDAY                       15                           0                           0                            0                       0                       0                        0  Business Entity Type 3      0.667564                 -1986.0                0                1                0                0                0                0                0                0                 0                 0                 0                 0   \n",
       "89343       203726       0         Cash loans           F            Y               N             0           90000.0    157500.0          NaN         157500.0         State servant  Secondary / secondary special               Married    House / apartment                    0.015221      -12134          -3721             -858.0             -591           1               1                0                 1           1           0              2.0                     2                            2                  WEDNESDAY                       11                           0                           0                            0                       0                       0                        0                Medicine      0.154811                  -348.0                0                1                0                0                0                0                0                0                 0                 0                 0                 0   \n",
       "123872      243648       0         Cash loans           F            N               Y             0          202500.0    929088.0          NaN         720000.0               Working  Secondary / secondary special        Civil marriage    House / apartment                    0.019689      -13902          -3540             -168.0            -4250           1               1                0                 1           0           1              2.0                     2                            2                   SATURDAY                       12                           0                           0                            0                       0                       0                        0           Self-employed      0.510934                 -1331.0                0                1                0                0                0                0                0                0                 0                 0                 0                 0   \n",
       "207186      340147       0         Cash loans           M            N               N             0          171000.0    486000.0          NaN         486000.0  Commercial associate               Higher education               Married    House / apartment                    0.018634      -10151           -472           -10127.0            -2787           1               1                0                 1           1           0              2.0                     2                            2                  WEDNESDAY                       13                           1                           1                            1                       1                       1                        1                Security      0.706306                  -295.0                0                0                0                1                0                0                0                0                 0                 0                 0                 0   \n",
       "227939      364022       0         Cash loans           F            N               Y             0          315000.0    628069.5          NaN         499500.0  Commercial associate               Higher education               Married  Municipal apartment                    0.046220      -16344          -1478             -482.0            -4192           1               1                0                 1           0           0              2.0                     1                            1                  WEDNESDAY                       11                           0                           1                            1                       0                       0                        0  Business Entity Type 3      0.618698                 -1255.0                0                1                0                0                0                0                0                0                 0                 0                 0                 0   \n",
       "239329      377174       0         Cash loans           F            N               Y             0          157500.0    792000.0          NaN         792000.0         State servant  Secondary / secondary special               Married    House / apartment                    0.026392      -17661          -2885            -8594.0            -1221           1               1                0                 1           1           0              2.0                     2                            2                   SATURDAY                       14                           0                           0                            0                       0                       0                        0                   Other      0.656305                  -322.0                0                1                0                0                0                0                0                0                 0                 0                 0                 0   \n",
       "241835      379997       0         Cash loans           F            N               N             0          315000.0   1483231.5          NaN        1354500.0               Working               Higher education               Married    House / apartment                    0.072508      -15072           -152            -7576.0            -4389           1               1                1                 1           1           0              2.0                     1                            1                  WEDNESDAY                       15                           0                           1                            1                       0                       1                        1           Self-employed      0.267269                  -504.0                0                0                0                0                0                0                1                0                 0                 0                 0                 0   \n",
       "\n",
       "        FLAG_DOCUMENT_14  FLAG_DOCUMENT_15  FLAG_DOCUMENT_16  FLAG_DOCUMENT_17  FLAG_DOCUMENT_18  FLAG_DOCUMENT_19  FLAG_DOCUMENT_20  FLAG_DOCUMENT_21  \n",
       "47531                  0                 0                 0                 0                 0                 0                 0                 0  \n",
       "50035                  0                 0                 0                 0                 0                 0                 0                 0  \n",
       "51594                  0                 0                 0                 0                 0                 0                 0                 0  \n",
       "55025                  0                 0                 0                 0                 0                 0                 0                 0  \n",
       "59934                  0                 0                 0                 0                 0                 0                 0                 0  \n",
       "75873                  0                 0                 0                 0                 0                 0                 0                 0  \n",
       "89343                  0                 0                 0                 0                 0                 0                 0                 0  \n",
       "123872                 0                 0                 0                 0                 0                 0                 0                 0  \n",
       "207186                 0                 0                 0                 0                 0                 0                 0                 0  \n",
       "227939                 0                 0                 0                 0                 0                 0                 0                 0  \n",
       "239329                 0                 0                 0                 0                 0                 0                 0                 0  \n",
       "241835                 0                 0                 0                 0                 0                 0                 0                 0  "
      ]
     },
     "execution_count": 24,
     "metadata": {},
     "output_type": "execute_result"
    }
   ],
   "source": [
    "# To check the details of the Null column with all the rows\n",
    "EDA_App[EDA_App['AMT_ANNUITY'].isnull()]"
   ]
  },
  {
   "cell_type": "code",
   "execution_count": 25,
   "metadata": {},
   "outputs": [
    {
     "data": {
      "text/plain": [
       "9000.0     6385\n",
       "13500.0    5514\n",
       "6750.0     2279\n",
       "10125.0    2035\n",
       "37800.0    1602\n",
       "           ... \n",
       "15210.0       1\n",
       "50265.0       1\n",
       "73012.5       1\n",
       "40558.5       1\n",
       "4437.0        1\n",
       "Name: AMT_ANNUITY, Length: 13672, dtype: int64"
      ]
     },
     "execution_count": 25,
     "metadata": {},
     "output_type": "execute_result"
    }
   ],
   "source": [
    "# To count the values in a column\n",
    "EDA_App['AMT_ANNUITY'].value_counts()"
   ]
  },
  {
   "cell_type": "code",
   "execution_count": 26,
   "metadata": {},
   "outputs": [
    {
     "data": {
      "text/plain": [
       "count    307499.00\n",
       "mean      27108.57\n",
       "std       14493.74\n",
       "min        1615.50\n",
       "25%       16524.00\n",
       "50%       24903.00\n",
       "75%       34596.00\n",
       "max      258025.50\n",
       "Name: AMT_ANNUITY, dtype: float64"
      ]
     },
     "execution_count": 26,
     "metadata": {},
     "output_type": "execute_result"
    }
   ],
   "source": [
    "# To describe the column\n",
    "round(EDA_App.AMT_ANNUITY.describe(),2)"
   ]
  },
  {
   "cell_type": "code",
   "execution_count": 27,
   "metadata": {},
   "outputs": [
    {
     "data": {
      "image/png": "[encoded data removed]",
      "text/plain": [
       "<Figure size 720x216 with 1 Axes>"
      ]
     },
     "metadata": {
      "needs_background": "light"
     },
     "output_type": "display_data"
    }
   ],
   "source": [
    "# To find outliers for the column 'AMT_ANNUITY'\n",
    "plt.figure(figsize = [10,3])\n",
    "sns.boxplot(EDA_App[\"AMT_ANNUITY\"])\n",
    "plt.show()"
   ]
  },
  {
   "cell_type": "code",
   "execution_count": 28,
   "metadata": {},
   "outputs": [
    {
     "data": {
      "text/plain": [
       "0.25     16524.0\n",
       "0.50     24903.0\n",
       "0.70     32004.0\n",
       "0.75     34596.0\n",
       "0.80     37516.5\n",
       "0.90     45954.0\n",
       "0.95     53325.0\n",
       "0.99     70006.5\n",
       "1.00    258025.5\n",
       "Name: AMT_ANNUITY, dtype: float64"
      ]
     },
     "execution_count": 28,
     "metadata": {},
     "output_type": "execute_result"
    }
   ],
   "source": [
    "# Find out the quantile (0.25, 0.5, 0.7, 0.75, 0.8, 0.9, 0.95, 0.99, 1) of 'AMT_ANNUITY' column\n",
    "EDA_App[\"AMT_ANNUITY\"].quantile([0.25, 0.5, 0.7, 0.75, 0.8, 0.9, 0.95, 0.99, 1])"
   ]
  },
  {
   "cell_type": "markdown",
   "metadata": {},
   "source": [
    "#### The above result is showing that 'AMT_ANNUITY' column has outliers and the maximum outliers lies between 0.99 and 1 quantile. Therefore we should impute the value of NaN values by taking median of this column."
   ]
  },
  {
   "cell_type": "code",
   "execution_count": 29,
   "metadata": {},
   "outputs": [
    {
     "data": {
      "text/plain": [
       "24903.0"
      ]
     },
     "execution_count": 29,
     "metadata": {},
     "output_type": "execute_result"
    }
   ],
   "source": [
    "# To find Median of 'AMT_ANNUITY' Column\n",
    "AMT_median = round(EDA_App['AMT_ANNUITY'].median(), 2)\n",
    "AMT_median"
   ]
  },
  {
   "cell_type": "code",
   "execution_count": 30,
   "metadata": {},
   "outputs": [],
   "source": [
    "# To replace null value of 'AMT_ANNUITY' with median\n",
    "EDA_App['AMT_ANNUITY'] = EDA_App['AMT_ANNUITY'].fillna(AMT_median)"
   ]
  },
  {
   "cell_type": "code",
   "execution_count": 31,
   "metadata": {},
   "outputs": [
    {
     "data": {
      "text/plain": [
       "0"
      ]
     },
     "execution_count": 31,
     "metadata": {},
     "output_type": "execute_result"
    }
   ],
   "source": [
    "# To recheck Null values for 'AMT_ANNUITY'column\n",
    "EDA_App.AMT_ANNUITY.isnull().sum() "
   ]
  },
  {
   "cell_type": "code",
   "execution_count": 32,
   "metadata": {},
   "outputs": [],
   "source": [
    "# CNT_FAM_MEMBERS column has very minimum nul values, therefore those rows can be removed\n",
    "EDA_App = EDA_App[~EDA_App.CNT_FAM_MEMBERS.isnull()]"
   ]
  },
  {
   "cell_type": "code",
   "execution_count": 33,
   "metadata": {},
   "outputs": [
    {
     "data": {
      "text/plain": [
       "0"
      ]
     },
     "execution_count": 33,
     "metadata": {},
     "output_type": "execute_result"
    }
   ],
   "source": [
    "# To recheck Null values for 'CNT_FAM_MEMBERS'column\n",
    "EDA_App.CNT_FAM_MEMBERS.isnull().sum()"
   ]
  },
  {
   "cell_type": "code",
   "execution_count": 34,
   "metadata": {},
   "outputs": [],
   "source": [
    "# DAYS_LAST_PHONE_CHANGE column has very minimum nul values, therefore those rows can be removed\n",
    "EDA_App = EDA_App[~EDA_App.DAYS_LAST_PHONE_CHANGE.isnull()]"
   ]
  },
  {
   "cell_type": "code",
   "execution_count": 35,
   "metadata": {},
   "outputs": [
    {
     "data": {
      "text/plain": [
       "0"
      ]
     },
     "execution_count": 35,
     "metadata": {},
     "output_type": "execute_result"
    }
   ],
   "source": [
    "# To recheck Null values for 'DAYS_LAST_PHONE_CHANGE'column\n",
    "EDA_App.DAYS_LAST_PHONE_CHANGE.isnull().sum()"
   ]
  },
  {
   "cell_type": "code",
   "execution_count": 36,
   "metadata": {},
   "outputs": [
    {
     "data": {
      "image/png": "[encoded data removed]",
      "text/plain": [
       "<Figure size 720x216 with 1 Axes>"
      ]
     },
     "metadata": {
      "needs_background": "light"
     },
     "output_type": "display_data"
    }
   ],
   "source": [
    "# To find outliers for the column 'AMT_GOOD_PRICE'\n",
    "plt.figure(figsize = [10,3])\n",
    "sns.boxplot(EDA_App[\"AMT_GOODS_PRICE\"])\n",
    "plt.show()"
   ]
  },
  {
   "cell_type": "code",
   "execution_count": 37,
   "metadata": {},
   "outputs": [
    {
     "data": {
      "text/plain": [
       "0.25     238500.0\n",
       "0.50     450000.0\n",
       "0.70     675000.0\n",
       "0.75     679500.0\n",
       "0.80     814500.0\n",
       "0.90    1093500.0\n",
       "0.95    1305000.0\n",
       "0.99    1800000.0\n",
       "1.00    4050000.0\n",
       "Name: AMT_GOODS_PRICE, dtype: float64"
      ]
     },
     "execution_count": 37,
     "metadata": {},
     "output_type": "execute_result"
    }
   ],
   "source": [
    "# Find out the quantile (0.5, 0.7,00.9, 0.95, 0.99, 1) of 'AMT_ANNUITY' column\n",
    "EDA_App[\"AMT_GOODS_PRICE\"].quantile([0.25, 0.5, 0.7, 0.75, 0.8, 0.9, 0.95, 0.99, 1])"
   ]
  },
  {
   "cell_type": "code",
   "execution_count": 38,
   "metadata": {},
   "outputs": [
    {
     "data": {
      "text/plain": [
       "538397.14"
      ]
     },
     "execution_count": 38,
     "metadata": {},
     "output_type": "execute_result"
    }
   ],
   "source": [
    "# To find mean of 'AMT_GOODS_PRICE' \n",
    "Goods_mean = round(EDA_App['AMT_GOODS_PRICE'].mean(), 2)\n",
    "Goods_mean"
   ]
  },
  {
   "cell_type": "code",
   "execution_count": 39,
   "metadata": {},
   "outputs": [],
   "source": [
    "# Repalce null values from mean value \n",
    "EDA_App['AMT_GOODS_PRICE'] = EDA_App['AMT_GOODS_PRICE'].fillna(Goods_mean)"
   ]
  },
  {
   "cell_type": "code",
   "execution_count": 40,
   "metadata": {},
   "outputs": [
    {
     "data": {
      "text/plain": [
       "0"
      ]
     },
     "execution_count": 40,
     "metadata": {},
     "output_type": "execute_result"
    }
   ],
   "source": [
    "# To recheck Null values for 'AMT_GOODS_PRICE'column\n",
    "EDA_App.AMT_GOODS_PRICE.isnull().sum()"
   ]
  },
  {
   "cell_type": "code",
   "execution_count": 41,
   "metadata": {},
   "outputs": [
    {
     "data": {
      "image/png": "[encoded data removed]",
      "text/plain": [
       "<Figure size 720x216 with 1 Axes>"
      ]
     },
     "metadata": {
      "needs_background": "light"
     },
     "output_type": "display_data"
    }
   ],
   "source": [
    "# To find outliers for the column 'EXT_SOURCE_2'\n",
    "plt.figure(figsize = [10,3])\n",
    "sns.boxplot(EDA_App[\"EXT_SOURCE_2\"])\n",
    "plt.show()"
   ]
  },
  {
   "cell_type": "code",
   "execution_count": 42,
   "metadata": {},
   "outputs": [
    {
     "data": {
      "text/plain": [
       "0.25    0.392457\n",
       "0.50    0.565961\n",
       "0.70    0.645869\n",
       "0.75    0.663617\n",
       "0.80    0.682064\n",
       "0.90    0.722048\n",
       "0.95    0.747735\n",
       "0.99    0.782793\n",
       "1.00    0.855000\n",
       "Name: EXT_SOURCE_2, dtype: float64"
      ]
     },
     "execution_count": 42,
     "metadata": {},
     "output_type": "execute_result"
    }
   ],
   "source": [
    "# Find out the quantile (0.5, 0.7,00.9, 0.95, 0.99, 1) of 'EXT_SOURCE_2' column\n",
    "EDA_App[\"EXT_SOURCE_2\"].quantile([0.25, 0.5, 0.7, 0.75, 0.8, 0.9, 0.95, 0.99, 1])"
   ]
  },
  {
   "cell_type": "code",
   "execution_count": 43,
   "metadata": {},
   "outputs": [
    {
     "data": {
      "text/plain": [
       "0.51"
      ]
     },
     "execution_count": 43,
     "metadata": {},
     "output_type": "execute_result"
    }
   ],
   "source": [
    "# Find out mean for \"EXT_SOURCE_2\"\n",
    "Ext_mean = round(EDA_App['EXT_SOURCE_2'].mean(), 2)\n",
    "Ext_mean"
   ]
  },
  {
   "cell_type": "code",
   "execution_count": 44,
   "metadata": {},
   "outputs": [],
   "source": [
    "# Repalce null values from mean value \n",
    "EDA_App['EXT_SOURCE_2'] = EDA_App['EXT_SOURCE_2'].fillna(Ext_mean)"
   ]
  },
  {
   "cell_type": "code",
   "execution_count": 45,
   "metadata": {},
   "outputs": [
    {
     "data": {
      "text/plain": [
       "0"
      ]
     },
     "execution_count": 45,
     "metadata": {},
     "output_type": "execute_result"
    }
   ],
   "source": [
    "# To recheck Null values for 'EXT_SOURCE_2'column\n",
    "EDA_App.EXT_SOURCE_2.isnull().sum()"
   ]
  },
  {
   "cell_type": "code",
   "execution_count": 46,
   "metadata": {},
   "outputs": [
    {
     "data": {
      "text/plain": [
       "SK_ID_CURR                     0\n",
       "TARGET                         0\n",
       "NAME_CONTRACT_TYPE             0\n",
       "CODE_GENDER                    0\n",
       "FLAG_OWN_CAR                   0\n",
       "FLAG_OWN_REALTY                0\n",
       "CNT_CHILDREN                   0\n",
       "AMT_INCOME_TOTAL               0\n",
       "AMT_CREDIT                     0\n",
       "AMT_ANNUITY                    0\n",
       "AMT_GOODS_PRICE                0\n",
       "NAME_INCOME_TYPE               0\n",
       "NAME_EDUCATION_TYPE            0\n",
       "NAME_FAMILY_STATUS             0\n",
       "NAME_HOUSING_TYPE              0\n",
       "REGION_POPULATION_RELATIVE     0\n",
       "DAYS_BIRTH                     0\n",
       "DAYS_EMPLOYED                  0\n",
       "DAYS_REGISTRATION              0\n",
       "DAYS_ID_PUBLISH                0\n",
       "FLAG_MOBIL                     0\n",
       "FLAG_EMP_PHONE                 0\n",
       "FLAG_WORK_PHONE                0\n",
       "FLAG_CONT_MOBILE               0\n",
       "FLAG_PHONE                     0\n",
       "FLAG_EMAIL                     0\n",
       "CNT_FAM_MEMBERS                0\n",
       "REGION_RATING_CLIENT           0\n",
       "REGION_RATING_CLIENT_W_CITY    0\n",
       "WEEKDAY_APPR_PROCESS_START     0\n",
       "HOUR_APPR_PROCESS_START        0\n",
       "REG_REGION_NOT_LIVE_REGION     0\n",
       "REG_REGION_NOT_WORK_REGION     0\n",
       "LIVE_REGION_NOT_WORK_REGION    0\n",
       "REG_CITY_NOT_LIVE_CITY         0\n",
       "REG_CITY_NOT_WORK_CITY         0\n",
       "LIVE_CITY_NOT_WORK_CITY        0\n",
       "ORGANIZATION_TYPE              0\n",
       "EXT_SOURCE_2                   0\n",
       "DAYS_LAST_PHONE_CHANGE         0\n",
       "FLAG_DOCUMENT_2                0\n",
       "FLAG_DOCUMENT_3                0\n",
       "FLAG_DOCUMENT_4                0\n",
       "FLAG_DOCUMENT_5                0\n",
       "FLAG_DOCUMENT_6                0\n",
       "FLAG_DOCUMENT_7                0\n",
       "FLAG_DOCUMENT_8                0\n",
       "FLAG_DOCUMENT_9                0\n",
       "FLAG_DOCUMENT_10               0\n",
       "FLAG_DOCUMENT_11               0\n",
       "FLAG_DOCUMENT_12               0\n",
       "FLAG_DOCUMENT_13               0\n",
       "FLAG_DOCUMENT_14               0\n",
       "FLAG_DOCUMENT_15               0\n",
       "FLAG_DOCUMENT_16               0\n",
       "FLAG_DOCUMENT_17               0\n",
       "FLAG_DOCUMENT_18               0\n",
       "FLAG_DOCUMENT_19               0\n",
       "FLAG_DOCUMENT_20               0\n",
       "FLAG_DOCUMENT_21               0\n",
       "dtype: int64"
      ]
     },
     "execution_count": 46,
     "metadata": {},
     "output_type": "execute_result"
    }
   ],
   "source": [
    "# Recheck the dataframe if still there is any null values\n",
    "EDA_App.isnull().sum()"
   ]
  },
  {
   "cell_type": "code",
   "execution_count": 47,
   "metadata": {},
   "outputs": [
    {
     "data": {
      "text/plain": [
       "(307508, 60)"
      ]
     },
     "execution_count": 47,
     "metadata": {},
     "output_type": "execute_result"
    }
   ],
   "source": [
    "EDA_App.shape"
   ]
  },
  {
   "cell_type": "code",
   "execution_count": 48,
   "metadata": {},
   "outputs": [
    {
     "name": "stdout",
     "output_type": "stream",
     "text": [
      "<class 'pandas.core.frame.DataFrame'>\n",
      "Int64Index: 307508 entries, 0 to 307510\n",
      "Data columns (total 60 columns):\n",
      " #   Column                       Non-Null Count   Dtype  \n",
      "---  ------                       --------------   -----  \n",
      " 0   SK_ID_CURR                   307508 non-null  int64  \n",
      " 1   TARGET                       307508 non-null  int64  \n",
      " 2   NAME_CONTRACT_TYPE           307508 non-null  object \n",
      " 3   CODE_GENDER                  307508 non-null  object \n",
      " 4   FLAG_OWN_CAR                 307508 non-null  object \n",
      " 5   FLAG_OWN_REALTY              307508 non-null  object \n",
      " 6   CNT_CHILDREN                 307508 non-null  int64  \n",
      " 7   AMT_INCOME_TOTAL             307508 non-null  float64\n",
      " 8   AMT_CREDIT                   307508 non-null  float64\n",
      " 9   AMT_ANNUITY                  307508 non-null  float64\n",
      " 10  AMT_GOODS_PRICE              307508 non-null  float64\n",
      " 11  NAME_INCOME_TYPE             307508 non-null  object \n",
      " 12  NAME_EDUCATION_TYPE          307508 non-null  object \n",
      " 13  NAME_FAMILY_STATUS           307508 non-null  object \n",
      " 14  NAME_HOUSING_TYPE            307508 non-null  object \n",
      " 15  REGION_POPULATION_RELATIVE   307508 non-null  float64\n",
      " 16  DAYS_BIRTH                   307508 non-null  int64  \n",
      " 17  DAYS_EMPLOYED                307508 non-null  int64  \n",
      " 18  DAYS_REGISTRATION            307508 non-null  float64\n",
      " 19  DAYS_ID_PUBLISH              307508 non-null  int64  \n",
      " 20  FLAG_MOBIL                   307508 non-null  int64  \n",
      " 21  FLAG_EMP_PHONE               307508 non-null  int64  \n",
      " 22  FLAG_WORK_PHONE              307508 non-null  int64  \n",
      " 23  FLAG_CONT_MOBILE             307508 non-null  int64  \n",
      " 24  FLAG_PHONE                   307508 non-null  int64  \n",
      " 25  FLAG_EMAIL                   307508 non-null  int64  \n",
      " 26  CNT_FAM_MEMBERS              307508 non-null  float64\n",
      " 27  REGION_RATING_CLIENT         307508 non-null  int64  \n",
      " 28  REGION_RATING_CLIENT_W_CITY  307508 non-null  int64  \n",
      " 29  WEEKDAY_APPR_PROCESS_START   307508 non-null  object \n",
      " 30  HOUR_APPR_PROCESS_START      307508 non-null  int64  \n",
      " 31  REG_REGION_NOT_LIVE_REGION   307508 non-null  int64  \n",
      " 32  REG_REGION_NOT_WORK_REGION   307508 non-null  int64  \n",
      " 33  LIVE_REGION_NOT_WORK_REGION  307508 non-null  int64  \n",
      " 34  REG_CITY_NOT_LIVE_CITY       307508 non-null  int64  \n",
      " 35  REG_CITY_NOT_WORK_CITY       307508 non-null  int64  \n",
      " 36  LIVE_CITY_NOT_WORK_CITY      307508 non-null  int64  \n",
      " 37  ORGANIZATION_TYPE            307508 non-null  object \n",
      " 38  EXT_SOURCE_2                 307508 non-null  float64\n",
      " 39  DAYS_LAST_PHONE_CHANGE       307508 non-null  float64\n",
      " 40  FLAG_DOCUMENT_2              307508 non-null  int64  \n",
      " 41  FLAG_DOCUMENT_3              307508 non-null  int64  \n",
      " 42  FLAG_DOCUMENT_4              307508 non-null  int64  \n",
      " 43  FLAG_DOCUMENT_5              307508 non-null  int64  \n",
      " 44  FLAG_DOCUMENT_6              307508 non-null  int64  \n",
      " 45  FLAG_DOCUMENT_7              307508 non-null  int64  \n",
      " 46  FLAG_DOCUMENT_8              307508 non-null  int64  \n",
      " 47  FLAG_DOCUMENT_9              307508 non-null  int64  \n",
      " 48  FLAG_DOCUMENT_10             307508 non-null  int64  \n",
      " 49  FLAG_DOCUMENT_11             307508 non-null  int64  \n",
      " 50  FLAG_DOCUMENT_12             307508 non-null  int64  \n",
      " 51  FLAG_DOCUMENT_13             307508 non-null  int64  \n",
      " 52  FLAG_DOCUMENT_14             307508 non-null  int64  \n",
      " 53  FLAG_DOCUMENT_15             307508 non-null  int64  \n",
      " 54  FLAG_DOCUMENT_16             307508 non-null  int64  \n",
      " 55  FLAG_DOCUMENT_17             307508 non-null  int64  \n",
      " 56  FLAG_DOCUMENT_18             307508 non-null  int64  \n",
      " 57  FLAG_DOCUMENT_19             307508 non-null  int64  \n",
      " 58  FLAG_DOCUMENT_20             307508 non-null  int64  \n",
      " 59  FLAG_DOCUMENT_21             307508 non-null  int64  \n",
      "dtypes: float64(9), int64(41), object(10)\n",
      "memory usage: 143.1+ MB\n"
     ]
    }
   ],
   "source": [
    "# To check the information of the updated dataframe columns\n",
    "EDA_App.info()"
   ]
  },
  {
   "cell_type": "code",
   "execution_count": 52,
   "metadata": {},
   "outputs": [],
   "source": [
    "# Get selected useful columns of 'Application_data' in a new dataframe for analysis\n",
    "EDA_App_list = EDA_App.loc[:,[\"SK_ID_CURR\", \"TARGET\", \"NAME_CONTRACT_TYPE\",\"CODE_GENDER\", \"CNT_CHILDREN\", \"AMT_INCOME_TOTAL\",\"AMT_CREDIT\",\"AMT_ANNUITY\", \"NAME_INCOME_TYPE\",\"NAME_EDUCATION_TYPE\", \"NAME_FAMILY_STATUS\", \"NAME_HOUSING_TYPE\",\"DAYS_BIRTH\",\"DAYS_EMPLOYED\",\"CNT_FAM_MEMBERS\",\"ORGANIZATION_TYPE\"]]"
   ]
  },
  {
   "cell_type": "code",
   "execution_count": 53,
   "metadata": {},
   "outputs": [
    {
     "data": {
      "text/html": [
       "<div>\n",
       "<style scoped>\n",
       "    .dataframe tbody tr th:only-of-type {\n",
       "        vertical-align: middle;\n",
       "    }\n",
       "\n",
       "    .dataframe tbody tr th {\n",
       "        vertical-align: top;\n",
       "    }\n",
       "\n",
       "    .dataframe thead th {\n",
       "        text-align: right;\n",
       "    }\n",
       "</style>\n",
       "<table border=\"1\" class=\"dataframe\">\n",
       "  <thead>\n",
       "    <tr style=\"text-align: right;\">\n",
       "      <th></th>\n",
       "      <th>SK_ID_CURR</th>\n",
       "      <th>TARGET</th>\n",
       "      <th>NAME_CONTRACT_TYPE</th>\n",
       "      <th>CODE_GENDER</th>\n",
       "      <th>CNT_CHILDREN</th>\n",
       "      <th>AMT_INCOME_TOTAL</th>\n",
       "      <th>AMT_CREDIT</th>\n",
       "      <th>AMT_ANNUITY</th>\n",
       "      <th>NAME_INCOME_TYPE</th>\n",
       "      <th>NAME_EDUCATION_TYPE</th>\n",
       "      <th>NAME_FAMILY_STATUS</th>\n",
       "      <th>NAME_HOUSING_TYPE</th>\n",
       "      <th>DAYS_BIRTH</th>\n",
       "      <th>DAYS_EMPLOYED</th>\n",
       "      <th>CNT_FAM_MEMBERS</th>\n",
       "      <th>ORGANIZATION_TYPE</th>\n",
       "    </tr>\n",
       "  </thead>\n",
       "  <tbody>\n",
       "    <tr>\n",
       "      <th>0</th>\n",
       "      <td>100002</td>\n",
       "      <td>1</td>\n",
       "      <td>Cash loans</td>\n",
       "      <td>M</td>\n",
       "      <td>0</td>\n",
       "      <td>202500.0</td>\n",
       "      <td>406597.5</td>\n",
       "      <td>24700.5</td>\n",
       "      <td>Working</td>\n",
       "      <td>Secondary / secondary special</td>\n",
       "      <td>Single / not married</td>\n",
       "      <td>House / apartment</td>\n",
       "      <td>-9461</td>\n",
       "      <td>-637</td>\n",
       "      <td>1.0</td>\n",
       "      <td>Business Entity Type 3</td>\n",
       "    </tr>\n",
       "    <tr>\n",
       "      <th>1</th>\n",
       "      <td>100003</td>\n",
       "      <td>0</td>\n",
       "      <td>Cash loans</td>\n",
       "      <td>F</td>\n",
       "      <td>0</td>\n",
       "      <td>270000.0</td>\n",
       "      <td>1293502.5</td>\n",
       "      <td>35698.5</td>\n",
       "      <td>State servant</td>\n",
       "      <td>Higher education</td>\n",
       "      <td>Married</td>\n",
       "      <td>House / apartment</td>\n",
       "      <td>-16765</td>\n",
       "      <td>-1188</td>\n",
       "      <td>2.0</td>\n",
       "      <td>School</td>\n",
       "    </tr>\n",
       "    <tr>\n",
       "      <th>2</th>\n",
       "      <td>100004</td>\n",
       "      <td>0</td>\n",
       "      <td>Revolving loans</td>\n",
       "      <td>M</td>\n",
       "      <td>0</td>\n",
       "      <td>67500.0</td>\n",
       "      <td>135000.0</td>\n",
       "      <td>6750.0</td>\n",
       "      <td>Working</td>\n",
       "      <td>Secondary / secondary special</td>\n",
       "      <td>Single / not married</td>\n",
       "      <td>House / apartment</td>\n",
       "      <td>-19046</td>\n",
       "      <td>-225</td>\n",
       "      <td>1.0</td>\n",
       "      <td>Government</td>\n",
       "    </tr>\n",
       "    <tr>\n",
       "      <th>3</th>\n",
       "      <td>100006</td>\n",
       "      <td>0</td>\n",
       "      <td>Cash loans</td>\n",
       "      <td>F</td>\n",
       "      <td>0</td>\n",
       "      <td>135000.0</td>\n",
       "      <td>312682.5</td>\n",
       "      <td>29686.5</td>\n",
       "      <td>Working</td>\n",
       "      <td>Secondary / secondary special</td>\n",
       "      <td>Civil marriage</td>\n",
       "      <td>House / apartment</td>\n",
       "      <td>-19005</td>\n",
       "      <td>-3039</td>\n",
       "      <td>2.0</td>\n",
       "      <td>Business Entity Type 3</td>\n",
       "    </tr>\n",
       "    <tr>\n",
       "      <th>4</th>\n",
       "      <td>100007</td>\n",
       "      <td>0</td>\n",
       "      <td>Cash loans</td>\n",
       "      <td>M</td>\n",
       "      <td>0</td>\n",
       "      <td>121500.0</td>\n",
       "      <td>513000.0</td>\n",
       "      <td>21865.5</td>\n",
       "      <td>Working</td>\n",
       "      <td>Secondary / secondary special</td>\n",
       "      <td>Single / not married</td>\n",
       "      <td>House / apartment</td>\n",
       "      <td>-19932</td>\n",
       "      <td>-3038</td>\n",
       "      <td>1.0</td>\n",
       "      <td>Religion</td>\n",
       "    </tr>\n",
       "  </tbody>\n",
       "</table>\n",
       "</div>"
      ],
      "text/plain": [
       "   SK_ID_CURR  TARGET NAME_CONTRACT_TYPE CODE_GENDER  CNT_CHILDREN  AMT_INCOME_TOTAL  AMT_CREDIT  AMT_ANNUITY NAME_INCOME_TYPE            NAME_EDUCATION_TYPE    NAME_FAMILY_STATUS  NAME_HOUSING_TYPE  DAYS_BIRTH  DAYS_EMPLOYED  CNT_FAM_MEMBERS       ORGANIZATION_TYPE\n",
       "0      100002       1         Cash loans           M             0          202500.0    406597.5      24700.5          Working  Secondary / secondary special  Single / not married  House / apartment       -9461           -637              1.0  Business Entity Type 3\n",
       "1      100003       0         Cash loans           F             0          270000.0   1293502.5      35698.5    State servant               Higher education               Married  House / apartment      -16765          -1188              2.0                  School\n",
       "2      100004       0    Revolving loans           M             0           67500.0    135000.0       6750.0          Working  Secondary / secondary special  Single / not married  House / apartment      -19046           -225              1.0              Government\n",
       "3      100006       0         Cash loans           F             0          135000.0    312682.5      29686.5          Working  Secondary / secondary special        Civil marriage  House / apartment      -19005          -3039              2.0  Business Entity Type 3\n",
       "4      100007       0         Cash loans           M             0          121500.0    513000.0      21865.5          Working  Secondary / secondary special  Single / not married  House / apartment      -19932          -3038              1.0                Religion"
      ]
     },
     "execution_count": 53,
     "metadata": {},
     "output_type": "execute_result"
    }
   ],
   "source": [
    "EDA_App_list.head() # To show various columns of the New Dataframe"
   ]
  },
  {
   "cell_type": "code",
   "execution_count": 54,
   "metadata": {},
   "outputs": [
    {
     "data": {
      "text/plain": [
       "(307508, 16)"
      ]
     },
     "execution_count": 54,
     "metadata": {},
     "output_type": "execute_result"
    }
   ],
   "source": [
    "# To check the shape of the new dataframe\n",
    "EDA_App_list.shape   "
   ]
  },
  {
   "cell_type": "code",
   "execution_count": 55,
   "metadata": {},
   "outputs": [
    {
     "name": "stdout",
     "output_type": "stream",
     "text": [
      "<class 'pandas.core.frame.DataFrame'>\n",
      "Int64Index: 307508 entries, 0 to 307510\n",
      "Data columns (total 16 columns):\n",
      " #   Column               Non-Null Count   Dtype  \n",
      "---  ------               --------------   -----  \n",
      " 0   SK_ID_CURR           307508 non-null  int64  \n",
      " 1   TARGET               307508 non-null  int64  \n",
      " 2   NAME_CONTRACT_TYPE   307508 non-null  object \n",
      " 3   CODE_GENDER          307508 non-null  object \n",
      " 4   CNT_CHILDREN         307508 non-null  int64  \n",
      " 5   AMT_INCOME_TOTAL     307508 non-null  float64\n",
      " 6   AMT_CREDIT           307508 non-null  float64\n",
      " 7   AMT_ANNUITY          307508 non-null  float64\n",
      " 8   NAME_INCOME_TYPE     307508 non-null  object \n",
      " 9   NAME_EDUCATION_TYPE  307508 non-null  object \n",
      " 10  NAME_FAMILY_STATUS   307508 non-null  object \n",
      " 11  NAME_HOUSING_TYPE    307508 non-null  object \n",
      " 12  DAYS_BIRTH           307508 non-null  int64  \n",
      " 13  DAYS_EMPLOYED        307508 non-null  int64  \n",
      " 14  CNT_FAM_MEMBERS      307508 non-null  float64\n",
      " 15  ORGANIZATION_TYPE    307508 non-null  object \n",
      "dtypes: float64(4), int64(5), object(7)\n",
      "memory usage: 39.9+ MB\n"
     ]
    }
   ],
   "source": [
    "# To get column-wise information of the new dataframe\n",
    "EDA_App_list.info()"
   ]
  },
  {
   "cell_type": "code",
   "execution_count": 56,
   "metadata": {},
   "outputs": [
    {
     "data": {
      "text/plain": [
       "SK_ID_CURR             0\n",
       "TARGET                 0\n",
       "NAME_CONTRACT_TYPE     0\n",
       "CODE_GENDER            0\n",
       "CNT_CHILDREN           0\n",
       "AMT_INCOME_TOTAL       0\n",
       "AMT_CREDIT             0\n",
       "AMT_ANNUITY            0\n",
       "NAME_INCOME_TYPE       0\n",
       "NAME_EDUCATION_TYPE    0\n",
       "NAME_FAMILY_STATUS     0\n",
       "NAME_HOUSING_TYPE      0\n",
       "DAYS_BIRTH             0\n",
       "DAYS_EMPLOYED          0\n",
       "CNT_FAM_MEMBERS        0\n",
       "ORGANIZATION_TYPE      0\n",
       "dtype: int64"
      ]
     },
     "execution_count": 56,
     "metadata": {},
     "output_type": "execute_result"
    }
   ],
   "source": [
    "# To check Null values in new dataframe's column\n",
    "EDA_App_list.isnull().sum()"
   ]
  },
  {
   "cell_type": "code",
   "execution_count": 57,
   "metadata": {},
   "outputs": [
    {
     "data": {
      "text/html": [
       "<div>\n",
       "<style scoped>\n",
       "    .dataframe tbody tr th:only-of-type {\n",
       "        vertical-align: middle;\n",
       "    }\n",
       "\n",
       "    .dataframe tbody tr th {\n",
       "        vertical-align: top;\n",
       "    }\n",
       "\n",
       "    .dataframe thead th {\n",
       "        text-align: right;\n",
       "    }\n",
       "</style>\n",
       "<table border=\"1\" class=\"dataframe\">\n",
       "  <thead>\n",
       "    <tr style=\"text-align: right;\">\n",
       "      <th></th>\n",
       "      <th>SK_ID_CURR</th>\n",
       "      <th>TARGET</th>\n",
       "      <th>CNT_CHILDREN</th>\n",
       "      <th>AMT_INCOME_TOTAL</th>\n",
       "      <th>AMT_CREDIT</th>\n",
       "      <th>AMT_ANNUITY</th>\n",
       "      <th>DAYS_BIRTH</th>\n",
       "      <th>DAYS_EMPLOYED</th>\n",
       "      <th>CNT_FAM_MEMBERS</th>\n",
       "    </tr>\n",
       "  </thead>\n",
       "  <tbody>\n",
       "    <tr>\n",
       "      <th>count</th>\n",
       "      <td>307508.00</td>\n",
       "      <td>307508.00</td>\n",
       "      <td>307508.00</td>\n",
       "      <td>3.075080e+05</td>\n",
       "      <td>307508.00</td>\n",
       "      <td>307508.00</td>\n",
       "      <td>307508.00</td>\n",
       "      <td>307508.00</td>\n",
       "      <td>307508.00</td>\n",
       "    </tr>\n",
       "    <tr>\n",
       "      <th>mean</th>\n",
       "      <td>278181.33</td>\n",
       "      <td>0.08</td>\n",
       "      <td>0.42</td>\n",
       "      <td>1.687970e+05</td>\n",
       "      <td>599026.84</td>\n",
       "      <td>27108.46</td>\n",
       "      <td>-16037.04</td>\n",
       "      <td>63815.67</td>\n",
       "      <td>2.15</td>\n",
       "    </tr>\n",
       "    <tr>\n",
       "      <th>std</th>\n",
       "      <td>102789.98</td>\n",
       "      <td>0.27</td>\n",
       "      <td>0.72</td>\n",
       "      <td>2.371237e+05</td>\n",
       "      <td>402492.30</td>\n",
       "      <td>14493.53</td>\n",
       "      <td>4363.98</td>\n",
       "      <td>141276.31</td>\n",
       "      <td>0.91</td>\n",
       "    </tr>\n",
       "    <tr>\n",
       "      <th>min</th>\n",
       "      <td>100002.00</td>\n",
       "      <td>0.00</td>\n",
       "      <td>0.00</td>\n",
       "      <td>2.565000e+04</td>\n",
       "      <td>45000.00</td>\n",
       "      <td>1615.50</td>\n",
       "      <td>-25229.00</td>\n",
       "      <td>-17912.00</td>\n",
       "      <td>1.00</td>\n",
       "    </tr>\n",
       "    <tr>\n",
       "      <th>25%</th>\n",
       "      <td>189146.75</td>\n",
       "      <td>0.00</td>\n",
       "      <td>0.00</td>\n",
       "      <td>1.125000e+05</td>\n",
       "      <td>270000.00</td>\n",
       "      <td>16524.00</td>\n",
       "      <td>-19682.00</td>\n",
       "      <td>-2760.00</td>\n",
       "      <td>2.00</td>\n",
       "    </tr>\n",
       "    <tr>\n",
       "      <th>50%</th>\n",
       "      <td>278202.50</td>\n",
       "      <td>0.00</td>\n",
       "      <td>0.00</td>\n",
       "      <td>1.471500e+05</td>\n",
       "      <td>513531.00</td>\n",
       "      <td>24903.00</td>\n",
       "      <td>-15750.00</td>\n",
       "      <td>-1214.00</td>\n",
       "      <td>2.00</td>\n",
       "    </tr>\n",
       "    <tr>\n",
       "      <th>75%</th>\n",
       "      <td>367143.25</td>\n",
       "      <td>0.00</td>\n",
       "      <td>1.00</td>\n",
       "      <td>2.025000e+05</td>\n",
       "      <td>808650.00</td>\n",
       "      <td>34596.00</td>\n",
       "      <td>-12413.00</td>\n",
       "      <td>-289.00</td>\n",
       "      <td>3.00</td>\n",
       "    </tr>\n",
       "    <tr>\n",
       "      <th>max</th>\n",
       "      <td>456255.00</td>\n",
       "      <td>1.00</td>\n",
       "      <td>19.00</td>\n",
       "      <td>1.170000e+08</td>\n",
       "      <td>4050000.00</td>\n",
       "      <td>258025.50</td>\n",
       "      <td>-7489.00</td>\n",
       "      <td>365243.00</td>\n",
       "      <td>20.00</td>\n",
       "    </tr>\n",
       "  </tbody>\n",
       "</table>\n",
       "</div>"
      ],
      "text/plain": [
       "       SK_ID_CURR     TARGET  CNT_CHILDREN  AMT_INCOME_TOTAL  AMT_CREDIT  AMT_ANNUITY  DAYS_BIRTH  DAYS_EMPLOYED  CNT_FAM_MEMBERS\n",
       "count   307508.00  307508.00     307508.00      3.075080e+05   307508.00    307508.00   307508.00      307508.00        307508.00\n",
       "mean    278181.33       0.08          0.42      1.687970e+05   599026.84     27108.46   -16037.04       63815.67             2.15\n",
       "std     102789.98       0.27          0.72      2.371237e+05   402492.30     14493.53     4363.98      141276.31             0.91\n",
       "min     100002.00       0.00          0.00      2.565000e+04    45000.00      1615.50   -25229.00      -17912.00             1.00\n",
       "25%     189146.75       0.00          0.00      1.125000e+05   270000.00     16524.00   -19682.00       -2760.00             2.00\n",
       "50%     278202.50       0.00          0.00      1.471500e+05   513531.00     24903.00   -15750.00       -1214.00             2.00\n",
       "75%     367143.25       0.00          1.00      2.025000e+05   808650.00     34596.00   -12413.00        -289.00             3.00\n",
       "max     456255.00       1.00         19.00      1.170000e+08  4050000.00    258025.50    -7489.00      365243.00            20.00"
      ]
     },
     "execution_count": 57,
     "metadata": {},
     "output_type": "execute_result"
    }
   ],
   "source": [
    "# For column wise description of new dataframe\n",
    "round(EDA_App_list.describe(), 2)"
   ]
  },
  {
   "cell_type": "code",
   "execution_count": 58,
   "metadata": {},
   "outputs": [
    {
     "data": {
      "text/plain": [
       "Cash loans         0.904793\n",
       "Revolving loans    0.095207\n",
       "Name: NAME_CONTRACT_TYPE, dtype: float64"
      ]
     },
     "execution_count": 58,
     "metadata": {},
     "output_type": "execute_result"
    }
   ],
   "source": [
    "# To count and check values in a column\n",
    "EDA_App_list['NAME_CONTRACT_TYPE'].value_counts(normalize=True)"
   ]
  },
  {
   "cell_type": "code",
   "execution_count": 59,
   "metadata": {},
   "outputs": [
    {
     "data": {
      "text/plain": [
       "F      0.658347\n",
       "M      0.341640\n",
       "XNA    0.000013\n",
       "Name: CODE_GENDER, dtype: float64"
      ]
     },
     "execution_count": 59,
     "metadata": {},
     "output_type": "execute_result"
    }
   ],
   "source": [
    "# To count and check values in a column\n",
    "EDA_App_list['CODE_GENDER'].value_counts(normalize=True)"
   ]
  },
  {
   "cell_type": "code",
   "execution_count": 60,
   "metadata": {},
   "outputs": [
    {
     "data": {
      "text/plain": [
       "'F'"
      ]
     },
     "execution_count": 60,
     "metadata": {},
     "output_type": "execute_result"
    }
   ],
   "source": [
    "# To find the most occuring object in the column Gender Column\n",
    "Code_mode = EDA_App_list['CODE_GENDER'].mode()[0]   # To get string value\n",
    "Code_mode"
   ]
  },
  {
   "cell_type": "code",
   "execution_count": 61,
   "metadata": {},
   "outputs": [],
   "source": [
    "# Replace old values ('XNA') with maximumm occuring value ('F') of the respective column\n",
    "EDA_App_list['CODE_GENDER'] = EDA_App_list['CODE_GENDER'].replace(['XNA'],'F')"
   ]
  },
  {
   "cell_type": "code",
   "execution_count": 62,
   "metadata": {},
   "outputs": [
    {
     "data": {
      "text/plain": [
       "F    0.65836\n",
       "M    0.34164\n",
       "Name: CODE_GENDER, dtype: float64"
      ]
     },
     "execution_count": 62,
     "metadata": {},
     "output_type": "execute_result"
    }
   ],
   "source": [
    "# To recount and check values in a column\n",
    "EDA_App_list['CODE_GENDER'].value_counts(normalize=True)"
   ]
  },
  {
   "cell_type": "code",
   "execution_count": 63,
   "metadata": {},
   "outputs": [
    {
     "data": {
      "text/plain": [
       "Business Entity Type 3    0.221106\n",
       "XNA                       0.180073\n",
       "Self-employed             0.124914\n",
       "Other                     0.054252\n",
       "Medicine                  0.036399\n",
       "Business Entity Type 2    0.034315\n",
       "Government                0.033833\n",
       "School                    0.028920\n",
       "Trade: type 7             0.025466\n",
       "Kindergarten              0.022373\n",
       "Construction              0.021856\n",
       "Business Entity Type 1    0.019460\n",
       "Transport: type 4         0.017554\n",
       "Trade: type 3             0.011353\n",
       "Industry: type 9          0.010953\n",
       "Industry: type 3          0.010660\n",
       "Security                  0.010559\n",
       "Housing                   0.009619\n",
       "Industry: type 11         0.008793\n",
       "Military                  0.008566\n",
       "Bank                      0.008153\n",
       "Agriculture               0.007980\n",
       "Police                    0.007613\n",
       "Transport: type 2         0.007167\n",
       "Postal                    0.007014\n",
       "Security Ministries       0.006419\n",
       "Trade: type 2             0.006179\n",
       "Restaurant                0.005889\n",
       "Services                  0.005122\n",
       "University                0.004315\n",
       "Industry: type 7          0.004250\n",
       "Transport: type 3         0.003860\n",
       "Industry: type 1          0.003379\n",
       "Hotel                     0.003141\n",
       "Electricity               0.003089\n",
       "Industry: type 4          0.002852\n",
       "Trade: type 6             0.002052\n",
       "Industry: type 5          0.001948\n",
       "Insurance                 0.001938\n",
       "Telecom                   0.001876\n",
       "Emergency                 0.001821\n",
       "Industry: type 2          0.001489\n",
       "Advertising               0.001395\n",
       "Realtor                   0.001288\n",
       "Culture                   0.001232\n",
       "Industry: type 12         0.001200\n",
       "Trade: type 1             0.001132\n",
       "Mobile                    0.001031\n",
       "Legal Services            0.000992\n",
       "Cleaning                  0.000846\n",
       "Transport: type 1         0.000654\n",
       "Industry: type 6          0.000364\n",
       "Industry: type 10         0.000354\n",
       "Religion                  0.000276\n",
       "Industry: type 13         0.000218\n",
       "Trade: type 4             0.000208\n",
       "Trade: type 5             0.000159\n",
       "Industry: type 8          0.000078\n",
       "Name: ORGANIZATION_TYPE, dtype: float64"
      ]
     },
     "execution_count": 63,
     "metadata": {},
     "output_type": "execute_result"
    }
   ],
   "source": [
    "# To analyze 'ORGANIZATION_TYPE' column values\n",
    "EDA_App_list['ORGANIZATION_TYPE'].value_counts(normalize=True)"
   ]
  },
  {
   "cell_type": "markdown",
   "metadata": {},
   "source": [
    "##### As 'XNA' in the 'ORGANIZATION_TYPE' column is up tp 18% therefore we can replace 'XNA' with the Maximum occuring value in the Organization Types "
   ]
  },
  {
   "cell_type": "code",
   "execution_count": 64,
   "metadata": {},
   "outputs": [
    {
     "data": {
      "text/plain": [
       "'Business Entity Type 3'"
      ]
     },
     "execution_count": 64,
     "metadata": {},
     "output_type": "execute_result"
    }
   ],
   "source": [
    "# Find out mode for \"ORGANIZATION_TYPE\"\n",
    "Org_mode = EDA_App['ORGANIZATION_TYPE'].mode()[0]\n",
    "Org_mode"
   ]
  },
  {
   "cell_type": "code",
   "execution_count": 65,
   "metadata": {},
   "outputs": [],
   "source": [
    "# Replace old values ('XNA') with maximumm occuring value ('Business Entity Type 3') of the respective column \n",
    "EDA_App_list['ORGANIZATION_TYPE'] = EDA_App_list['ORGANIZATION_TYPE'].replace(['XNA'],'Business Entity Type 3')"
   ]
  },
  {
   "cell_type": "code",
   "execution_count": 66,
   "metadata": {},
   "outputs": [
    {
     "data": {
      "text/plain": [
       "Business Entity Type 3    0.401180\n",
       "Self-employed             0.124914\n",
       "Other                     0.054252\n",
       "Medicine                  0.036399\n",
       "Business Entity Type 2    0.034315\n",
       "Government                0.033833\n",
       "School                    0.028920\n",
       "Trade: type 7             0.025466\n",
       "Kindergarten              0.022373\n",
       "Construction              0.021856\n",
       "Business Entity Type 1    0.019460\n",
       "Transport: type 4         0.017554\n",
       "Trade: type 3             0.011353\n",
       "Industry: type 9          0.010953\n",
       "Industry: type 3          0.010660\n",
       "Security                  0.010559\n",
       "Housing                   0.009619\n",
       "Industry: type 11         0.008793\n",
       "Military                  0.008566\n",
       "Bank                      0.008153\n",
       "Agriculture               0.007980\n",
       "Police                    0.007613\n",
       "Transport: type 2         0.007167\n",
       "Postal                    0.007014\n",
       "Security Ministries       0.006419\n",
       "Trade: type 2             0.006179\n",
       "Restaurant                0.005889\n",
       "Services                  0.005122\n",
       "University                0.004315\n",
       "Industry: type 7          0.004250\n",
       "Transport: type 3         0.003860\n",
       "Industry: type 1          0.003379\n",
       "Hotel                     0.003141\n",
       "Electricity               0.003089\n",
       "Industry: type 4          0.002852\n",
       "Trade: type 6             0.002052\n",
       "Industry: type 5          0.001948\n",
       "Insurance                 0.001938\n",
       "Telecom                   0.001876\n",
       "Emergency                 0.001821\n",
       "Industry: type 2          0.001489\n",
       "Advertising               0.001395\n",
       "Realtor                   0.001288\n",
       "Culture                   0.001232\n",
       "Industry: type 12         0.001200\n",
       "Trade: type 1             0.001132\n",
       "Mobile                    0.001031\n",
       "Legal Services            0.000992\n",
       "Cleaning                  0.000846\n",
       "Transport: type 1         0.000654\n",
       "Industry: type 6          0.000364\n",
       "Industry: type 10         0.000354\n",
       "Religion                  0.000276\n",
       "Industry: type 13         0.000218\n",
       "Trade: type 4             0.000208\n",
       "Trade: type 5             0.000159\n",
       "Industry: type 8          0.000078\n",
       "Name: ORGANIZATION_TYPE, dtype: float64"
      ]
     },
     "execution_count": 66,
     "metadata": {},
     "output_type": "execute_result"
    }
   ],
   "source": [
    "# To recount and check values in a column\n",
    "EDA_App_list['ORGANIZATION_TYPE'].value_counts(normalize=True)"
   ]
  },
  {
   "cell_type": "code",
   "execution_count": 67,
   "metadata": {},
   "outputs": [
    {
     "data": {
      "text/plain": [
       "Working                 0.516322\n",
       "Commercial associate    0.232888\n",
       "Pensioner               0.180034\n",
       "State servant           0.070577\n",
       "Unemployed              0.000072\n",
       "Student                 0.000059\n",
       "Businessman             0.000033\n",
       "Maternity leave         0.000016\n",
       "Name: NAME_INCOME_TYPE, dtype: float64"
      ]
     },
     "execution_count": 67,
     "metadata": {},
     "output_type": "execute_result"
    }
   ],
   "source": [
    "# To analyze 'NAME_INCOME_TYPE' column\n",
    "EDA_App_list['NAME_INCOME_TYPE'].value_counts(normalize=True)"
   ]
  },
  {
   "cell_type": "code",
   "execution_count": 68,
   "metadata": {},
   "outputs": [
    {
     "data": {
      "text/plain": [
       "Secondary / secondary special    0.710196\n",
       "Higher education                 0.243447\n",
       "Incomplete higher                0.033417\n",
       "Lower secondary                  0.012406\n",
       "Academic degree                  0.000533\n",
       "Name: NAME_EDUCATION_TYPE, dtype: float64"
      ]
     },
     "execution_count": 68,
     "metadata": {},
     "output_type": "execute_result"
    }
   ],
   "source": [
    "# To analyze 'NAME_EDUCATION_TYPE' column\n",
    "EDA_App_list['NAME_EDUCATION_TYPE'].value_counts(normalize=True)"
   ]
  },
  {
   "cell_type": "code",
   "execution_count": 69,
   "metadata": {},
   "outputs": [],
   "source": [
    "# To replace 'Secondary / secondary special with Secondary.\n",
    "EDA_App_list.NAME_EDUCATION_TYPE = EDA_App_list.NAME_EDUCATION_TYPE.replace(['Secondary / secondary special'], \"Secondary\")"
   ]
  },
  {
   "cell_type": "code",
   "execution_count": 70,
   "metadata": {},
   "outputs": [
    {
     "data": {
      "text/plain": [
       "Married                 0.638783\n",
       "Single / not married    0.147782\n",
       "Civil marriage          0.096827\n",
       "Separated               0.064291\n",
       "Widow                   0.052317\n",
       "Name: NAME_FAMILY_STATUS, dtype: float64"
      ]
     },
     "execution_count": 70,
     "metadata": {},
     "output_type": "execute_result"
    }
   ],
   "source": [
    "# To analyze 'NAME_FAMILY_STATUS' column\n",
    "EDA_App_list['NAME_FAMILY_STATUS'].value_counts(normalize=True)"
   ]
  },
  {
   "cell_type": "code",
   "execution_count": 71,
   "metadata": {},
   "outputs": [],
   "source": [
    "# To replace 'Civil marriage', 'Seperated' as 'Married' and 'Single', 'Widow' as 'Not Married' just to make 2 categories.\n",
    "EDA_App_list.NAME_FAMILY_STATUS = EDA_App_list.NAME_FAMILY_STATUS.replace(['Civil marriage','Separated'], \"Married\")\n",
    "EDA_App_list.NAME_FAMILY_STATUS = EDA_App_list.NAME_FAMILY_STATUS.replace(['Single / not married','Widow'], \"Not Married\")"
   ]
  },
  {
   "cell_type": "code",
   "execution_count": 72,
   "metadata": {},
   "outputs": [
    {
     "data": {
      "text/plain": [
       "Married        0.799901\n",
       "Not Married    0.200099\n",
       "Name: NAME_FAMILY_STATUS, dtype: float64"
      ]
     },
     "execution_count": 72,
     "metadata": {},
     "output_type": "execute_result"
    }
   ],
   "source": [
    "# To analyze 'NAME_FAMILY_STATUS' column\n",
    "EDA_App_list['NAME_FAMILY_STATUS'].value_counts(normalize=True)"
   ]
  },
  {
   "cell_type": "code",
   "execution_count": 73,
   "metadata": {},
   "outputs": [
    {
     "data": {
      "text/plain": [
       "House / apartment      0.887346\n",
       "With parents           0.048259\n",
       "Municipal apartment    0.036363\n",
       "Rented apartment       0.015873\n",
       "Office apartment       0.008510\n",
       "Co-op apartment        0.003649\n",
       "Name: NAME_HOUSING_TYPE, dtype: float64"
      ]
     },
     "execution_count": 73,
     "metadata": {},
     "output_type": "execute_result"
    }
   ],
   "source": [
    "# To analyze 'NAME_HOUSING_TYPE' column\n",
    "EDA_App_list['NAME_HOUSING_TYPE'].value_counts(normalize=True)"
   ]
  },
  {
   "cell_type": "code",
   "execution_count": 74,
   "metadata": {},
   "outputs": [],
   "source": [
    "# To make absolute value for 'DAYS_BIRTH' AND 'DAYS_EMPLOYED' column\n",
    "EDA_App_list['DAYS_BIRTH'] = EDA_App_list['DAYS_BIRTH'].abs()\n",
    "EDA_App_list['DAYS_EMPLOYED'] = EDA_App_list['DAYS_EMPLOYED'].abs()"
   ]
  },
  {
   "cell_type": "code",
   "execution_count": 75,
   "metadata": {},
   "outputs": [],
   "source": [
    "# To convert 'CNT_FAM_MEMBERS' column data type from float to int as number of members can't be float\n",
    "EDA_App_list.CNT_FAM_MEMBERS = EDA_App_list.CNT_FAM_MEMBERS.astype(\"int64\")"
   ]
  },
  {
   "cell_type": "code",
   "execution_count": 76,
   "metadata": {},
   "outputs": [
    {
     "data": {
      "text/html": [
       "<div>\n",
       "<style scoped>\n",
       "    .dataframe tbody tr th:only-of-type {\n",
       "        vertical-align: middle;\n",
       "    }\n",
       "\n",
       "    .dataframe tbody tr th {\n",
       "        vertical-align: top;\n",
       "    }\n",
       "\n",
       "    .dataframe thead th {\n",
       "        text-align: right;\n",
       "    }\n",
       "</style>\n",
       "<table border=\"1\" class=\"dataframe\">\n",
       "  <thead>\n",
       "    <tr style=\"text-align: right;\">\n",
       "      <th></th>\n",
       "      <th>SK_ID_CURR</th>\n",
       "      <th>TARGET</th>\n",
       "      <th>NAME_CONTRACT_TYPE</th>\n",
       "      <th>CODE_GENDER</th>\n",
       "      <th>CNT_CHILDREN</th>\n",
       "      <th>AMT_INCOME_TOTAL</th>\n",
       "      <th>AMT_CREDIT</th>\n",
       "      <th>AMT_ANNUITY</th>\n",
       "      <th>NAME_INCOME_TYPE</th>\n",
       "      <th>NAME_EDUCATION_TYPE</th>\n",
       "      <th>NAME_FAMILY_STATUS</th>\n",
       "      <th>NAME_HOUSING_TYPE</th>\n",
       "      <th>DAYS_BIRTH</th>\n",
       "      <th>DAYS_EMPLOYED</th>\n",
       "      <th>CNT_FAM_MEMBERS</th>\n",
       "      <th>ORGANIZATION_TYPE</th>\n",
       "    </tr>\n",
       "  </thead>\n",
       "  <tbody>\n",
       "    <tr>\n",
       "      <th>0</th>\n",
       "      <td>100002</td>\n",
       "      <td>1</td>\n",
       "      <td>Cash loans</td>\n",
       "      <td>M</td>\n",
       "      <td>0</td>\n",
       "      <td>202500.0</td>\n",
       "      <td>406597.5</td>\n",
       "      <td>24700.5</td>\n",
       "      <td>Working</td>\n",
       "      <td>Secondary</td>\n",
       "      <td>Not Married</td>\n",
       "      <td>House / apartment</td>\n",
       "      <td>9461</td>\n",
       "      <td>637</td>\n",
       "      <td>1</td>\n",
       "      <td>Business Entity Type 3</td>\n",
       "    </tr>\n",
       "    <tr>\n",
       "      <th>1</th>\n",
       "      <td>100003</td>\n",
       "      <td>0</td>\n",
       "      <td>Cash loans</td>\n",
       "      <td>F</td>\n",
       "      <td>0</td>\n",
       "      <td>270000.0</td>\n",
       "      <td>1293502.5</td>\n",
       "      <td>35698.5</td>\n",
       "      <td>State servant</td>\n",
       "      <td>Higher education</td>\n",
       "      <td>Married</td>\n",
       "      <td>House / apartment</td>\n",
       "      <td>16765</td>\n",
       "      <td>1188</td>\n",
       "      <td>2</td>\n",
       "      <td>School</td>\n",
       "    </tr>\n",
       "    <tr>\n",
       "      <th>2</th>\n",
       "      <td>100004</td>\n",
       "      <td>0</td>\n",
       "      <td>Revolving loans</td>\n",
       "      <td>M</td>\n",
       "      <td>0</td>\n",
       "      <td>67500.0</td>\n",
       "      <td>135000.0</td>\n",
       "      <td>6750.0</td>\n",
       "      <td>Working</td>\n",
       "      <td>Secondary</td>\n",
       "      <td>Not Married</td>\n",
       "      <td>House / apartment</td>\n",
       "      <td>19046</td>\n",
       "      <td>225</td>\n",
       "      <td>1</td>\n",
       "      <td>Government</td>\n",
       "    </tr>\n",
       "    <tr>\n",
       "      <th>3</th>\n",
       "      <td>100006</td>\n",
       "      <td>0</td>\n",
       "      <td>Cash loans</td>\n",
       "      <td>F</td>\n",
       "      <td>0</td>\n",
       "      <td>135000.0</td>\n",
       "      <td>312682.5</td>\n",
       "      <td>29686.5</td>\n",
       "      <td>Working</td>\n",
       "      <td>Secondary</td>\n",
       "      <td>Married</td>\n",
       "      <td>House / apartment</td>\n",
       "      <td>19005</td>\n",
       "      <td>3039</td>\n",
       "      <td>2</td>\n",
       "      <td>Business Entity Type 3</td>\n",
       "    </tr>\n",
       "    <tr>\n",
       "      <th>4</th>\n",
       "      <td>100007</td>\n",
       "      <td>0</td>\n",
       "      <td>Cash loans</td>\n",
       "      <td>M</td>\n",
       "      <td>0</td>\n",
       "      <td>121500.0</td>\n",
       "      <td>513000.0</td>\n",
       "      <td>21865.5</td>\n",
       "      <td>Working</td>\n",
       "      <td>Secondary</td>\n",
       "      <td>Not Married</td>\n",
       "      <td>House / apartment</td>\n",
       "      <td>19932</td>\n",
       "      <td>3038</td>\n",
       "      <td>1</td>\n",
       "      <td>Religion</td>\n",
       "    </tr>\n",
       "  </tbody>\n",
       "</table>\n",
       "</div>"
      ],
      "text/plain": [
       "   SK_ID_CURR  TARGET NAME_CONTRACT_TYPE CODE_GENDER  CNT_CHILDREN  AMT_INCOME_TOTAL  AMT_CREDIT  AMT_ANNUITY NAME_INCOME_TYPE NAME_EDUCATION_TYPE NAME_FAMILY_STATUS  NAME_HOUSING_TYPE  DAYS_BIRTH  DAYS_EMPLOYED  CNT_FAM_MEMBERS       ORGANIZATION_TYPE\n",
       "0      100002       1         Cash loans           M             0          202500.0    406597.5      24700.5          Working           Secondary        Not Married  House / apartment        9461            637                1  Business Entity Type 3\n",
       "1      100003       0         Cash loans           F             0          270000.0   1293502.5      35698.5    State servant    Higher education            Married  House / apartment       16765           1188                2                  School\n",
       "2      100004       0    Revolving loans           M             0           67500.0    135000.0       6750.0          Working           Secondary        Not Married  House / apartment       19046            225                1              Government\n",
       "3      100006       0         Cash loans           F             0          135000.0    312682.5      29686.5          Working           Secondary            Married  House / apartment       19005           3039                2  Business Entity Type 3\n",
       "4      100007       0         Cash loans           M             0          121500.0    513000.0      21865.5          Working           Secondary        Not Married  House / apartment       19932           3038                1                Religion"
      ]
     },
     "execution_count": 76,
     "metadata": {},
     "output_type": "execute_result"
    }
   ],
   "source": [
    "# To recheck the detail of columns\n",
    "EDA_App_list.head()"
   ]
  },
  {
   "cell_type": "code",
   "execution_count": null,
   "metadata": {},
   "outputs": [],
   "source": []
  },
  {
   "cell_type": "code",
   "execution_count": 91,
   "metadata": {},
   "outputs": [],
   "source": [
    "# Dividing the dataset into two datasets to make 2 different categories of column 'TARGET' TARGET=1(client with payment difficulties) and TARGET=0(all other)\n",
    "EDA_Targt0 = EDA_App_list.loc[EDA_App_list[\"TARGET\"]==0]\n",
    "EDA_Targt1 = EDA_App_list.loc[EDA_App_list[\"TARGET\"]==1]"
   ]
  },
  {
   "cell_type": "code",
   "execution_count": 92,
   "metadata": {},
   "outputs": [
    {
     "data": {
      "text/plain": [
       "282683"
      ]
     },
     "execution_count": 92,
     "metadata": {},
     "output_type": "execute_result"
    }
   ],
   "source": [
    "# To find out the length\n",
    "len(EDA_Targt0)"
   ]
  },
  {
   "cell_type": "code",
   "execution_count": 93,
   "metadata": {},
   "outputs": [
    {
     "data": {
      "text/plain": [
       "24825"
      ]
     },
     "execution_count": 93,
     "metadata": {},
     "output_type": "execute_result"
    }
   ],
   "source": [
    "#To find out the length\n",
    "len(EDA_Targt1)"
   ]
  },
  {
   "cell_type": "code",
   "execution_count": 94,
   "metadata": {},
   "outputs": [
    {
     "data": {
      "text/plain": [
       "11.39"
      ]
     },
     "execution_count": 94,
     "metadata": {},
     "output_type": "execute_result"
    }
   ],
   "source": [
    "# To check % imbalance between these two categories of Client with payment difficulties and all other\n",
    "round(len(EDA_Targt0)/len(EDA_Targt1),2)"
   ]
  },
  {
   "cell_type": "markdown",
   "metadata": {},
   "source": [
    "### The above result shows that there is 11.39% imbalnce between the two categories of loan (Defaulters/Delayed Payment and Others)"
   ]
  },
  {
   "cell_type": "code",
   "execution_count": 943,
   "metadata": {},
   "outputs": [],
   "source": [
    "EDA_Targt = EDA_Targt0.append(EDA_Targt1, ignore_index = True) # To append both the dataframes and make a new dataframe"
   ]
  },
  {
   "cell_type": "code",
   "execution_count": 944,
   "metadata": {},
   "outputs": [
    {
     "data": {
      "text/html": [
       "<div>\n",
       "<style scoped>\n",
       "    .dataframe tbody tr th:only-of-type {\n",
       "        vertical-align: middle;\n",
       "    }\n",
       "\n",
       "    .dataframe tbody tr th {\n",
       "        vertical-align: top;\n",
       "    }\n",
       "\n",
       "    .dataframe thead th {\n",
       "        text-align: right;\n",
       "    }\n",
       "</style>\n",
       "<table border=\"1\" class=\"dataframe\">\n",
       "  <thead>\n",
       "    <tr style=\"text-align: right;\">\n",
       "      <th></th>\n",
       "      <th>SK_ID_CURR</th>\n",
       "      <th>TARGET</th>\n",
       "      <th>NAME_CONTRACT_TYPE</th>\n",
       "      <th>CODE_GENDER</th>\n",
       "      <th>CNT_CHILDREN</th>\n",
       "      <th>AMT_INCOME_TOTAL</th>\n",
       "      <th>AMT_CREDIT</th>\n",
       "      <th>AMT_ANNUITY</th>\n",
       "      <th>NAME_INCOME_TYPE</th>\n",
       "      <th>NAME_EDUCATION_TYPE</th>\n",
       "      <th>NAME_FAMILY_STATUS</th>\n",
       "      <th>NAME_HOUSING_TYPE</th>\n",
       "      <th>DAYS_BIRTH</th>\n",
       "      <th>DAYS_EMPLOYED</th>\n",
       "      <th>CNT_FAM_MEMBERS</th>\n",
       "      <th>ORGANIZATION_TYPE</th>\n",
       "    </tr>\n",
       "  </thead>\n",
       "  <tbody>\n",
       "    <tr>\n",
       "      <th>0</th>\n",
       "      <td>100003</td>\n",
       "      <td>0</td>\n",
       "      <td>Cash loans</td>\n",
       "      <td>F</td>\n",
       "      <td>0</td>\n",
       "      <td>270000.0</td>\n",
       "      <td>1293502.5</td>\n",
       "      <td>35698.5</td>\n",
       "      <td>State servant</td>\n",
       "      <td>Higher education</td>\n",
       "      <td>Married</td>\n",
       "      <td>House / apartment</td>\n",
       "      <td>16765</td>\n",
       "      <td>1188</td>\n",
       "      <td>2</td>\n",
       "      <td>School</td>\n",
       "    </tr>\n",
       "    <tr>\n",
       "      <th>1</th>\n",
       "      <td>100004</td>\n",
       "      <td>0</td>\n",
       "      <td>Revolving loans</td>\n",
       "      <td>M</td>\n",
       "      <td>0</td>\n",
       "      <td>67500.0</td>\n",
       "      <td>135000.0</td>\n",
       "      <td>6750.0</td>\n",
       "      <td>Working</td>\n",
       "      <td>Secondary</td>\n",
       "      <td>Not Married</td>\n",
       "      <td>House / apartment</td>\n",
       "      <td>19046</td>\n",
       "      <td>225</td>\n",
       "      <td>1</td>\n",
       "      <td>Government</td>\n",
       "    </tr>\n",
       "    <tr>\n",
       "      <th>2</th>\n",
       "      <td>100006</td>\n",
       "      <td>0</td>\n",
       "      <td>Cash loans</td>\n",
       "      <td>F</td>\n",
       "      <td>0</td>\n",
       "      <td>135000.0</td>\n",
       "      <td>312682.5</td>\n",
       "      <td>29686.5</td>\n",
       "      <td>Working</td>\n",
       "      <td>Secondary</td>\n",
       "      <td>Married</td>\n",
       "      <td>House / apartment</td>\n",
       "      <td>19005</td>\n",
       "      <td>3039</td>\n",
       "      <td>2</td>\n",
       "      <td>Business Entity Type 3</td>\n",
       "    </tr>\n",
       "    <tr>\n",
       "      <th>3</th>\n",
       "      <td>100007</td>\n",
       "      <td>0</td>\n",
       "      <td>Cash loans</td>\n",
       "      <td>M</td>\n",
       "      <td>0</td>\n",
       "      <td>121500.0</td>\n",
       "      <td>513000.0</td>\n",
       "      <td>21865.5</td>\n",
       "      <td>Working</td>\n",
       "      <td>Secondary</td>\n",
       "      <td>Not Married</td>\n",
       "      <td>House / apartment</td>\n",
       "      <td>19932</td>\n",
       "      <td>3038</td>\n",
       "      <td>1</td>\n",
       "      <td>Religion</td>\n",
       "    </tr>\n",
       "    <tr>\n",
       "      <th>4</th>\n",
       "      <td>100008</td>\n",
       "      <td>0</td>\n",
       "      <td>Cash loans</td>\n",
       "      <td>M</td>\n",
       "      <td>0</td>\n",
       "      <td>99000.0</td>\n",
       "      <td>490495.5</td>\n",
       "      <td>27517.5</td>\n",
       "      <td>State servant</td>\n",
       "      <td>Secondary</td>\n",
       "      <td>Married</td>\n",
       "      <td>House / apartment</td>\n",
       "      <td>16941</td>\n",
       "      <td>1588</td>\n",
       "      <td>2</td>\n",
       "      <td>Other</td>\n",
       "    </tr>\n",
       "  </tbody>\n",
       "</table>\n",
       "</div>"
      ],
      "text/plain": [
       "   SK_ID_CURR  TARGET NAME_CONTRACT_TYPE CODE_GENDER  CNT_CHILDREN  AMT_INCOME_TOTAL  AMT_CREDIT  AMT_ANNUITY NAME_INCOME_TYPE NAME_EDUCATION_TYPE NAME_FAMILY_STATUS  NAME_HOUSING_TYPE  DAYS_BIRTH  DAYS_EMPLOYED  CNT_FAM_MEMBERS       ORGANIZATION_TYPE\n",
       "0      100003       0         Cash loans           F             0          270000.0   1293502.5      35698.5    State servant    Higher education            Married  House / apartment       16765           1188                2                  School\n",
       "1      100004       0    Revolving loans           M             0           67500.0    135000.0       6750.0          Working           Secondary        Not Married  House / apartment       19046            225                1              Government\n",
       "2      100006       0         Cash loans           F             0          135000.0    312682.5      29686.5          Working           Secondary            Married  House / apartment       19005           3039                2  Business Entity Type 3\n",
       "3      100007       0         Cash loans           M             0          121500.0    513000.0      21865.5          Working           Secondary        Not Married  House / apartment       19932           3038                1                Religion\n",
       "4      100008       0         Cash loans           M             0           99000.0    490495.5      27517.5    State servant           Secondary            Married  House / apartment       16941           1588                2                   Other"
      ]
     },
     "execution_count": 944,
     "metadata": {},
     "output_type": "execute_result"
    }
   ],
   "source": [
    "EDA_Targt.head() # To show various columns"
   ]
  },
  {
   "cell_type": "code",
   "execution_count": 947,
   "metadata": {},
   "outputs": [
    {
     "data": {
      "text/plain": [
       "(307508, 16)"
      ]
     },
     "execution_count": 947,
     "metadata": {},
     "output_type": "execute_result"
    }
   ],
   "source": [
    "EDA_Targt.shape  # To check the shape of the dataframe"
   ]
  },
  {
   "cell_type": "markdown",
   "metadata": {},
   "source": [
    "### Do Univeriate analysis "
   ]
  },
  {
   "cell_type": "code",
   "execution_count": 126,
   "metadata": {
    "scrolled": true
   },
   "outputs": [
    {
     "data": {
      "image/png": "[encoded data removed]",
      "text/plain": [
       "<Figure size 432x360 with 1 Axes>"
      ]
     },
     "metadata": {
      "needs_background": "light"
     },
     "output_type": "display_data"
    }
   ],
   "source": [
    "# To analyze 'TARGET' column whether loan defaulters are more or less ('1' = loan defaulter/did late payments, '0'= for all other case )\n",
    "fig = plt.figure(figsize=(6,5))\n",
    "EDA_App_list['TARGET'].value_counts().plot.barh()\n",
    "plt.title(\"Defaulters/delayed payment, Other Payments Vs Count\\n\", fontdict={'fontsize':18,'fontweight':5,'color':'Green'})\n",
    "plt.xlabel(\"\\nCounts\\n\",fontdict={'fontsize':14,'fontweight':5,'color':'Brown'})\n",
    "#plt.xticks(rotation=90)\n",
    "plt.ylabel(\"Target Values (Defaulter,Others)\\n\",fontdict={'fontsize':14,'fontweight':5,'color':'Brown'})\n",
    "plt.show()"
   ]
  },
  {
   "cell_type": "markdown",
   "metadata": {},
   "source": [
    "### Inferences\n",
    "\n",
    "Inferences : As per the above bargraph loan defaulters are very less than all other cases."
   ]
  },
  {
   "cell_type": "code",
   "execution_count": 123,
   "metadata": {},
   "outputs": [
    {
     "data": {
      "image/png": "[encoded data removed]",
      "text/plain": [
       "<Figure size 432x360 with 1 Axes>"
      ]
     },
     "metadata": {
      "needs_background": "light"
     },
     "output_type": "display_data"
    }
   ],
   "source": [
    "# To show value counts for different Income Types\n",
    "fig = plt.figure(figsize=(6,5))\n",
    "EDA_App_list['NAME_INCOME_TYPE'].value_counts().plot.barh()\n",
    "plt.title(\"Client's Income Type Vs Count\\n\", fontdict={'fontsize':18,'fontweight':5,'color':'Green'})\n",
    "plt.xlabel(\"\\nCounts\\n\",fontdict={'fontsize':14,'fontweight':5,'color':'Brown'})\n",
    "plt.ylabel(\"Client's Income Types\\n(Defaulter/Others)\\n\",fontdict={'fontsize':14,'fontweight':5,'color':'Brown'})\n",
    "plt.show()"
   ]
  },
  {
   "cell_type": "markdown",
   "metadata": {},
   "source": [
    "### Inferences \n",
    "\n",
    "Inferences: Above bargraph shows that maximum people's source of income is job/working and others are Commercial Associate, Pensioner, and State Servant whereas very few are Businessman, Students, Unemployed and are on Meternity leave."
   ]
  },
  {
   "cell_type": "code",
   "execution_count": 124,
   "metadata": {
    "scrolled": true
   },
   "outputs": [
    {
     "data": {
      "image/png": "[encoded data removed]",
      "text/plain": [
       "<Figure size 432x360 with 1 Axes>"
      ]
     },
     "metadata": {
      "needs_background": "light"
     },
     "output_type": "display_data"
    }
   ],
   "source": [
    "# To show the Types of Education\n",
    "fig = plt.figure(figsize=(6,5))\n",
    "EDA_App_list['NAME_EDUCATION_TYPE'].value_counts().plot.barh()\n",
    "plt.title(\"Education Type Vs Count\\n\", fontdict={'fontsize':18,'fontweight':5,'color':'Green'})\n",
    "plt.xlabel(\"\\nCounts\\n\",fontdict={'fontsize':14,'fontweight':5,'color':'Brown'})\n",
    "plt.ylabel(\"Client's Education Types\\n\",fontdict={'fontsize':14,'fontweight':5,'color':'Brown'})\n",
    "plt.show()"
   ]
  },
  {
   "cell_type": "markdown",
   "metadata": {},
   "source": [
    "### Inferences:\n",
    "\n",
    "Inferences: According to the above Bargraph maximum people have done upto Seconday education, whereas very less have done Academic degree."
   ]
  },
  {
   "cell_type": "markdown",
   "metadata": {},
   "source": [
    "### Bivariate/Multivariate Analysis"
   ]
  },
  {
   "cell_type": "code",
   "execution_count": 80,
   "metadata": {},
   "outputs": [
    {
     "data": {
      "image/png": "[encoded data removed]",
      "text/plain": [
       "<Figure size 504x360 with 1 Axes>"
      ]
     },
     "metadata": {
      "needs_background": "light"
     },
     "output_type": "display_data"
    }
   ],
   "source": [
    "# To analyze various income types in relation with the Gender \n",
    "fig = plt.figure(figsize=(7,5))\n",
    "sns.barplot(data=EDA_App_list, x='NAME_INCOME_TYPE', y='AMT_INCOME_TOTAL', hue='CODE_GENDER', ci=None)\n",
    "plt.title(\"Income Type Vs Total Income in terms of Gender\\n\", fontdict={'fontsize':18,'fontweight':5,'color':'Green'})\n",
    "plt.xlabel(\"\\nIncome Type\\n\",fontdict={'fontsize':14,'fontweight':5,'color':'Brown'})\n",
    "plt.xticks(rotation=90)\n",
    "plt.ylabel(\"Total Amount of Income\\n(INR)\\n\",fontdict={'fontsize':14,'fontweight':5,'color':'Brown'})\n",
    "plt.show()"
   ]
  },
  {
   "cell_type": "markdown",
   "metadata": {},
   "source": [
    "### Inferences:\n",
    "\n",
    "Inferences: From above bargraph it is clear that among all the categories of Income Type (axcept 'Unemployed and 'Student') 'Male' has higher Total income than 'Female'.\n"
   ]
  },
  {
   "cell_type": "code",
   "execution_count": 81,
   "metadata": {},
   "outputs": [
    {
     "data": {
      "image/png": "[encoded data removed]",
      "text/plain": [
       "<Figure size 576x360 with 1 Axes>"
      ]
     },
     "metadata": {
      "needs_background": "light"
     },
     "output_type": "display_data"
    }
   ],
   "source": [
    "# To analyze Total Income for Various Income Types in terms of Target\n",
    "fig = plt.figure(figsize=(8,5)) \n",
    "sns.barplot(data=EDA_App_list, x='NAME_INCOME_TYPE', y='AMT_INCOME_TOTAL', hue='TARGET', ci=None)\n",
    "plt.title(\"Income Type Vs Total Income in terms of Target\\n\", fontdict={'fontsize':18,'fontweight':5,'color':'Green'})\n",
    "plt.xlabel(\"\\nIncome Type\\n\",fontdict={'fontsize':14,'fontweight':5,'color':'Brown'})\n",
    "plt.xticks(rotation=90)\n",
    "plt.ylabel(\"Total Amount of Income\\n(INR)\\n\",fontdict={'fontsize':14,'fontweight':5,'color':'Brown'})\n",
    "plt.show()"
   ]
  },
  {
   "cell_type": "markdown",
   "metadata": {},
   "source": [
    "#### Inferences\n",
    "\n",
    "Inferences 1: With the help of above graph it can be seen that there are no people who are businessman and having average income more than INR 600000 are not the loan defaulter / did delayed payment, whereas the people who are Working/Pensioner has equal amount of loan defaulter and other cases.\n",
    "\n",
    "Inferences 2: It means Businessman are less Defaulters / did delayed payment."
   ]
  },
  {
   "cell_type": "code",
   "execution_count": 82,
   "metadata": {},
   "outputs": [
    {
     "data": {
      "image/png": "[encoded data removed]",
      "text/plain": [
       "<Figure size 576x360 with 1 Axes>"
      ]
     },
     "metadata": {
      "needs_background": "light"
     },
     "output_type": "display_data"
    }
   ],
   "source": [
    "# Bar Chart of 'Married, Not Married' people with respect to Total income and are loan defaulter or not\n",
    "fig = plt.figure(figsize=(8,5)) # ORGANIZATION_TYPE, estimator=np.max\n",
    "sns.barplot(data=EDA_App_list, x='NAME_FAMILY_STATUS', y='AMT_INCOME_TOTAL', hue='TARGET', ci=None)\n",
    "plt.title(\"Family Status Vs Total Income in terms of Target\\n\", fontdict={'fontsize':18,'fontweight':5,'color':'Green'})\n",
    "plt.xlabel(\"\\nFamily Status\\n\",fontdict={'fontsize':14,'fontweight':5,'color':'Brown'})\n",
    "plt.ylabel(\"Total Amount of Income\\n(INR)\\n\",fontdict={'fontsize':14,'fontweight':5,'color':'Brown'})\n",
    "plt.show()"
   ]
  },
  {
   "cell_type": "markdown",
   "metadata": {},
   "source": [
    "### Inferences from the above Bar plot:\n",
    "\n",
    "Inference 1: The above Bar Graph is showing that 'Married' people who has good income having less marginal difference between loan defaulter and all other cases.\n",
    "\n",
    "Inference 2: People who are 'Not Married' and having higher income has little less defaulter than Married people.  \n",
    "\n",
    "Inferences 3: It means 'Not Married' people can be preferred over 'Married' people during loan approvals."
   ]
  },
  {
   "cell_type": "code",
   "execution_count": 83,
   "metadata": {
    "scrolled": true
   },
   "outputs": [
    {
     "data": {
      "text/plain": [
       "0     215368\n",
       "1      61119\n",
       "2      26749\n",
       "3       3717\n",
       "4        429\n",
       "5         84\n",
       "6         21\n",
       "7          7\n",
       "14         3\n",
       "19         2\n",
       "12         2\n",
       "10         2\n",
       "9          2\n",
       "8          2\n",
       "11         1\n",
       "Name: CNT_CHILDREN, dtype: int64"
      ]
     },
     "execution_count": 83,
     "metadata": {},
     "output_type": "execute_result"
    }
   ],
   "source": [
    "# To Count no. of childerns \n",
    "EDA_App_list['CNT_CHILDREN'].value_counts()"
   ]
  },
  {
   "cell_type": "code",
   "execution_count": 84,
   "metadata": {},
   "outputs": [
    {
     "data": {
      "image/png": "[encoded data removed]",
      "text/plain": [
       "<Figure size 504x360 with 1 Axes>"
      ]
     },
     "metadata": {
      "needs_background": "light"
     },
     "output_type": "display_data"
    }
   ],
   "source": [
    "# To analyze number of childern for Various Income Types in terms of Target\n",
    "fig = plt.figure(figsize=(7,5)) \n",
    "sns.barplot(data=EDA_App_list, x='CNT_CHILDREN', y='AMT_INCOME_TOTAL', hue='TARGET', ci=None)\n",
    "plt.title(\"Number of Childern Vs Total Income in terms of Target\\n\", fontdict={'fontsize':18,'fontweight':5,'color':'Green'})\n",
    "plt.xlabel(\"\\nNumber of Childern\\n\",fontdict={'fontsize':14,'fontweight':5,'color':'Brown'})\n",
    "plt.xticks(rotation=90)\n",
    "plt.ylabel(\"Total Amount of Income\\n(INR)\\n\",fontdict={'fontsize':14,'fontweight':5,'color':'Brown'})\n",
    "plt.show()"
   ]
  },
  {
   "attachments": {},
   "cell_type": "markdown",
   "metadata": {},
   "source": [
    "### Inferences from the above Bar plot:\n",
    "Inference 1: In most of the cases as number of children increases loan defaulters/delayed payment increases.\n",
    "\n",
    "Inference 2: As Total Income increses number of children increases.\n",
    "\n",
    "Inferences 3: Therefore, if number of children are more loan defaulters/ delayed payment are more, hence for up to 4 children loan defaulters are less. \n",
    "\n",
    "Inferences 4: Bank should avoid giving loan to the people who having more children.  "
   ]
  },
  {
   "cell_type": "code",
   "execution_count": 85,
   "metadata": {},
   "outputs": [
    {
     "data": {
      "image/png": "[encoded data removed]",
      "text/plain": [
       "<Figure size 1440x1440 with 2 Axes>"
      ]
     },
     "metadata": {
      "needs_background": "light"
     },
     "output_type": "display_data"
    }
   ],
   "source": [
    "# Box plot - Amount (Credit/Annuity) Vs Target in terms of Contract Type.\n",
    "%matplotlib inline\n",
    "fig = plt.figure(figsize=(20, 20))\n",
    "fig1 = fig.add_subplot(3, 3, 1)    # For adding subplot side by side\n",
    "sns.boxplot(data=EDA_App_list, x='TARGET', y='AMT_CREDIT', hue=\"NAME_CONTRACT_TYPE\", ax=fig1)\n",
    "plt.title(\"Amount Credit Vs Target\\n\", fontdict={'fontsize':18,'fontweight':5,'color':'Green'})\n",
    "plt.xlabel(\"\\nTARGET\\n\",fontdict={'fontsize':14,'fontweight':5,'color':'Brown'})\n",
    "plt.ylabel(\"AMT_CREDIT\\n\",fontdict={'fontsize':14,'fontweight':5,'color':'Brown'})\n",
    "\n",
    "fig2 = fig.add_subplot(3, 3, 2)    # For adding subplot side by side\n",
    "sns.boxplot(data=EDA_App_list, x='TARGET', y='AMT_ANNUITY', hue=\"NAME_CONTRACT_TYPE\", ax=fig2)\n",
    "plt.title(\"Amount Annuity Vs Target (Defaulter/Others)\\n\", fontdict={'fontsize':18,'fontweight':5,'color':'Green'})\n",
    "plt.xlabel(\"\\nTARGET\\n\",fontdict={'fontsize':14,'fontweight':5,'color':'Brown'})\n",
    "plt.ylabel(\"\\nAMT_ANNUITY\",fontdict={'fontsize':14,'fontweight':5,'color':'Brown'})\n",
    "fig.tight_layout()\n",
    "plt.show()"
   ]
  },
  {
   "cell_type": "markdown",
   "metadata": {},
   "source": [
    "### There are following Inferences from the above Box plots\n",
    "Inference 1: For the client whether they are loan defaulter/ did delayed payment or for all other cases having higher Amount Annuity for Cash loans than Revolving loans.\n",
    "\n",
    "Inference 2: Amount Annuity is equally distributed for Cash loans whether it is loan defaulter/ did delayed payment or for all other cases.\n",
    "\n",
    "Inference 3: For both the Targets Revolving loans maximum is less than the minimum of Cash loans.\n",
    "\n",
    "Inference 4: For both the cases Credit amount and Amount Annuity is equally divided for Cash loans whereas, Revolving loan's upper half is higher in both the Targets. "
   ]
  },
  {
   "cell_type": "code",
   "execution_count": 86,
   "metadata": {},
   "outputs": [
    {
     "data": {
      "image/png": "[encoded data removed]",
      "text/plain": [
       "<Figure size 2880x2880 with 4 Axes>"
      ]
     },
     "metadata": {
      "needs_background": "light"
     },
     "output_type": "display_data"
    }
   ],
   "source": [
    "## Amount types Heatmap plot.....\n",
    "Income_Bucket = EDA_App_list.groupby('ORGANIZATION_TYPE')['AMT_INCOME_TOTAL','AMT_CREDIT','AMT_ANNUITY'].mean()\n",
    "fig = plt.figure(figsize=(40,40))\n",
    "fig1 = fig.add_subplot(3, 3, 1)    # For adding subplot side by side\n",
    "sns.heatmap(Income_Bucket, cmap=\"RdYlGn\", annot=True, ax=fig1)\n",
    "plt.title(\"Organization Types Vs Different Amounts\\n\", fontdict={'fontsize':22,'fontweight':5,'color':'Green'})\n",
    "plt.xlabel(\"\\nAmount Totals\\n\",fontdict={'fontsize':18,'fontweight':8,'color':'Brown'})\n",
    "plt.xticks(rotation=90)\n",
    "plt.ylabel(\"Organization Types\",fontdict={'fontsize':18,'fontweight':8,'color':'Brown'})\n",
    "\n",
    "\n",
    "## Days Types Heatmap plot.....\n",
    "Income_Bucket = EDA_App_list.groupby('ORGANIZATION_TYPE')['DAYS_BIRTH','DAYS_EMPLOYED'].mean()\n",
    "fig2 = fig.add_subplot(3, 3, 2)    # For adding subplot side by side\n",
    "sns.heatmap(Income_Bucket, cmap=\"RdYlGn\", annot=True, ax=fig2)\n",
    "plt.title(\"Organization Types Vs Different Days\\n\", fontdict={'fontsize':22,'fontweight':5,'color':'Green'})\n",
    "plt.xlabel(\"\\nNumber of Days\\n\",fontdict={'fontsize':18,'fontweight':8,'color':'Brown'})\n",
    "plt.xticks(rotation=90)\n",
    "plt.ylabel(\"\\n\\nOrganization Types\",fontdict={'fontsize':18,'fontweight':8,'color':'Brown'})\n",
    "plt.show()"
   ]
  },
  {
   "cell_type": "markdown",
   "metadata": {},
   "source": [
    "### There are following Inferences from the above Heatmap\n",
    "\n",
    "Inference 1: Although Maximum Organization Type for the 'legal services' is in medicore range still maximum Credit amount of the loan is for the same Organization Type ('Legal Services') whereas Amount Annuity is less than 100000 for all the Organization Types. \n",
    "\n",
    "Inference 2: Maximum number of days employed at the time of loan are for the Organiztion type 'Business Entity Type 3'.\n"
   ]
  },
  {
   "cell_type": "code",
   "execution_count": 117,
   "metadata": {},
   "outputs": [],
   "source": [
    "# To find out Correlation among various variables of dataset for Target 0 (All other Cases)\n",
    "EDA_Targt0_corr = EDA_Targt0.iloc[:,2:]\n",
    "EDA_Targt0_corr_2 = EDA_Targt0_corr.corr(method='pearson', min_periods=1)"
   ]
  },
  {
   "cell_type": "code",
   "execution_count": 118,
   "metadata": {},
   "outputs": [],
   "source": [
    "# To find out Correlation among various variables of dataset for Target 1 (loan defaulter/ Delayed Payment)\n",
    "EDA_Targt1_corr = EDA_Targt1.iloc[:,2:]\n",
    "EDA_Targt1_corr_2 = EDA_Targt1_corr.corr(method='pearson', min_periods=1)"
   ]
  },
  {
   "cell_type": "code",
   "execution_count": 119,
   "metadata": {},
   "outputs": [
    {
     "data": {
      "image/png": "[encoded data removed]",
      "text/plain": [
       "<Figure size 2880x2160 with 4 Axes>"
      ]
     },
     "metadata": {
      "needs_background": "light"
     },
     "output_type": "display_data"
    }
   ],
   "source": [
    "# Heatmap to show coorelation among all the numeric variables for both the cases.\n",
    "fig = plt.figure(figsize=(40,30))\n",
    "fig1 = fig.add_subplot(3, 3, 1)    # For adding subplot side by side\n",
    "sns.heatmap(EDA_Targt1_corr_2, cmap=\"RdYlGn\", annot=True, ax=fig1)\n",
    "plt.title(\"Correlation among Various Numerical Data for loan defaulters\\n\", fontdict={'fontsize':22,'fontweight':5,'color':'Green'})\n",
    "plt.xlabel(\"\\nVarious Numerical Variables\\n\",fontdict={'fontsize':18,'fontweight':8,'color':'Brown'})\n",
    "plt.xticks(rotation=90)\n",
    "plt.ylabel(\"Various Numerical Variables\\n\",fontdict={'fontsize':18,'fontweight':8,'color':'Brown'})\n",
    "#plt.show()\n",
    "\n",
    "fig2 = fig.add_subplot(3, 3, 2)    # For adding subplot side by side\n",
    "sns.heatmap(EDA_Targt0_corr_2, cmap=\"RdYlGn\", annot=True, ax=fig2)\n",
    "plt.title(\"Correlation among Various Numerical Data for All other cases\\n\", fontdict={'fontsize':22,'fontweight':5,'color':'Green'})\n",
    "plt.xlabel(\"\\nVarious Numerical Variables\\n\",fontdict={'fontsize':18,'fontweight':8,'color':'Brown'})\n",
    "plt.xticks(rotation=90)\n",
    "plt.ylabel(\"\\nVarious Numerical Variables\\n\",fontdict={'fontsize':18,'fontweight':8,'color':'Brown'})\n",
    "plt.show()\n"
   ]
  },
  {
   "cell_type": "markdown",
   "metadata": {},
   "source": [
    "### Inferences:\n",
    "\n",
    "Target 1: For loan defaulters/ delayed payments\n",
    "\n",
    "Target 0: For all other cases.\n",
    "\n",
    "Inferences 1: No. of Children and total family members count are porportionate with each other for both the cases, therefore more no. of Children means more no. of family members and less total income.\n",
    "\n",
    "Inferences 2: Total income amount and Credit income is inversaly proportional to no. of children, therefore less total income, credit amount for more number of children but this ratio is little better for 'Target 0' instead of 'Target 1'.\n",
    "\n",
    "Inferences 3: For both the cases 'Amount Annuity' is inversaly proportional to Days Employed, therefore Amount Annuity is less for more no. of days employed. \n",
    "\n",
    "Inferences 4: For maximum variable like Total Income, Credit Amount, Amount Annuity value is higher for 'Target0' with respect to 'Target1'. "
   ]
  },
  {
   "cell_type": "markdown",
   "metadata": {},
   "source": [
    "### End of the Analysis for the 'Application-Data' set"
   ]
  },
  {
   "cell_type": "markdown",
   "metadata": {},
   "source": [
    "\n",
    "\n"
   ]
  }
 ],
 "metadata": {
  "kernelspec": {
   "display_name": "Python 3",
   "language": "python",
   "name": "python3"
  },
  "language_info": {
   "codemirror_mode": {
    "name": "ipython",
    "version": 3
   },
   "file_extension": ".py",
   "mimetype": "text/x-python",
   "name": "python",
   "nbconvert_exporter": "python",
   "pygments_lexer": "ipython3",
   "version": "3.8.5"
  }
 },
 "nbformat": 4,
 "nbformat_minor": 2
}
